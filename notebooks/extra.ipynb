{
 "cells": [
  {
   "cell_type": "code",
   "execution_count": 1,
   "metadata": {},
   "outputs": [
    {
     "name": "stderr",
     "output_type": "stream",
     "text": [
      "21/11/27 18:13:48 WARN Utils: Your hostname, pasokon resolves to a loopback address: 127.0.1.1; using 192.168.1.96 instead (on interface wlo1)\n",
      "21/11/27 18:13:48 WARN Utils: Set SPARK_LOCAL_IP if you need to bind to another address\n",
      "WARNING: An illegal reflective access operation has occurred\n",
      "WARNING: Illegal reflective access by org.apache.spark.unsafe.Platform (file:/home/william/.local/lib/python3.8/site-packages/pyspark/jars/spark-unsafe_2.12-3.1.2.jar) to constructor java.nio.DirectByteBuffer(long,int)\n",
      "WARNING: Please consider reporting this to the maintainers of org.apache.spark.unsafe.Platform\n",
      "WARNING: Use --illegal-access=warn to enable warnings of further illegal reflective access operations\n",
      "WARNING: All illegal access operations will be denied in a future release\n",
      "21/11/27 18:13:49 WARN NativeCodeLoader: Unable to load native-hadoop library for your platform... using builtin-java classes where applicable\n",
      "Using Spark's default log4j profile: org/apache/spark/log4j-defaults.properties\n",
      "Setting default log level to \"WARN\".\n",
      "To adjust logging level use sc.setLogLevel(newLevel). For SparkR, use setLogLevel(newLevel).\n",
      "21/11/27 18:13:51 WARN Utils: Service 'SparkUI' could not bind on port 4040. Attempting port 4041.\n"
     ]
    }
   ],
   "source": [
    "import seaborn as sns\n",
    "import matplotlib.pyplot as plt\n",
    "colors = sns.color_palette('viridis')\n",
    "\n",
    "import numpy as np\n",
    "np.set_printoptions(suppress=True)\n",
    "\n",
    "from pyspark import SparkContext\n",
    "from table import Table\n",
    "\n",
    "# start spark with 1 worker thread\n",
    "sc = SparkContext(\"local[*]\")\n",
    "sc.setLogLevel(\"ERROR\")"
   ]
  },
  {
   "cell_type": "markdown",
   "metadata": {},
   "source": [
    "## study of scaling\n",
    "\n",
    "hypothesis: the `event_type` field in *`machine_events`*\n",
    "* *ADD (0)*: a machine became available to the cluster - all machines in the trace will have an ADD event.\n",
    "* *REMOVE (1)*: a machine was removed from the cluster. Removals can occur due to failures or maintenance.\n",
    "* *UPDATE (2)*: a machine available to the cluster had its available resources changed."
   ]
  },
  {
   "cell_type": "code",
   "execution_count": 3,
   "metadata": {},
   "outputs": [
    {
     "name": "stderr",
     "output_type": "stream",
     "text": []
    },
    {
     "data": {
      "text/html": [
       "<div>\n",
       "<style scoped>\n",
       "    .dataframe tbody tr th:only-of-type {\n",
       "        vertical-align: middle;\n",
       "    }\n",
       "\n",
       "    .dataframe tbody tr th {\n",
       "        vertical-align: top;\n",
       "    }\n",
       "\n",
       "    .dataframe thead th {\n",
       "        text-align: right;\n",
       "    }\n",
       "</style>\n",
       "<table border=\"1\" class=\"dataframe\">\n",
       "  <thead>\n",
       "    <tr style=\"text-align: right;\">\n",
       "      <th></th>\n",
       "      <th>time</th>\n",
       "      <th>machine_id</th>\n",
       "      <th>event_type</th>\n",
       "      <th>platform_id</th>\n",
       "      <th>cpus</th>\n",
       "      <th>memory</th>\n",
       "    </tr>\n",
       "  </thead>\n",
       "  <tbody>\n",
       "    <tr>\n",
       "      <th>0</th>\n",
       "      <td>0</td>\n",
       "      <td>5</td>\n",
       "      <td>0</td>\n",
       "      <td>HofLGzk1Or/8Ildj2+Lqv0UGGvY82NLoni8+J/Yy0RU=</td>\n",
       "      <td>0.5</td>\n",
       "      <td>0.2493</td>\n",
       "    </tr>\n",
       "    <tr>\n",
       "      <th>1</th>\n",
       "      <td>0</td>\n",
       "      <td>6</td>\n",
       "      <td>0</td>\n",
       "      <td>HofLGzk1Or/8Ildj2+Lqv0UGGvY82NLoni8+J/Yy0RU=</td>\n",
       "      <td>0.5</td>\n",
       "      <td>0.2493</td>\n",
       "    </tr>\n",
       "    <tr>\n",
       "      <th>2</th>\n",
       "      <td>0</td>\n",
       "      <td>7</td>\n",
       "      <td>0</td>\n",
       "      <td>HofLGzk1Or/8Ildj2+Lqv0UGGvY82NLoni8+J/Yy0RU=</td>\n",
       "      <td>0.5</td>\n",
       "      <td>0.2493</td>\n",
       "    </tr>\n",
       "    <tr>\n",
       "      <th>3</th>\n",
       "      <td>0</td>\n",
       "      <td>10</td>\n",
       "      <td>0</td>\n",
       "      <td>HofLGzk1Or/8Ildj2+Lqv0UGGvY82NLoni8+J/Yy0RU=</td>\n",
       "      <td>0.5</td>\n",
       "      <td>0.2493</td>\n",
       "    </tr>\n",
       "    <tr>\n",
       "      <th>4</th>\n",
       "      <td>0</td>\n",
       "      <td>13</td>\n",
       "      <td>0</td>\n",
       "      <td>HofLGzk1Or/8Ildj2+Lqv0UGGvY82NLoni8+J/Yy0RU=</td>\n",
       "      <td>0.5</td>\n",
       "      <td>0.2493</td>\n",
       "    </tr>\n",
       "  </tbody>\n",
       "</table>\n",
       "</div>"
      ],
      "text/plain": [
       "  time machine_id event_type                                   platform_id  \\\n",
       "0    0          5          0  HofLGzk1Or/8Ildj2+Lqv0UGGvY82NLoni8+J/Yy0RU=   \n",
       "1    0          6          0  HofLGzk1Or/8Ildj2+Lqv0UGGvY82NLoni8+J/Yy0RU=   \n",
       "2    0          7          0  HofLGzk1Or/8Ildj2+Lqv0UGGvY82NLoni8+J/Yy0RU=   \n",
       "3    0         10          0  HofLGzk1Or/8Ildj2+Lqv0UGGvY82NLoni8+J/Yy0RU=   \n",
       "4    0         13          0  HofLGzk1Or/8Ildj2+Lqv0UGGvY82NLoni8+J/Yy0RU=   \n",
       "\n",
       "  cpus  memory  \n",
       "0  0.5  0.2493  \n",
       "1  0.5  0.2493  \n",
       "2  0.5  0.2493  \n",
       "3  0.5  0.2493  \n",
       "4  0.5  0.2493  "
      ]
     },
     "execution_count": 3,
     "metadata": {},
     "output_type": "execute_result"
    }
   ],
   "source": [
    "me = Table('machine_events', sc)\n",
    "me.pprint(5)"
   ]
  },
  {
   "cell_type": "code",
   "execution_count": 4,
   "metadata": {},
   "outputs": [
    {
     "data": {
      "text/plain": [
       "[('5', 0), ('6', 0), ('7', 0), ('10', 0), ('13', 0)]"
      ]
     },
     "execution_count": 4,
     "metadata": {},
     "output_type": "execute_result"
    }
   ],
   "source": [
    "#machine_events RDD\n",
    "me_rdd = me.select(['machine_id','event_type']).map(lambda x: (x[0], int(x[1])))\n",
    "me_rdd.take(5)"
   ]
  },
  {
   "cell_type": "code",
   "execution_count": 34,
   "metadata": {},
   "outputs": [],
   "source": [
    "import re\n",
    "mzo = me_rdd.groupByKey().mapValues(list)\\\n",
    "      .mapValues(lambda x: ''.join(str(y) for y in x))\\\n",
    "      .filter(lambda x: (re.match(r'^(01)*[01]?$', x[1])))\n",
    "mnzo = me_rdd.groupByKey().mapValues(list)\\\n",
    "      .mapValues(lambda x: ''.join(str(y) for y in x))\\\n",
    "      .filter(lambda x: re.match(r'^(01)*[01]?$', x[1]) is None)\n",
    "      \n",
    "assert me_rdd.groupByKey().count() == mzo.count() + mnzo.count()"
   ]
  },
  {
   "cell_type": "code",
   "execution_count": 8,
   "metadata": {},
   "outputs": [
    {
     "name": "stderr",
     "output_type": "stream",
     "text": []
    },
    {
     "data": {
      "text/html": [
       "<div>\n",
       "<style scoped>\n",
       "    .dataframe tbody tr th:only-of-type {\n",
       "        vertical-align: middle;\n",
       "    }\n",
       "\n",
       "    .dataframe tbody tr th {\n",
       "        vertical-align: top;\n",
       "    }\n",
       "\n",
       "    .dataframe thead th {\n",
       "        text-align: right;\n",
       "    }\n",
       "</style>\n",
       "<table border=\"1\" class=\"dataframe\">\n",
       "  <thead>\n",
       "    <tr style=\"text-align: right;\">\n",
       "      <th></th>\n",
       "      <th>time</th>\n",
       "      <th>missing_info</th>\n",
       "      <th>job_id</th>\n",
       "      <th>task_index</th>\n",
       "      <th>machine_id</th>\n",
       "      <th>event_type</th>\n",
       "      <th>user</th>\n",
       "      <th>scheduling_class</th>\n",
       "      <th>priority</th>\n",
       "      <th>cpu_request</th>\n",
       "      <th>memory_request</th>\n",
       "      <th>disk_space_request</th>\n",
       "      <th>different_machines_restriction</th>\n",
       "    </tr>\n",
       "  </thead>\n",
       "  <tbody>\n",
       "    <tr>\n",
       "      <th>0</th>\n",
       "      <td>0</td>\n",
       "      <td>2</td>\n",
       "      <td>3418309</td>\n",
       "      <td>0</td>\n",
       "      <td>4155527081</td>\n",
       "      <td>0</td>\n",
       "      <td>70s3v5qRyCO/1PCdI6fVXnrW8FU/w+5CKRSa72xgcIo=</td>\n",
       "      <td>3</td>\n",
       "      <td>9</td>\n",
       "      <td>NA</td>\n",
       "      <td>NA</td>\n",
       "      <td>NA</td>\n",
       "      <td>NA</td>\n",
       "    </tr>\n",
       "    <tr>\n",
       "      <th>1</th>\n",
       "      <td>0</td>\n",
       "      <td>2</td>\n",
       "      <td>3418309</td>\n",
       "      <td>1</td>\n",
       "      <td>329150663</td>\n",
       "      <td>0</td>\n",
       "      <td>70s3v5qRyCO/1PCdI6fVXnrW8FU/w+5CKRSa72xgcIo=</td>\n",
       "      <td>3</td>\n",
       "      <td>9</td>\n",
       "      <td>NA</td>\n",
       "      <td>NA</td>\n",
       "      <td>NA</td>\n",
       "      <td>NA</td>\n",
       "    </tr>\n",
       "    <tr>\n",
       "      <th>2</th>\n",
       "      <td>0</td>\n",
       "      <td>NA</td>\n",
       "      <td>3418314</td>\n",
       "      <td>0</td>\n",
       "      <td>3938719206</td>\n",
       "      <td>0</td>\n",
       "      <td>70s3v5qRyCO/1PCdI6fVXnrW8FU/w+5CKRSa72xgcIo=</td>\n",
       "      <td>3</td>\n",
       "      <td>9</td>\n",
       "      <td>0.125</td>\n",
       "      <td>0.07446</td>\n",
       "      <td>0.0004244</td>\n",
       "      <td>0</td>\n",
       "    </tr>\n",
       "    <tr>\n",
       "      <th>3</th>\n",
       "      <td>0</td>\n",
       "      <td>NA</td>\n",
       "      <td>3418314</td>\n",
       "      <td>1</td>\n",
       "      <td>351618647</td>\n",
       "      <td>0</td>\n",
       "      <td>70s3v5qRyCO/1PCdI6fVXnrW8FU/w+5CKRSa72xgcIo=</td>\n",
       "      <td>3</td>\n",
       "      <td>9</td>\n",
       "      <td>0.125</td>\n",
       "      <td>0.07446</td>\n",
       "      <td>0.0004244</td>\n",
       "      <td>0</td>\n",
       "    </tr>\n",
       "    <tr>\n",
       "      <th>4</th>\n",
       "      <td>0</td>\n",
       "      <td>2</td>\n",
       "      <td>3418319</td>\n",
       "      <td>0</td>\n",
       "      <td>431052910</td>\n",
       "      <td>0</td>\n",
       "      <td>70s3v5qRyCO/1PCdI6fVXnrW8FU/w+5CKRSa72xgcIo=</td>\n",
       "      <td>3</td>\n",
       "      <td>9</td>\n",
       "      <td>NA</td>\n",
       "      <td>NA</td>\n",
       "      <td>NA</td>\n",
       "      <td>NA</td>\n",
       "    </tr>\n",
       "  </tbody>\n",
       "</table>\n",
       "</div>"
      ],
      "text/plain": [
       "  time missing_info   job_id task_index  machine_id event_type  \\\n",
       "0    0            2  3418309          0  4155527081          0   \n",
       "1    0            2  3418309          1   329150663          0   \n",
       "2    0           NA  3418314          0  3938719206          0   \n",
       "3    0           NA  3418314          1   351618647          0   \n",
       "4    0            2  3418319          0   431052910          0   \n",
       "\n",
       "                                           user scheduling_class priority  \\\n",
       "0  70s3v5qRyCO/1PCdI6fVXnrW8FU/w+5CKRSa72xgcIo=                3        9   \n",
       "1  70s3v5qRyCO/1PCdI6fVXnrW8FU/w+5CKRSa72xgcIo=                3        9   \n",
       "2  70s3v5qRyCO/1PCdI6fVXnrW8FU/w+5CKRSa72xgcIo=                3        9   \n",
       "3  70s3v5qRyCO/1PCdI6fVXnrW8FU/w+5CKRSa72xgcIo=                3        9   \n",
       "4  70s3v5qRyCO/1PCdI6fVXnrW8FU/w+5CKRSa72xgcIo=                3        9   \n",
       "\n",
       "  cpu_request memory_request disk_space_request different_machines_restriction  \n",
       "0          NA             NA                 NA                             NA  \n",
       "1          NA             NA                 NA                             NA  \n",
       "2       0.125        0.07446          0.0004244                              0  \n",
       "3       0.125        0.07446          0.0004244                              0  \n",
       "4          NA             NA                 NA                             NA  "
      ]
     },
     "execution_count": 8,
     "metadata": {},
     "output_type": "execute_result"
    }
   ],
   "source": [
    "te = Table('task_events', sc)\n",
    "te.pprint(5)"
   ]
  },
  {
   "cell_type": "code",
   "execution_count": 12,
   "metadata": {},
   "outputs": [
    {
     "name": "stderr",
     "output_type": "stream",
     "text": []
    },
    {
     "data": {
      "text/plain": [
       "450146"
      ]
     },
     "execution_count": 12,
     "metadata": {},
     "output_type": "execute_result"
    }
   ],
   "source": [
    "te.rdd.count()"
   ]
  },
  {
   "cell_type": "code",
   "execution_count": 36,
   "metadata": {},
   "outputs": [],
   "source": [
    "te_rdd = te.select(\n",
    "    ['machine_id','job_id', 'task_index','scheduling_class',\n",
    "     'priority','cpu_request','memory_request','disk_space_request'])\n",
    "te_mzo = mzo.join(te_rdd)\n",
    "te_mnzo = mnzo.join(te_rdd)"
   ]
  },
  {
   "cell_type": "code",
   "execution_count": 44,
   "metadata": {},
   "outputs": [
    {
     "data": {
      "text/plain": [
       "330575"
      ]
     },
     "execution_count": 44,
     "metadata": {},
     "output_type": "execute_result"
    }
   ],
   "source": [
    "te_mzo.count() + te_mnzo.count()"
   ]
  }
 ],
 "metadata": {
  "interpreter": {
   "hash": "916dbcbb3f70747c44a77c7bcd40155683ae19c65e1c03b4aa3499c5328201f1"
  },
  "kernelspec": {
   "display_name": "Python 3.8.10 64-bit",
   "language": "python",
   "name": "python3"
  },
  "language_info": {
   "codemirror_mode": {
    "name": "ipython",
    "version": 3
   },
   "file_extension": ".py",
   "mimetype": "text/x-python",
   "name": "python",
   "nbconvert_exporter": "python",
   "pygments_lexer": "ipython3",
   "version": "3.8.10"
  },
  "orig_nbformat": 4
 },
 "nbformat": 4,
 "nbformat_minor": 2
}
