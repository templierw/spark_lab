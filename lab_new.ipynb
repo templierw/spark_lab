{
 "cells": [
  {
   "cell_type": "markdown",
   "metadata": {},
   "source": [
    "# Analyzing Data with Spark\n",
    "\n",
    "AUBRIOT, Vincent\n",
    "TEMPLIER, William\n",
    "\n",
    "##  Overview\n",
    "\n",
    "This notebook contains our analysis proposition for the LSDM project, that focuses on a dataset published by Google that contains activity and configuration information for 12.5k servers, over a long activity period (29 days).\n",
    "\n",
    "During our study, we first focused on basic questions, in order to extract useful metrics and get used to how Spark works and what functions we can use to complete each task. Then, we proposed an extension.\n",
    "\n",
    "## Basic analysis\n",
    "\n",
    "We start by importing useful librairies, and launching pyspark."
   ]
  },
  {
   "cell_type": "code",
   "execution_count": 2,
   "metadata": {},
   "outputs": [
    {
     "name": "stderr",
     "output_type": "stream",
     "text": [
      "22/01/11 18:58:02 WARN Utils: Your hostname, pasokon resolves to a loopback address: 127.0.1.1; using 192.168.1.96 instead (on interface wlo1)\n",
      "22/01/11 18:58:02 WARN Utils: Set SPARK_LOCAL_IP if you need to bind to another address\n",
      "WARNING: An illegal reflective access operation has occurred\n",
      "WARNING: Illegal reflective access by org.apache.spark.unsafe.Platform (file:/home/william/.local/lib/python3.8/site-packages/pyspark/jars/spark-unsafe_2.12-3.1.2.jar) to constructor java.nio.DirectByteBuffer(long,int)\n",
      "WARNING: Please consider reporting this to the maintainers of org.apache.spark.unsafe.Platform\n",
      "WARNING: Use --illegal-access=warn to enable warnings of further illegal reflective access operations\n",
      "WARNING: All illegal access operations will be denied in a future release\n",
      "22/01/11 18:58:03 WARN NativeCodeLoader: Unable to load native-hadoop library for your platform... using builtin-java classes where applicable\n",
      "Using Spark's default log4j profile: org/apache/spark/log4j-defaults.properties\n",
      "Setting default log level to \"WARN\".\n",
      "To adjust logging level use sc.setLogLevel(newLevel). For SparkR, use setLogLevel(newLevel).\n"
     ]
    }
   ],
   "source": [
    "# Libraries for Visualization\n",
    "import seaborn as sns\n",
    "import matplotlib.pyplot as plt\n",
    "colors = sns.color_palette('viridis')\n",
    "\n",
    "# Parameters for the visualizations\n",
    "plt.rcParams['figure.figsize'] = [12, 8]\n",
    "plt.rcParams['figure.dpi'] = 100\n",
    "\n",
    "# For easy computation over certain datasets\n",
    "import numpy as np\n",
    "\n",
    "# Pyspark utilities\n",
    "import pyspark.sql.functions as F\n",
    "\n",
    "# Execution mode:\n",
    "# Cluster = -1\n",
    "# Local >= 1 (i.e., number of files to load)\n",
    "EXEC_MODE = 1\n",
    "# ratio of data to use (1.0 = full dataset)\n",
    "sample = 1.0\n",
    "\n",
    "# TODO\n",
    "from lib import *\n",
    "\n",
    "# start spark with 1 worker thread\n",
    "sc = init()\n",
    "sc.setLogLevel(\"ERROR\")"
   ]
  },
  {
   "cell_type": "markdown",
   "metadata": {},
   "source": [
    "### What is the distribution of the machines according to their CPU capacity?\n",
    "\n",
    "We first load the \"machine events\" file, as it contains information about all of the machines available in the system.\n",
    "The goal is to count all occurences of each value recorded for the cpu, and from this, to output the global distribution of the CPU capacity for the entire system.\n",
    "\n",
    "To load the file, we use a custom class which, from a given file, creates a RDD using the current spark context.\n",
    "A partial output is done to confirm that we indeed have the information we need."
   ]
  },
  {
   "cell_type": "code",
   "execution_count": 2,
   "metadata": {},
   "outputs": [
    {
     "name": "stderr",
     "output_type": "stream",
     "text": [
      "                                                                                \r"
     ]
    },
    {
     "data": {
      "text/html": [
       "<div>\n",
       "<style scoped>\n",
       "    .dataframe tbody tr th:only-of-type {\n",
       "        vertical-align: middle;\n",
       "    }\n",
       "\n",
       "    .dataframe tbody tr th {\n",
       "        vertical-align: top;\n",
       "    }\n",
       "\n",
       "    .dataframe thead th {\n",
       "        text-align: right;\n",
       "    }\n",
       "</style>\n",
       "<table border=\"1\" class=\"dataframe\">\n",
       "  <thead>\n",
       "    <tr style=\"text-align: right;\">\n",
       "      <th></th>\n",
       "      <th>time</th>\n",
       "      <th>machine_id</th>\n",
       "      <th>event_type</th>\n",
       "      <th>platform_id</th>\n",
       "      <th>cpus</th>\n",
       "      <th>memory</th>\n",
       "    </tr>\n",
       "  </thead>\n",
       "  <tbody>\n",
       "    <tr>\n",
       "      <th>0</th>\n",
       "      <td>0</td>\n",
       "      <td>5</td>\n",
       "      <td>0</td>\n",
       "      <td>HofLGzk1Or/8Ildj2+Lqv0UGGvY82NLoni8+J/Yy0RU=</td>\n",
       "      <td>0.5</td>\n",
       "      <td>0.2493</td>\n",
       "    </tr>\n",
       "    <tr>\n",
       "      <th>1</th>\n",
       "      <td>0</td>\n",
       "      <td>6</td>\n",
       "      <td>0</td>\n",
       "      <td>HofLGzk1Or/8Ildj2+Lqv0UGGvY82NLoni8+J/Yy0RU=</td>\n",
       "      <td>0.5</td>\n",
       "      <td>0.2493</td>\n",
       "    </tr>\n",
       "    <tr>\n",
       "      <th>2</th>\n",
       "      <td>0</td>\n",
       "      <td>7</td>\n",
       "      <td>0</td>\n",
       "      <td>HofLGzk1Or/8Ildj2+Lqv0UGGvY82NLoni8+J/Yy0RU=</td>\n",
       "      <td>0.5</td>\n",
       "      <td>0.2493</td>\n",
       "    </tr>\n",
       "    <tr>\n",
       "      <th>3</th>\n",
       "      <td>0</td>\n",
       "      <td>10</td>\n",
       "      <td>0</td>\n",
       "      <td>HofLGzk1Or/8Ildj2+Lqv0UGGvY82NLoni8+J/Yy0RU=</td>\n",
       "      <td>0.5</td>\n",
       "      <td>0.2493</td>\n",
       "    </tr>\n",
       "    <tr>\n",
       "      <th>4</th>\n",
       "      <td>0</td>\n",
       "      <td>13</td>\n",
       "      <td>0</td>\n",
       "      <td>HofLGzk1Or/8Ildj2+Lqv0UGGvY82NLoni8+J/Yy0RU=</td>\n",
       "      <td>0.5</td>\n",
       "      <td>0.2493</td>\n",
       "    </tr>\n",
       "  </tbody>\n",
       "</table>\n",
       "</div>"
      ],
      "text/plain": [
       "  time machine_id event_type                                   platform_id  \\\n",
       "0    0          5          0  HofLGzk1Or/8Ildj2+Lqv0UGGvY82NLoni8+J/Yy0RU=   \n",
       "1    0          6          0  HofLGzk1Or/8Ildj2+Lqv0UGGvY82NLoni8+J/Yy0RU=   \n",
       "2    0          7          0  HofLGzk1Or/8Ildj2+Lqv0UGGvY82NLoni8+J/Yy0RU=   \n",
       "3    0         10          0  HofLGzk1Or/8Ildj2+Lqv0UGGvY82NLoni8+J/Yy0RU=   \n",
       "4    0         13          0  HofLGzk1Or/8Ildj2+Lqv0UGGvY82NLoni8+J/Yy0RU=   \n",
       "\n",
       "  cpus  memory  \n",
       "0  0.5  0.2493  \n",
       "1  0.5  0.2493  \n",
       "2  0.5  0.2493  \n",
       "3  0.5  0.2493  \n",
       "4  0.5  0.2493  "
      ]
     },
     "execution_count": 2,
     "metadata": {},
     "output_type": "execute_result"
    }
   ],
   "source": [
    "# Get the machine_events table from the GCloud bucket and use it with spark\n",
    "machine_events = Table('machine_events', sc, EXEC_MODE, sample)\n",
    "machine_events.pprint(take=5)"
   ]
  },
  {
   "cell_type": "markdown",
   "metadata": {},
   "source": [
    "We could confirm that the output contains the `cpus` property that interests us for each machine. We now compute the global distribution, and we visualize it as a pie chart."
   ]
  },
  {
   "cell_type": "code",
   "execution_count": 3,
   "metadata": {},
   "outputs": [
    {
     "name": "stdout",
     "output_type": "stream",
     "text": [
      "Distribution of the machines according to their CPU capacity:\n",
      "\tCPU type: 0.5, count: 35015\n",
      "\tCPU type: 0.25, count: 510\n",
      "\tCPU type: 1, count: 2223\n",
      "\tCPU type: NA, count: 32\n"
     ]
    }
   ],
   "source": [
    "# Count the number of occurences for each unique value found in the cpus field, and print it\n",
    "cpu_dist = machine_events.select(['cpus']).countByValue()\n",
    "print(\"Distribution of the machines according to their CPU capacity:\")\n",
    "for cpu_type, value in cpu_dist.items():\n",
    "    print(f'\\tCPU type: {cpu_type[0]}, count: {value}')"
   ]
  },
  {
   "cell_type": "code",
   "execution_count": 4,
   "metadata": {},
   "outputs": [
    {
     "data": {
      "image/png": "[encoded data removed]",
      "text/plain": [
       "<Figure size 1200x800 with 1 Axes>"
      ]
     },
     "metadata": {},
     "output_type": "display_data"
    }
   ],
   "source": [
    "# Show it as a pie chart to have a clear representation of the cpus distribution across the entire set of machines\n",
    "plt.pie(cpu_dist.values(), labels=cpu_dist.keys(), colors = colors, autopct='%.2f%%')\n",
    "plt.show()"
   ]
  },
  {
   "cell_type": "markdown",
   "metadata": {},
   "source": [
    "From the visualization shown above, we see that a large majority of the machines is using what would be called an \"average\" CPU (around 92 to 93% of the entire set). The remaining is mostly using a higher-end CPU (5 to 6%), and around 1% have a lower-end CPU. The data are missing for a few machines."
   ]
  },
  {
   "cell_type": "markdown",
   "metadata": {},
   "source": [
    "## Dataframe version"
   ]
  },
  {
   "cell_type": "code",
   "execution_count": 6,
   "metadata": {},
   "outputs": [
    {
     "name": "stdout",
     "output_type": "stream",
     "text": [
      "Will download at most 1 file(s) from machine_events.\n",
      "Polling bucket gs://clusterdata-2011-2/machine_events\n",
      "Dowloading [/part-00000-of-00001.csv.gz]\n",
      "Successfully downloaded table [machine_events] (1/1).\n"
     ]
    },
    {
     "name": "stderr",
     "output_type": "stream",
     "text": [
      "[Stage 11:================================================>       (65 + 6) / 75]\r"
     ]
    },
    {
     "name": "stdout",
     "output_type": "stream",
     "text": [
      "+----+-----+\n",
      "|cpus|count|\n",
      "+----+-----+\n",
      "|0.25|  510|\n",
      "|  NA|   32|\n",
      "| 0.5|35015|\n",
      "|   1| 2223|\n",
      "+----+-----+\n",
      "\n"
     ]
    },
    {
     "name": "stderr",
     "output_type": "stream",
     "text": [
      "                                                                                \r"
     ]
    }
   ],
   "source": [
    "me = create_dataframe('machine_events', EXEC_MODE, sample)\n",
    "me.groupBy('cpus').count().show()"
   ]
  },
  {
   "cell_type": "markdown",
   "metadata": {},
   "source": [
    "### Cluster execution\n",
    "\n",
    "As the `machine_events` table consists of only one file, executing *Job 1* on a cluster is meaningless: the overhead of paralellizing is greater than the gain it incurs.\n",
    "\n",
    "**Time:**\n",
    "* RDD local: 0.3 s\n",
    "* RDD cluster: 16.64 s\n",
    "* DF local: 3.3 s\n",
    "* DF cluster: 7.96 s\n",
    "\n",
    "??"
   ]
  },
  {
   "cell_type": "markdown",
   "metadata": {},
   "source": [
    "# Job 2: on average, how many tasks compose a job?\n",
    "\n",
    "Now, we focus on the jobs that were running during the analyzed period. We know that each job is composed of multiple tasks, but no information was provided about the average number of tasks in a single job. In order to compute it by hand, we load the task_events table, that lists for every task that was ever executed at the time @various information, like the job to which the task is associated, the user that requested to execute the task, the priority, and the resources it requested to be able to process the calculations and terminate."
   ]
  },
  {
   "cell_type": "code",
   "execution_count": 3,
   "metadata": {},
   "outputs": [
    {
     "name": "stderr",
     "output_type": "stream",
     "text": [
      "                                                                                \r"
     ]
    },
    {
     "data": {
      "text/html": [
       "<div>\n",
       "<style scoped>\n",
       "    .dataframe tbody tr th:only-of-type {\n",
       "        vertical-align: middle;\n",
       "    }\n",
       "\n",
       "    .dataframe tbody tr th {\n",
       "        vertical-align: top;\n",
       "    }\n",
       "\n",
       "    .dataframe thead th {\n",
       "        text-align: right;\n",
       "    }\n",
       "</style>\n",
       "<table border=\"1\" class=\"dataframe\">\n",
       "  <thead>\n",
       "    <tr style=\"text-align: right;\">\n",
       "      <th></th>\n",
       "      <th>time</th>\n",
       "      <th>missing_info</th>\n",
       "      <th>job_id</th>\n",
       "      <th>task_index</th>\n",
       "      <th>machine_id</th>\n",
       "      <th>event_type</th>\n",
       "      <th>user</th>\n",
       "      <th>scheduling_class</th>\n",
       "      <th>priority</th>\n",
       "      <th>cpu_request</th>\n",
       "      <th>memory_request</th>\n",
       "      <th>disk_space_request</th>\n",
       "      <th>different_machines_restriction</th>\n",
       "    </tr>\n",
       "  </thead>\n",
       "  <tbody>\n",
       "    <tr>\n",
       "      <th>0</th>\n",
       "      <td>5611824441</td>\n",
       "      <td>NA</td>\n",
       "      <td>6251812952</td>\n",
       "      <td>1761</td>\n",
       "      <td>1306108</td>\n",
       "      <td>4</td>\n",
       "      <td>fJYeclskJqPWsAT6TX/r9X5OiIZpSEb2PBGliYAOMxM=</td>\n",
       "      <td>0</td>\n",
       "      <td>2</td>\n",
       "      <td>0.02499</td>\n",
       "      <td>0.07959</td>\n",
       "      <td>0.0003862</td>\n",
       "      <td>1</td>\n",
       "    </tr>\n",
       "    <tr>\n",
       "      <th>1</th>\n",
       "      <td>5611824625</td>\n",
       "      <td>NA</td>\n",
       "      <td>6251974185</td>\n",
       "      <td>252</td>\n",
       "      <td>38676295</td>\n",
       "      <td>4</td>\n",
       "      <td>fJYeclskJqPWsAT6TX/r9X5OiIZpSEb2PBGliYAOMxM=</td>\n",
       "      <td>0</td>\n",
       "      <td>2</td>\n",
       "      <td>0.02499</td>\n",
       "      <td>0.03339</td>\n",
       "      <td>0.0003862</td>\n",
       "      <td>1</td>\n",
       "    </tr>\n",
       "    <tr>\n",
       "      <th>2</th>\n",
       "      <td>5612587437</td>\n",
       "      <td>NA</td>\n",
       "      <td>6251995937</td>\n",
       "      <td>33</td>\n",
       "      <td>386450501</td>\n",
       "      <td>2</td>\n",
       "      <td>4Ubmtvv/epOnUEgegvGV9mCxxcZkV4z/Dm8RY/9SEYw=</td>\n",
       "      <td>0</td>\n",
       "      <td>0</td>\n",
       "      <td>0.06873</td>\n",
       "      <td>0.01193</td>\n",
       "      <td>0.0001154</td>\n",
       "      <td>0</td>\n",
       "    </tr>\n",
       "  </tbody>\n",
       "</table>\n",
       "</div>"
      ],
      "text/plain": [
       "         time missing_info      job_id task_index machine_id event_type  \\\n",
       "0  5611824441           NA  6251812952       1761    1306108          4   \n",
       "1  5611824625           NA  6251974185        252   38676295          4   \n",
       "2  5612587437           NA  6251995937         33  386450501          2   \n",
       "\n",
       "                                           user scheduling_class priority  \\\n",
       "0  fJYeclskJqPWsAT6TX/r9X5OiIZpSEb2PBGliYAOMxM=                0        2   \n",
       "1  fJYeclskJqPWsAT6TX/r9X5OiIZpSEb2PBGliYAOMxM=                0        2   \n",
       "2  4Ubmtvv/epOnUEgegvGV9mCxxcZkV4z/Dm8RY/9SEYw=                0        0   \n",
       "\n",
       "  cpu_request memory_request disk_space_request different_machines_restriction  \n",
       "0     0.02499        0.07959          0.0003862                              1  \n",
       "1     0.02499        0.03339          0.0003862                              1  \n",
       "2     0.06873        0.01193          0.0001154                              0  "
      ]
     },
     "execution_count": 3,
     "metadata": {},
     "output_type": "execute_result"
    }
   ],
   "source": [
    "# Same as above, load a part of the table in memory and use it.\n",
    "task_events = Table('task_events', sc, EXEC_MODE, sample)\n",
    "task_events.pprint(3)"
   ]
  },
  {
   "cell_type": "markdown",
   "metadata": {},
   "source": [
    "Now that we have the table, we want to count for each job the associated number of tasks, and output useful metrics."
   ]
  },
  {
   "cell_type": "code",
   "execution_count": 8,
   "metadata": {},
   "outputs": [
    {
     "name": "stderr",
     "output_type": "stream",
     "text": [
      "[Stage 13:=============================>                            (1 + 1) / 2]\r"
     ]
    },
    {
     "name": "stdout",
     "output_type": "stream",
     "text": [
      "A job can have between 1 and 48582 tasks.\n",
      "In average, a job will have between 1 and 965 tasks, because the mean number of tasks in a job is equal to 89 , and the standard deviation is equal to 876 \n"
     ]
    },
    {
     "name": "stderr",
     "output_type": "stream",
     "text": [
      "                                                                                \r"
     ]
    }
   ],
   "source": [
    "\n",
    "# Select all entries in the table, but only keep the job IDs. Then, count the occurences of each job id,\n",
    "# and put it in a list. The list represents the number of tasks for each job id found.\n",
    "jobs_list = task_events.select(['job_id'])\n",
    "tasks_per_job = list(jobs_list.countByValue().values())\n",
    "\n",
    "# Take the mean number of tasks and the standard derivation\n",
    "mean = round(np.mean(tasks_per_job))\n",
    "std = round(np.std(tasks_per_job))\n",
    "\n",
    "print(f\"A job can have between {np.min(tasks_per_job)} and {np.max(tasks_per_job)} tasks.\")\n",
    "\n",
    "# Compute high-end mean and low-end mean with the std derivation\n",
    "low_mean = mean - std if (mean - std >= np.min(tasks_per_job)) else np.min(tasks_per_job)\n",
    "high_mean = mean + std if (mean + std <= np.max(tasks_per_job)) else np.max(tasks_per_job)\n",
    "print(f\"In average, a job will have between {low_mean} and {high_mean} tasks, because the mean number of tasks in a job is equal to {mean} , and the standard deviation is equal to {std} \")"
   ]
  },
  {
   "cell_type": "markdown",
   "metadata": {},
   "source": [
    "We finally produce a barplot showing the number of tasks for each process, as well as the mean, and the lower and higher means computed with regards to the standard derivation."
   ]
  },
  {
   "cell_type": "code",
   "execution_count": 9,
   "metadata": {},
   "outputs": [
    {
     "name": "stderr",
     "output_type": "stream",
     "text": [
      "                                                                                \r"
     ]
    },
    {
     "data": {
      "image/png": "[encoded data removed]",
      "text/plain": [
       "<Figure size 1200x800 with 1 Axes>"
      ]
     },
     "metadata": {
      "needs_background": "light"
     },
     "output_type": "display_data"
    }
   ],
   "source": [
    "# Put it in a somewhat nice visualization\n",
    "subset = jobs_list.sample(False, 0.1).countByValue().values()\n",
    "\n",
    "# Bars: number of tasks for each job\n",
    "plt.bar(np.arange(len(subset)), subset)\n",
    "\n",
    "# Lines: the means (non corrected and corrected)\n",
    "plt.axhline(y=low_mean, color='green', label=\"Lower mean\")\n",
    "plt.axhline(y=high_mean, color='blue', label=\"Higher mean\")\n",
    "plt.axhline(y=mean, color='red', label=\"Mean\")\n",
    "\n",
    "# A log scale to have a better representation (because some jobs have a really large number of tasks, \n",
    "# and a standard scale would break the visualization)\n",
    "plt.yscale(\"log\")\n",
    "\n",
    "plt.title(\"Repartition of the number of tasks per job wth the mean\")\n",
    "\n",
    "plt.show()"
   ]
  },
  {
   "cell_type": "markdown",
   "metadata": {},
   "source": [
    "On the graph shown above, we have represented the number of tasks for all of the studied jobs. The mean is designated by the red line, while the mean corrected with the standard derivation on lowest and highest bound is represented by the blue lines."
   ]
  },
  {
   "cell_type": "markdown",
   "metadata": {},
   "source": [
    "## Dataframe version"
   ]
  },
  {
   "cell_type": "code",
   "execution_count": 10,
   "metadata": {},
   "outputs": [
    {
     "name": "stdout",
     "output_type": "stream",
     "text": [
      "Will download at most 1 file(s) from task_events.\n",
      "Polling bucket gs://clusterdata-2011-2/task_events\n",
      "Dowloading [/part-00000-of-00500.csv.gz]\n",
      "Successfully downloaded table [task_events] (1/500).\n"
     ]
    },
    {
     "name": "stderr",
     "output_type": "stream",
     "text": [
      "[Stage 15:=============================>                            (1 + 1) / 2]\r"
     ]
    }
   ],
   "source": [
    "te = create_dataframe('task_events', EXEC_MODE, sample)\n",
    "task_per_job = te.select('job_id').groupBy('job_id').count()\n",
    "\n",
    "task_per_job.select(\n",
    "        F.round(F.mean('count'),2).alias('mean'), F.round(F.stddev('count'), 2).alias('std'),\n",
    "        F.min('count').alias('min'), F.max('count').alias('max')\n",
    ").show(10)"
   ]
  },
  {
   "cell_type": "markdown",
   "metadata": {},
   "source": [
    "### Cluster execution\n",
    "\n",
    "The `task_events` table consists of 500 files, which now makes *Job 2* interesting to run on a cluster, for performance and completeness of data:\n",
    "\n",
    "**Data:**\n",
    "* RDD:\n",
    "```\n",
    "mean: 215.24914732650402\n",
    "std: 26646.453247846257\n",
    "max: 16327120\n",
    "min: 1\n",
    "```\n",
    "\n",
    "* DF:\n",
    "```\n",
    "+------+--------+---+--------+\n",
    "|  mean|     std|min|     max|\n",
    "+------+--------+---+--------+\n",
    "|215.25|26646.47|  1|16327120|\n",
    "+------+--------+---+--------+\n",
    "```\n",
    "\n",
    "**Time:**\n",
    "* RDD cluster: 128.83 s\n",
    "* DF cluster: 51.1 s\n",
    "\n",
    "We are reassured to see the same results. We observe an even bigger discrepancy between the average number of task and the maximum: some job are composed up to 16 million tasks !! It must be quite a DAG...\n",
    "\n",
    "We witnessed again an improved performance with the DF version."
   ]
  },
  {
   "cell_type": "markdown",
   "metadata": {},
   "source": [
    "# Job 3: What is the distribution of the number of jobs/tasks per scheduling class?\n",
    "\n",
    "Each job and task possess a scheduling class, represented by a number between 0 and 3, that represents the sensibility to latency of the process. The higher the number is, the more the process is sensitive to latency (i.e., the process is a critical job that generates revenue...). This classification is used to affect the resource access policy on the local machine that executes the impacted process, and processes on the higher end of the classification tend to have higer priorities.\n",
    "\n",
    "We would like to check the distribution of tasks and jobs for each class, in order to see what kind of processes these machines were treating the most."
   ]
  },
  {
   "cell_type": "markdown",
   "metadata": {},
   "source": [
    "We select the job id and the scheduling class for each task. Then, we do a combination by key, in order to count the number of unique tasks and unique jobs that were attributed to each scheduling class. This implies to define our own initialization, merging and combination functions used to manage the set of jobs and tasks associated to one particular scheduling class."
   ]
  },
  {
   "cell_type": "code",
   "execution_count": 13,
   "metadata": {},
   "outputs": [],
   "source": [
    "# The init, merge and combine functions for the operation that comes right after\n",
    "# The goal is to count the number of tasks per job. And to have a distinct number of jobs\n",
    "# with use a set\n",
    "def init(new):\n",
    "    job = set()\n",
    "    job.add(new)\n",
    "    return [job, 1]\n",
    "\n",
    "def merge(old, new):\n",
    "    old[0].add(new)\n",
    "    return [old[0], old[1] + 1]\n",
    "\n",
    "def combine(c1, c2):\n",
    "    c1[0].union(c2[0])\n",
    "    return [c1[0], c1[1]+c2[1]]"
   ]
  },
  {
   "cell_type": "code",
   "execution_count": 14,
   "metadata": {},
   "outputs": [
    {
     "name": "stdout",
     "output_type": "stream",
     "text": [
      "Number of Jobs and Tasks for each Scheduling Class:\n",
      "\tscheduling class [2], #job: 278, #task: 147272\n",
      "\tscheduling class [3], #job: 50, #task: 58985\n",
      "\tscheduling class [1], #job: 562, #task: 82065\n",
      "\tscheduling class [0], #job: 434, #task: 400242\n"
     ]
    },
    {
     "data": {
      "image/png": "[encoded data removed]",
      "text/plain": [
       "<Figure size 1200x800 with 1 Axes>"
      ]
     },
     "metadata": {},
     "output_type": "display_data"
    }
   ],
   "source": [
    "# Take the metrics that interests us\n",
    "job_task_sched = task_events.select(['scheduling_class','job_id'])\n",
    "\n",
    "# Combine the values by key\n",
    "nb_jobs_tasks_per_sc = job_task_sched.combineByKey(init, merge, combine).mapValues(lambda x: (len(x[0]), x[1]))\n",
    "print(\"Number of Jobs and Tasks for each Scheduling Class:\")\n",
    "print('\\n'.join(f'\\tscheduling class [{s}], #job: {j}, #task: {t}' for \\\n",
    "            s, (j,t) in nb_jobs_tasks_per_sc.collect()))\n",
    "\n",
    "# Do a map to keep only the tuples (scheduling class, number of jobs)\n",
    "sched_class_jobs = nb_jobs_tasks_per_sc.map(lambda x: (x[0], x[1][0]))\n",
    "\n",
    "# Show the distribution of jobs for each scheduling class\n",
    "# Done by converting the previous mapping to a Key -> Value structure that can be passed directly to the pie function\n",
    "plt.pie(sched_class_jobs.collectAsMap().values(), labels=sched_class_jobs.collectAsMap().keys(), colors = colors, autopct='%.2f%%')\n",
    "plt.title(\"Distribution of jobs per scheduling class\")\n",
    "plt.show()"
   ]
  },
  {
   "cell_type": "code",
   "execution_count": 15,
   "metadata": {},
   "outputs": [
    {
     "data": {
      "image/png": "[encoded data removed]",
      "text/plain": [
       "<Figure size 1200x800 with 1 Axes>"
      ]
     },
     "metadata": {},
     "output_type": "display_data"
    }
   ],
   "source": [
    "# Same for the tasks, by keeping the (scheduling class, number of tasks) tuples\n",
    "sched_class_tasks = nb_jobs_tasks_per_sc.map(lambda x: (x[0], x[1][1]))\n",
    "\n",
    "# And a pie chart as well\n",
    "plt.pie(sched_class_tasks.collectAsMap().values(), labels=sched_class_tasks.collectAsMap().keys(), colors = colors, autopct='%.2f%%')\n",
    "plt.title(\"Distribution of tasks per scheduling class\")\n",
    "plt.show()"
   ]
  },
  {
   "cell_type": "markdown",
   "metadata": {},
   "source": [
    "We quickly see that most of the tasks were not really sensitive to latency, because they were assigned to the scheduling class number 0 (which holds everything that can be delayed for a while without any trouble).\n",
    "\n",
    "Surprisingly, a great proportion of the jobs were attributed to the lowest scheduling classes, meaning that they were really not sensitive to latency."
   ]
  },
  {
   "cell_type": "markdown",
   "metadata": {},
   "source": [
    "## Dataframe version\n",
    "\n",
    "We can see that the implementation is much more straightforward: built-in functions allow us to group on the scheduling class quite elegantly (and efficiently)."
   ]
  },
  {
   "cell_type": "code",
   "execution_count": 16,
   "metadata": {},
   "outputs": [
    {
     "name": "stdout",
     "output_type": "stream",
     "text": [
      "+----------------+-------------+-----------------+\n",
      "|scheduling_class|count(job_id)|count(task_index)|\n",
      "+----------------+-------------+-----------------+\n",
      "|               0|         1685|           400242|\n",
      "|               1|         2519|            82065|\n",
      "|               2|         1890|           147272|\n",
      "|               3|          962|            58985|\n",
      "+----------------+-------------+-----------------+\n",
      "\n"
     ]
    }
   ],
   "source": [
    "jts = te.select(\n",
    "        te.scheduling_class, te.job_id, te.task_index\n",
    "    )\n",
    "jts.groupBy('scheduling_class').agg(\n",
    "        F.countDistinct(jts.job_id), F.count(jts.task_index)\n",
    ").orderBy(jts.scheduling_class).show()"
   ]
  },
  {
   "cell_type": "markdown",
   "metadata": {},
   "source": [
    "### Cluster execution\n",
    "\n",
    "We can once again use fully the `task_events` table.\n",
    "\n",
    "**Data:**\n",
    "* RDD:\n",
    "```\n",
    "scheduling class [2], #job: 194497, #task: 11158598\n",
    "scheduling class [0], #job: 257242, #task: 114598888\n",
    "scheduling class [1], #job: 215099, #task: 18055014\n",
    "scheduling class [3], #job: 5169, #task: 835788\n",
    "```\n",
    "\n",
    "* DF:\n",
    "```\n",
    "+----------------+-------------+-----------------+\n",
    "|scheduling_class|count(job_id)|count(task_index)|\n",
    "+----------------+-------------+-----------------+\n",
    "|               0|       257242|        114598888|\n",
    "|               1|       215099|         18055014|\n",
    "|               2|       194497|         11158598|\n",
    "|               3|         5169|           835788|\n",
    "+----------------+-------------+-----------------+\n",
    "```\n",
    "\n",
    "**Time:**\n",
    "* RDD cluster: 136.05 s\n",
    "* DF cluster: 53.5 s\n",
    "\n",
    "Even though numbers are bigger, we can see a similar distribution from the ones shown in the plots above. The elegant DF version beats the RDD version that we rewrote and rewrote. Despite the cool `combineByKey`, we cannot beat the engineers between the dataframe..."
   ]
  },
  {
   "cell_type": "markdown",
   "metadata": {},
   "source": [
    "### Do tasks with low priority have a higher probability of being evicted?\n",
    "\n",
    "Let's focus on the priority system. We wish to know if tasks having a low priority have a higher risk of being evicted in order to make place for the \"more important\" processses."
   ]
  },
  {
   "cell_type": "code",
   "execution_count": 17,
   "metadata": {},
   "outputs": [
    {
     "name": "stdout",
     "output_type": "stream",
     "text": [
      "Probability of being evicted for each priority listed:\n",
      "\tpriority [0] = 0.9758\n",
      "\tpriority [1] = 0.0103\n",
      "\tpriority [2] = 0.0094\n",
      "\tpriority [8] = 0.0001\n",
      "\tpriority [9] = 0.0044\n",
      "\tpriority [10] = 0.0001\n"
     ]
    }
   ],
   "source": [
    "# Select the fields, and filter to keep the priority of every process at the exact moment it got evicted\n",
    "task_priority_at_eviction = task_events.select(['event_type', 'priority'])\\\n",
    "        .filter(lambda x: x[0] == '2')\\\n",
    "        .map(lambda x: int(x[1]))\n",
    "\n",
    "# Count the total number of evicted processes\n",
    "total_evicted = task_priority_at_eviction.count()\n",
    "\n",
    "# Print the distribution of each probability\n",
    "number_of_evictions_foreach_priority = task_priority_at_eviction.countByValue()\n",
    "print(\"Probability of being evicted for each priority listed:\")\n",
    "for k,v in sorted(number_of_evictions_foreach_priority.items()):\n",
    "    print(f'\\tpriority [{k}] = {round(v/total_evicted, 4)}')"
   ]
  },
  {
   "cell_type": "code",
   "execution_count": 18,
   "metadata": {},
   "outputs": [
    {
     "data": {
      "image/png": "[encoded data removed]",
      "text/plain": [
       "<Figure size 1200x800 with 1 Axes>"
      ]
     },
     "metadata": {
      "needs_background": "light"
     },
     "output_type": "display_data"
    }
   ],
   "source": [
    "# Same as above, but this time in a nice graph\n",
    "\n",
    "# Sort by priority and segregate in keys and values\n",
    "sorted_number_of_evictions_foreach_priority = sorted(number_of_evictions_foreach_priority.items())\n",
    "keys = [v[0] for v in sorted_number_of_evictions_foreach_priority]\n",
    "values = [round(v[1]/total_evicted, 4) for v in sorted_number_of_evictions_foreach_priority]\n",
    "\n",
    "# Print as a barchart\n",
    "plt.bar(keys, values)\n",
    "plt.xlabel('Priority')\n",
    "plt.ylabel('Probability')\n",
    "plt.title(\"Probability for a process of being evicted depending of its priority\")\n",
    "plt.show()"
   ]
  },
  {
   "cell_type": "markdown",
   "metadata": {},
   "source": [
    "Indeed, lower-priority processes have a 97%-chance or higher of being evicted at any time to give way to more important processes. However, this probability drops to 1% and less as soon as the priority is equal to or above 1. "
   ]
  },
  {
   "cell_type": "markdown",
   "metadata": {},
   "source": [
    "### In general, do tasks from the same job run on the same machine ?\n",
    "\n",
    "Now, we wonder if the jobs are usually running on the same machine, or if the tasks composing one job are being sent to different servers to be executed."
   ]
  },
  {
   "cell_type": "code",
   "execution_count": 19,
   "metadata": {},
   "outputs": [],
   "source": [
    "# We select all tuples of job id and machine id in the tasks events list.\n",
    "# Then, we group by key, so that one line holds the number of unique machines on which the job was executed\n",
    "nb_machines_per_job = task_events.select(['job_id', 'machine_id'])\\\n",
    "            .sample(False, 0.1)\\\n",
    "            .groupByKey()\\\n",
    "            .mapValues(lambda x: len(set(x)))\\\n",
    "            .map(lambda x: (x[1],x[0]))\\\n",
    "            .sortByKey()\n",
    "machine_njob = nb_machines_per_job.countByKey()"
   ]
  },
  {
   "cell_type": "code",
   "execution_count": 20,
   "metadata": {},
   "outputs": [
    {
     "data": {
      "text/plain": [
       "Text(0.5, 1.0, 'Number of machines on which was executed each job')"
      ]
     },
     "execution_count": 20,
     "metadata": {},
     "output_type": "execute_result"
    },
    {
     "data": {
      "image/png": "[encoded data removed]",
      "text/plain": [
       "<Figure size 1200x800 with 1 Axes>"
      ]
     },
     "metadata": {
      "needs_background": "light"
     },
     "output_type": "display_data"
    }
   ],
   "source": [
    "# We create our lists of keys and values\n",
    "x=list(machine_njob.keys())\n",
    "y=list(machine_njob.values())\n",
    "\n",
    "# And then pass it to seaborn to create a barplot to have a global view\n",
    "g = sns.barplot(x=x, y=y)\n",
    "\n",
    "# There are a lot of jobs and they ran on multiple machines, so it is better to show it with a log scale\n",
    "g.set_yscale(\"log\")\n",
    "g.set_xscale(\"log\")\n",
    "\n",
    "g.set_xlabel(\"Jobs\")\n",
    "g.set_ylabel(\"Number of machines\")\n",
    "\n",
    "g.set_title(\"Number of machines on which was executed each job\")"
   ]
  },
  {
   "cell_type": "markdown",
   "metadata": {},
   "source": [
    "### Are the tasks that request the more resources the one that consume the more resources?\n",
    "\n",
    "To anwser this question, we need to rely on the \"task_usage\" logs. It holds, for each task, details about its execution, such as the start and end time, as well as the resources assigned to the task and the ones that were effectively consumed by the task.\n",
    "\n",
    "We will process this analysis over the CPU and Memory usage, but as we don't have enough data, we will not consider the Disk IO metric.\n",
    "\n",
    "Let's start by loading this table as a RDD."
   ]
  },
  {
   "cell_type": "code",
   "execution_count": 7,
   "metadata": {},
   "outputs": [
    {
     "name": "stderr",
     "output_type": "stream",
     "text": [
      "                                                                                \r"
     ]
    },
    {
     "data": {
      "text/html": [
       "<div>\n",
       "<style scoped>\n",
       "    .dataframe tbody tr th:only-of-type {\n",
       "        vertical-align: middle;\n",
       "    }\n",
       "\n",
       "    .dataframe tbody tr th {\n",
       "        vertical-align: top;\n",
       "    }\n",
       "\n",
       "    .dataframe thead th {\n",
       "        text-align: right;\n",
       "    }\n",
       "</style>\n",
       "<table border=\"1\" class=\"dataframe\">\n",
       "  <thead>\n",
       "    <tr style=\"text-align: right;\">\n",
       "      <th></th>\n",
       "      <th>start_time</th>\n",
       "      <th>end_time</th>\n",
       "      <th>job_id</th>\n",
       "      <th>task_index</th>\n",
       "      <th>machine_id</th>\n",
       "      <th>cpu_rate</th>\n",
       "      <th>canonical_memory_usage</th>\n",
       "      <th>assigned_memory_usage</th>\n",
       "      <th>unmapped_page_cache</th>\n",
       "      <th>total_page_cache</th>\n",
       "      <th>maximum_memory_usage</th>\n",
       "      <th>disk_i/o_time</th>\n",
       "      <th>local_disk_space_usage</th>\n",
       "      <th>maximum_cpu_rate</th>\n",
       "      <th>maximum_disk_io_time</th>\n",
       "      <th>cycles_per_instruction</th>\n",
       "      <th>memory_accesses_per_instruction</th>\n",
       "      <th>sample_portion</th>\n",
       "      <th>aggregation_type</th>\n",
       "      <th>sampled_cpu_usage</th>\n",
       "    </tr>\n",
       "  </thead>\n",
       "  <tbody>\n",
       "    <tr>\n",
       "      <th>0</th>\n",
       "      <td>600000000</td>\n",
       "      <td>900000000</td>\n",
       "      <td>3418309</td>\n",
       "      <td>0</td>\n",
       "      <td>4155527081</td>\n",
       "      <td>0.001562</td>\n",
       "      <td>0.06787</td>\n",
       "      <td>0.07568</td>\n",
       "      <td>0.001156</td>\n",
       "      <td>0.001503</td>\n",
       "      <td>0.06787</td>\n",
       "      <td>2.861e-06</td>\n",
       "      <td>0.0001869</td>\n",
       "      <td>0.03967</td>\n",
       "      <td>0.0003567</td>\n",
       "      <td>2.445</td>\n",
       "      <td>0.007243</td>\n",
       "      <td>0</td>\n",
       "      <td>1</td>\n",
       "      <td>0</td>\n",
       "    </tr>\n",
       "    <tr>\n",
       "      <th>1</th>\n",
       "      <td>600000000</td>\n",
       "      <td>900000000</td>\n",
       "      <td>3418309</td>\n",
       "      <td>1</td>\n",
       "      <td>329150663</td>\n",
       "      <td>0.001568</td>\n",
       "      <td>0.06787</td>\n",
       "      <td>0.07556</td>\n",
       "      <td>0.0003195</td>\n",
       "      <td>0.0007</td>\n",
       "      <td>0.06787</td>\n",
       "      <td>5.722e-06</td>\n",
       "      <td>0.0001879</td>\n",
       "      <td>0.03302</td>\n",
       "      <td>0.0009289</td>\n",
       "      <td>2.1</td>\n",
       "      <td>0.005791</td>\n",
       "      <td>0</td>\n",
       "      <td>1</td>\n",
       "      <td>0</td>\n",
       "    </tr>\n",
       "    <tr>\n",
       "      <th>2</th>\n",
       "      <td>600000000</td>\n",
       "      <td>900000000</td>\n",
       "      <td>3418314</td>\n",
       "      <td>0</td>\n",
       "      <td>3938719206</td>\n",
       "      <td>0.0003071</td>\n",
       "      <td>0.08044</td>\n",
       "      <td>0.09521</td>\n",
       "      <td>0.0002823</td>\n",
       "      <td>0.0006704</td>\n",
       "      <td>0.08044</td>\n",
       "      <td>4.768e-06</td>\n",
       "      <td>0.0001841</td>\n",
       "      <td>0.02377</td>\n",
       "      <td>0.0007858</td>\n",
       "      <td>5.588</td>\n",
       "      <td>0.0208</td>\n",
       "      <td>0</td>\n",
       "      <td>1</td>\n",
       "      <td>0</td>\n",
       "    </tr>\n",
       "    <tr>\n",
       "      <th>3</th>\n",
       "      <td>600000000</td>\n",
       "      <td>900000000</td>\n",
       "      <td>3418314</td>\n",
       "      <td>1</td>\n",
       "      <td>351618647</td>\n",
       "      <td>0.0003004</td>\n",
       "      <td>0.08044</td>\n",
       "      <td>0.09521</td>\n",
       "      <td>0.0005369</td>\n",
       "      <td>0.0008698</td>\n",
       "      <td>0.08044</td>\n",
       "      <td>9.537e-06</td>\n",
       "      <td>0.0001831</td>\n",
       "      <td>0.007919</td>\n",
       "      <td>0.002285</td>\n",
       "      <td>5.198</td>\n",
       "      <td>0.02038</td>\n",
       "      <td>0</td>\n",
       "      <td>1</td>\n",
       "      <td>0</td>\n",
       "    </tr>\n",
       "    <tr>\n",
       "      <th>4</th>\n",
       "      <td>600000000</td>\n",
       "      <td>900000000</td>\n",
       "      <td>3418319</td>\n",
       "      <td>0</td>\n",
       "      <td>431052910</td>\n",
       "      <td>0.0004606</td>\n",
       "      <td>0.07715</td>\n",
       "      <td>0.0874</td>\n",
       "      <td>0.0006247</td>\n",
       "      <td>0.0008516</td>\n",
       "      <td>0.07715</td>\n",
       "      <td>1.907e-06</td>\n",
       "      <td>0.0002041</td>\n",
       "      <td>0.005112</td>\n",
       "      <td>0.0002146</td>\n",
       "      <td>2.937</td>\n",
       "      <td>0.009449</td>\n",
       "      <td>0</td>\n",
       "      <td>1</td>\n",
       "      <td>0</td>\n",
       "    </tr>\n",
       "  </tbody>\n",
       "</table>\n",
       "</div>"
      ],
      "text/plain": [
       "  start_time   end_time   job_id task_index  machine_id   cpu_rate  \\\n",
       "0  600000000  900000000  3418309          0  4155527081   0.001562   \n",
       "1  600000000  900000000  3418309          1   329150663   0.001568   \n",
       "2  600000000  900000000  3418314          0  3938719206  0.0003071   \n",
       "3  600000000  900000000  3418314          1   351618647  0.0003004   \n",
       "4  600000000  900000000  3418319          0   431052910  0.0004606   \n",
       "\n",
       "  canonical_memory_usage assigned_memory_usage unmapped_page_cache  \\\n",
       "0                0.06787               0.07568            0.001156   \n",
       "1                0.06787               0.07556           0.0003195   \n",
       "2                0.08044               0.09521           0.0002823   \n",
       "3                0.08044               0.09521           0.0005369   \n",
       "4                0.07715                0.0874           0.0006247   \n",
       "\n",
       "  total_page_cache maximum_memory_usage disk_i/o_time local_disk_space_usage  \\\n",
       "0         0.001503              0.06787     2.861e-06              0.0001869   \n",
       "1           0.0007              0.06787     5.722e-06              0.0001879   \n",
       "2        0.0006704              0.08044     4.768e-06              0.0001841   \n",
       "3        0.0008698              0.08044     9.537e-06              0.0001831   \n",
       "4        0.0008516              0.07715     1.907e-06              0.0002041   \n",
       "\n",
       "  maximum_cpu_rate maximum_disk_io_time cycles_per_instruction  \\\n",
       "0          0.03967            0.0003567                  2.445   \n",
       "1          0.03302            0.0009289                    2.1   \n",
       "2          0.02377            0.0007858                  5.588   \n",
       "3         0.007919             0.002285                  5.198   \n",
       "4         0.005112            0.0002146                  2.937   \n",
       "\n",
       "  memory_accesses_per_instruction sample_portion aggregation_type  \\\n",
       "0                        0.007243              0                1   \n",
       "1                        0.005791              0                1   \n",
       "2                          0.0208              0                1   \n",
       "3                         0.02038              0                1   \n",
       "4                        0.009449              0                1   \n",
       "\n",
       "  sampled_cpu_usage  \n",
       "0                 0  \n",
       "1                 0  \n",
       "2                 0  \n",
       "3                 0  \n",
       "4                 0  "
      ]
     },
     "execution_count": 7,
     "metadata": {},
     "output_type": "execute_result"
    }
   ],
   "source": [
    "task_usage = Table('task_usage', sc, EXEC_MODE, sample)\n",
    "task_usage.pprint(5)"
   ]
  },
  {
   "cell_type": "markdown",
   "metadata": {},
   "source": [
    "### CPU usage\n",
    "\n",
    "We start by studying the CPU usage. A good analysis would be to compare for each job and task the CPU quota requested by the process with the CPU that was actually used. Nevertheless, we realized that this is a heavy job when executed on the full dataset. As time and resources are scare - even on a cluster - we decided to go for an approximation: for each job, its requested cpu (or used) will be the average of its tasks.\n",
    "\n",
    "To compute the average, with will used the `combineByKey` function, which need an initialization function (what to do with a new key), a combiner (put a new value wth known key) and a merger (two combiner). This will sum all values for a given **JOB** (*i.e.* requested cpu per task), and keep a counter of how many values per job. Then we divide the sum by the counter."
   ]
  },
  {
   "cell_type": "code",
   "execution_count": 4,
   "metadata": {},
   "outputs": [],
   "source": [
    "def avg_init(row):\n",
    "    return (row, 1)\n",
    "\n",
    "def avg_merge(old, new):\n",
    "    return (old[0]+new,old[1]+1)\n",
    "\n",
    "def avg_cmb(old, new):\n",
    "    return (old[0]+new[0],old[1]+new[1])\n",
    "\n",
    "#for readability, cpu/mem request and usage is multiplied by 100\n",
    "sanitize = lambda x: round(float(x)*100,4)"
   ]
  },
  {
   "cell_type": "markdown",
   "metadata": {},
   "source": [
    "Let's first compute our average on requested cpu"
   ]
  },
  {
   "cell_type": "code",
   "execution_count": 6,
   "metadata": {},
   "outputs": [],
   "source": [
    "# Collect the cpu requested of each process by averaging on per task request,\n",
    "# and discard the Non Available values.\n",
    "cpu_requests = task_events.select(['job_id', 'cpu_request'])\\\n",
    "    .filter(lambda x: x[1] != 'NA')\\\n",
    "    .map(lambda x: (x[0], sanitize(x[1])))\n",
    "cpu_req_avg = cpu_requests.combineByKey(avg_init, avg_merge, avg_cmb)\\\n",
    "    .mapValues(lambda x: round(x[0]/x[1], 3))"
   ]
  },
  {
   "cell_type": "markdown",
   "metadata": {},
   "source": [
    "We then get the average CPU rates that were indeed used by each job:"
   ]
  },
  {
   "cell_type": "code",
   "execution_count": 8,
   "metadata": {},
   "outputs": [],
   "source": [
    "# Same with the CPU rate\n",
    "cpu_used = task_usage.select(['job_id', 'cpu_rate'])\\\n",
    "    .filter(lambda x: x[1] != 'NA')\\\n",
    "    .map(lambda x: (x[0], sanitize(x[1])))\n",
    "cpu_used_avg = cpu_used.combineByKey(avg_init, avg_merge, avg_cmb)\\\n",
    "    .mapValues(lambda x: round(x[0]/x[1], 3))"
   ]
  },
  {
   "cell_type": "markdown",
   "metadata": {},
   "source": [
    "Finally, we do a join operation to link the requests and usages in a single data structure. With this, we compute the **DELTA**, which is the diffence between requested and used cpu."
   ]
  },
  {
   "cell_type": "code",
   "execution_count": 9,
   "metadata": {},
   "outputs": [],
   "source": [
    "# for each job we match its avg cpu request and usage,\n",
    "# then compute the delta REQUESTED - USAGE\n",
    "cpu_consumption = cpu_req_avg.join(cpu_used_avg)\n",
    "cons_delta = cpu_consumption.map(lambda x: round(x[1][0]-x[1][1], 4))"
   ]
  },
  {
   "cell_type": "code",
   "execution_count": 10,
   "metadata": {},
   "outputs": [
    {
     "name": "stderr",
     "output_type": "stream",
     "text": [
      "                                                                                \r"
     ]
    },
    {
     "data": {
      "text/plain": [
       "Text(0.5, 0, 'REQUESTED - USED')"
      ]
     },
     "execution_count": 10,
     "metadata": {},
     "output_type": "execute_result"
    },
    {
     "data": {
      "image/png": "[encoded data removed]",
      "text/plain": [
       "<Figure size 1200x800 with 1 Axes>"
      ]
     },
     "metadata": {
      "needs_background": "light"
     },
     "output_type": "display_data"
    }
   ],
   "source": [
    "plt.hist(cons_delta.collect())\n",
    "plt.title('Histogram of requested cpu \\n minus used deltas')\n",
    "plt.xlabel('REQUESTED - USED');"
   ]
  },
  {
   "cell_type": "markdown",
   "metadata": {},
   "source": [
    "Above is a graph showing the CPU capacity requested by each task from each job and the CPU capacity that they have really consumed. As we can see, the most self-declared gluttonous are not ofteh the ones that are really consuming the most, as they only use a small fraction of what's available. \n",
    "\n",
    "Furthermore, we observe a huge fluctuation of the CPU capacity that is really consumed, where some processes are consuming nothing, and others are taking for themselves a large part of what the CPU can offer. The processes have in average almost always requested a CPU share above 0.1, but in reality they are either not taking it entirely, or in some cases they end up using more.\n",
    "\n",
    "## TODO\n",
    "ごめんなさい"
   ]
  },
  {
   "cell_type": "markdown",
   "metadata": {},
   "source": [
    "### Memory request\n",
    "\n",
    "We now focus on memory (RAM) requests and real usage. The metrics that will be used are memory_request and canonical_memory_usage.\n",
    "The process mostly remains the same as for the CPU."
   ]
  },
  {
   "cell_type": "code",
   "execution_count": 11,
   "metadata": {},
   "outputs": [],
   "source": [
    "# Collect the mem requested of each process by averaging on per task request,\n",
    "# and discard the Non Available values.\n",
    "mem_requests = task_events.select(['job_id', 'memory_request'])\\\n",
    "    .filter(lambda x: x[1] != 'NA')\\\n",
    "    .map(lambda x: (x[0], sanitize(x[1])))\n",
    "mem_req_avg = mem_requests.combineByKey(avg_init, avg_merge, avg_cmb)\\\n",
    "    .mapValues(lambda x: round(x[0]/x[1], 3))\n",
    "\n",
    "# Same with the mem rate\n",
    "mem_used = task_usage.select(['job_id', 'canonical_memory_usage'])\\\n",
    "    .filter(lambda x: x[1] != 'NA')\\\n",
    "    .map(lambda x: (x[0], sanitize(x[1])))\n",
    "mem_used_avg = mem_used.combineByKey(avg_init, avg_merge, avg_cmb)\\\n",
    "    .mapValues(lambda x: round(x[0]/x[1], 3))\n",
    "\n",
    "# for each job we match its avg mem request and usage,\n",
    "# then compute the delta REQUESTED - USAGE\n",
    "mem_consumption = mem_req_avg.join(mem_used_avg)\n",
    "cons_delta = mem_consumption.map(lambda x: round(x[1][0]-x[1][1], 4))"
   ]
  },
  {
   "cell_type": "code",
   "execution_count": 12,
   "metadata": {},
   "outputs": [
    {
     "name": "stderr",
     "output_type": "stream",
     "text": [
      "                                                                                \r"
     ]
    },
    {
     "data": {
      "image/png": "[encoded data removed]",
      "text/plain": [
       "<Figure size 1200x800 with 1 Axes>"
      ]
     },
     "metadata": {
      "needs_background": "light"
     },
     "output_type": "display_data"
    }
   ],
   "source": [
    "data = cons_delta.collect()\n",
    "plt.hist(data)\n",
    "plt.title('Histogram of requested memory \\n minus used deltas')\n",
    "plt.xlabel('REQUESTED - USED');"
   ]
  },
  {
   "cell_type": "markdown",
   "metadata": {},
   "source": [
    "We observe in the above graph that the memory requests are more on par with the real consumption than what we noticed for the CPU."
   ]
  },
  {
   "cell_type": "markdown",
   "metadata": {},
   "source": [
    "## Can we observe correlations between peaks of high resource consumption on some machines and task eviction events?\n",
    "\n",
    "The objective of this analysis is to verify if consuming too much resources could lead a task to be evicted in favour of another one that is less glutoneous. We will collect the maximum CPU rate recorded for each job that went through the eviction step at least once, and try to see if there is a pattern behind these evictions."
   ]
  },
  {
   "cell_type": "code",
   "execution_count": 32,
   "metadata": {},
   "outputs": [],
   "source": [
    "# Select the maximum CPU rate consumed by each job\n",
    "max_cpu_task = task_usage.select(['job_id', 'maximum_cpu_rate'])\\\n",
    "                         .mapValues(lambda x: float(x))\\\n",
    "                         .reduceByKey(max)\n"
   ]
  },
  {
   "cell_type": "code",
   "execution_count": 33,
   "metadata": {},
   "outputs": [],
   "source": [
    "# Select the jobs that were evicted\n",
    "filtered_task_events = task_events.select(['job_id', 'event_type']).filter(lambda x: x[1] == '2')\n",
    "\n",
    "# Join both RDD to have the maximum CPU rate for each evicted job\n",
    "max_cpu_evt = filtered_task_events.join(max_cpu_task).map(lambda x: (x[0], x[1][1])).collect()\n"
   ]
  },
  {
   "cell_type": "code",
   "execution_count": 34,
   "metadata": {},
   "outputs": [
    {
     "data": {
      "text/plain": [
       "Text(0.5, 1.0, 'Maximum CPU rate for Jobs that were evicted from a machine')"
      ]
     },
     "execution_count": 34,
     "metadata": {},
     "output_type": "execute_result"
    },
    {
     "data": {
      "image/png": "[encoded data removed]",
      "text/plain": [
       "<Figure size 1200x800 with 1 Axes>"
      ]
     },
     "metadata": {
      "needs_background": "light"
     },
     "output_type": "display_data"
    }
   ],
   "source": [
    "# Show the maximum CPU rate for each evicted job\n",
    "g = sns.scatterplot(x=np.arange(len(max_cpu_evt)), y=[x[1] for x in max_cpu_evt])\n",
    "\n",
    "g.set_xlabel(\"Jobs\")\n",
    "g.set_ylabel(\"Maximum CPU rate\")\n",
    "\n",
    "g.set_title(\"Maximum CPU rate for Jobs that were evicted from a machine\")"
   ]
  },
  {
   "cell_type": "markdown",
   "metadata": {},
   "source": [
    "The output is weird, are those values normal ? Needs more checks."
   ]
  },
  {
   "cell_type": "markdown",
   "metadata": {},
   "source": [
    "### Does the number of constraints of a task (including different-machine constraint) have an impact on the amount of time it spends in the PENDING state ?\n",
    "\n",
    "#### With DataFrames\n",
    "\n",
    "From the documentation of the data provided by Google, we know that several constraints can be put on one or multiple tasks to request specific characteristics (like having a task being executed on a different computer than the others, or requesting a particular resource...).\n",
    "\n",
    "However, we wonder if putting too many of those constraints can lead to a task spending more time on a pending state than a task with no constraints. The code provided on the next lines tries to anwser this question."
   ]
  },
  {
   "cell_type": "code",
   "execution_count": 137,
   "metadata": {},
   "outputs": [
    {
     "name": "stdout",
     "output_type": "stream",
     "text": [
      "Will download at most 1 file(s) from task_events.\n",
      "Polling bucket gs://clusterdata-2011-2/task_events\n",
      "Dowloading [/part-00000-of-00500.csv.gz]\n",
      "Successfully downloaded table [task_events] (1/500).\n"
     ]
    }
   ],
   "source": [
    "te = create_dataframe('task_events', EXEC_MODE , cloud)"
   ]
  },
  {
   "cell_type": "code",
   "execution_count": 138,
   "metadata": {},
   "outputs": [],
   "source": [
    "# Select the first timestamp at which all processes enter in PENDING state\n",
    "# Only the first wait period in this state interests us\n",
    "submit_status = te.select(te.job_id,te.task_index,te.event_type,te.time)\\\n",
    "    .filter(te.event_type == '0').select(te.job_id,te.task_index,te.time)\\\n",
    "    .withColumnRenamed('time', 'time_start_pending')\n",
    "\n",
    "inpending = submit_status.groupBy(['job_id', 'task_index']).agg(F.min('time_start_pending').alias('time_start_pending'))"
   ]
  },
  {
   "cell_type": "code",
   "execution_count": 139,
   "metadata": {},
   "outputs": [],
   "source": [
    "# Select the first timestamp at which all processes exit the PENDING state\n",
    "outpending_status = te.select(te.job_id,te.task_index,te.event_type,te.time)\\\n",
    "    .filter(te.event_type.isin(['1', '3', '5', '6'])).select(te.job_id,te.task_index,te.time)\\\n",
    "    .withColumnRenamed('time', 'time_end_pending')\n",
    "    \n",
    "outpending = outpending_status.groupBy(['job_id', 'task_index']).agg(F.min('time_end_pending').alias('time_end_pending'))"
   ]
  },
  {
   "cell_type": "code",
   "execution_count": 140,
   "metadata": {},
   "outputs": [
    {
     "name": "stdout",
     "output_type": "stream",
     "text": [
      "Showing a subset of (job, task) that have waited in PENDING state:\n",
      "+----------+----------+-------------+\n",
      "|    job_id|task_index|   delta_time|\n",
      "+----------+----------+-------------+\n",
      "| 515042969|         1|1.026166412E9|\n",
      "|5495698530|         0|    2058110.0|\n",
      "|5495698530|         1|    2058165.0|\n",
      "|5664371117|       369|2.450274015E9|\n",
      "|5664371117|       475|4.475973764E9|\n",
      "|6218406404|      1006|1.736168175E9|\n",
      "|6218406404|      1010|1.758708802E9|\n",
      "|6218406404|      1022|1.805049496E9|\n",
      "|6218406404|      1052|1.820799199E9|\n",
      "|6218406404|      1082|1.875746714E9|\n",
      "+----------+----------+-------------+\n",
      "only showing top 10 rows\n",
      "\n"
     ]
    }
   ],
   "source": [
    "# Join both sanitized dataframes together on job id and task id\n",
    "fullpending = inpending.join(outpending, ['job_id', 'task_index'])\n",
    "\n",
    "# Compute the delta for each occurence (time spent in pending state computed from both time_start_pending and time_end_pending)\n",
    "fullpending_with_delta = fullpending.withColumn('delta_time', F.col('time_end_pending') - F.col('time_start_pending'))\n",
    "fullpending_with_delta = fullpending_with_delta.select('job_id', 'task_index', 'delta_time')\n",
    "\n",
    "# Quick output of non-null deltas to show how it looks like with interesting data\n",
    "print(\"Showing a subset of (job, task) that have waited in PENDING state:\")\n",
    "fullpending_with_delta.filter(F.col('delta_time') > 0).show(10)"
   ]
  },
  {
   "cell_type": "code",
   "execution_count": 141,
   "metadata": {},
   "outputs": [
    {
     "name": "stdout",
     "output_type": "stream",
     "text": [
      "Average delta time for every job computed. Showing subset:\n",
      "+----------+---------------+\n",
      "|    job_id|avg(delta_time)|\n",
      "+----------+---------------+\n",
      "|5007846463|            0.0|\n",
      "|5556388735|            0.0|\n",
      "|5943138316|            0.0|\n",
      "|6127575571|            0.0|\n",
      "|6137696559|            0.0|\n",
      "+----------+---------------+\n",
      "only showing top 5 rows\n",
      "\n"
     ]
    }
   ],
   "source": [
    "# Compute the mean delta time for each job\n",
    "fullpending_with_delta = fullpending_with_delta.drop('task_index').groupBy('job_id').mean('delta_time')\n",
    "print(\"Average delta time for every job computed. Showing subset:\")\n",
    "fullpending_with_delta.show(5)"
   ]
  },
  {
   "cell_type": "code",
   "execution_count": 143,
   "metadata": {},
   "outputs": [
    {
     "name": "stdout",
     "output_type": "stream",
     "text": [
      "Will download at most 1 file(s) from task_constraints.\n",
      "Polling bucket gs://clusterdata-2011-2/task_constraints\n",
      "Dowloading [/part-00000-of-00500.csv.gz]\n",
      "Successfully downloaded table [task_constraints] (1/500).\n"
     ]
    }
   ],
   "source": [
    "# Take constraints\n",
    "tc = create_dataframe('task_constraints', EXEC_MODE, cloud)"
   ]
  },
  {
   "cell_type": "code",
   "execution_count": 145,
   "metadata": {},
   "outputs": [
    {
     "name": "stdout",
     "output_type": "stream",
     "text": [
      "Subset of the full joined data:\n",
      "+----------+---------------+------------------+\n",
      "|    job_id|avg(delta_time)|        avg(count)|\n",
      "+----------+---------------+------------------+\n",
      "| 515042954|            0.0|14.307692307692308|\n",
      "|3990224152|            0.0|               8.0|\n",
      "|2278253484|            0.0|               8.0|\n",
      "|6239317302|            0.0|               8.0|\n",
      "|5425205893|            0.0|               8.0|\n",
      "+----------+---------------+------------------+\n",
      "only showing top 5 rows\n",
      "\n"
     ]
    }
   ],
   "source": [
    "# compute the mean number of constraints for each job\n",
    "cons_jt = tc.select(tc.job_id, tc.task_index)\n",
    "cons_jt = cons_jt.groupBy(cons_jt.job_id, cons_jt.task_index).count()\n",
    "cons_jt = cons_jt.drop('task_index').groupBy('job_id').mean('count')\n",
    "\n",
    "# Join the number of constraints with the delta time dataframe\n",
    "full_df = fullpending_with_delta.join(cons_jt, on='job_id')\n",
    "full_df = full_df.filter(full_df['avg(count)'] < 50).sort('avg(count)', ascending=False)\n",
    "\n",
    "print(\"Subset of the full joined data:\")\n",
    "full_df.show(5)"
   ]
  },
  {
   "cell_type": "code",
   "execution_count": 129,
   "metadata": {},
   "outputs": [
    {
     "data": {
      "text/plain": [
       "Text(0.5, 1.0, 'Time spent on PENDING state depending on the number of constraints')"
      ]
     },
     "execution_count": 129,
     "metadata": {},
     "output_type": "execute_result"
    },
    {
     "data": {
      "image/png": "[encoded data removed]",
      "text/plain": [
       "<Figure size 1200x800 with 1 Axes>"
      ]
     },
     "metadata": {
      "needs_background": "light"
     },
     "output_type": "display_data"
    }
   ],
   "source": [
    "# And finally, display the graph\n",
    "data = full_df.select('avg(delta_time)', 'avg(count)').toPandas()\n",
    "\n",
    "g = sns.scatterplot(data=data, x='avg(count)', y=\"avg(delta_time)\")\n",
    "\n",
    "g.set_xlabel(\"Number of constraints\")\n",
    "g.set_ylabel(\"Delta time\")\n",
    "\n",
    "g.set_title(\"Time spent on PENDING state depending on the number of constraints\")"
   ]
  },
  {
   "cell_type": "markdown",
   "metadata": {},
   "source": [
    "From the graph shown above, we notice that despite having multiple constraints, a lot of tasks are not spending that much time in pending state (as their associated delta time is close to 0). This means that the number of these constraints does not influes directly on the time spent on pending.\n",
    "\n",
    "Furthermore, we notice that some tasks that have no constraints were still put on hold for a while (maybe because all slots were filled ?), and at least one process that has several thousands of constraints was also forced to wait (it may be a mix of service unavailability and hard to satisfy constraints...)"
   ]
  },
  {
   "cell_type": "markdown",
   "metadata": {},
   "source": [
    "#### With RDDs\n",
    "\n",
    "The first implementation is using Pyspark's DataFrames. We now wish to do an implementation in RDD, in order to:\n",
    "\n",
    "A- Be consistent with the other parts of the code written in this notebook\n",
    "\n",
    "B- Prepare for the RDD vs DataFrame performance test that we will conduct on the cloud"
   ]
  },
  {
   "cell_type": "code",
   "execution_count": 149,
   "metadata": {},
   "outputs": [
    {
     "name": "stdout",
     "output_type": "stream",
     "text": [
      "Subset of the reduced data:\n"
     ]
    },
    {
     "data": {
      "text/plain": [
       "[('3418309, 0', 0.0),\n",
       " ('3418309, 1', 0.0),\n",
       " ('3418314, 0', 0.0),\n",
       " ('3418314, 1', 0.0),\n",
       " ('3418319, 0', 0.0)]"
      ]
     },
     "execution_count": 149,
     "metadata": {},
     "output_type": "execute_result"
    }
   ],
   "source": [
    "# Select first SUBMIT transition for each job & task\n",
    "submit_status = task_events.select(['job_id', 'task_index', 'event_type', 'time'])\\\n",
    "    .filter(lambda x: x[2] in ['0'])\\\n",
    "    .map(lambda x: (x[0]+', '+x[1], float(x[3])))\n",
    "\n",
    "rdd_submit = submit_status.reduceByKey(min)\n",
    "print(\"Subset of the reduced data:\")\n",
    "rdd_submit.take(5)"
   ]
  },
  {
   "cell_type": "code",
   "execution_count": 150,
   "metadata": {},
   "outputs": [
    {
     "name": "stdout",
     "output_type": "stream",
     "text": [
      "Subset of the reduced data:\n"
     ]
    },
    {
     "data": {
      "text/plain": [
       "[('3418309, 0', 0.0),\n",
       " ('3418309, 1', 0.0),\n",
       " ('3418314, 0', 0.0),\n",
       " ('3418314, 1', 0.0),\n",
       " ('3418319, 0', 0.0)]"
      ]
     },
     "execution_count": 150,
     "metadata": {},
     "output_type": "execute_result"
    }
   ],
   "source": [
    "outpending_status = task_events.select(['job_id', 'task_index', 'event_type', 'time'])\\\n",
    "    .filter(lambda x: x[2] in ['1', '3', '5', '6'])\\\n",
    "    .map(lambda x: (x[0]+', '+x[1], float(x[3])))\n",
    "\n",
    "rdd_out = outpending_status.reduceByKey(min)\n",
    "print(\"Subset of the reduced data:\")\n",
    "rdd_out.take(5)"
   ]
  },
  {
   "cell_type": "code",
   "execution_count": 151,
   "metadata": {},
   "outputs": [
    {
     "name": "stdout",
     "output_type": "stream",
     "text": [
      "Subset of the averaged data:\n"
     ]
    },
    {
     "data": {
      "text/plain": [
       "[('3418309', 0.0),\n",
       " ('3418314', 0.0),\n",
       " ('3418319', 0.0),\n",
       " ('3418324', 0.0),\n",
       " ('3418329', 0.0)]"
      ]
     },
     "execution_count": 151,
     "metadata": {},
     "output_type": "execute_result"
    }
   ],
   "source": [
    "# Join everything and compute delta time for each job & task\n",
    "rdd_deltatimes = rdd_submit.join(rdd_out).map(lambda x: (x[0].split(', ')[0], x[1][1] - x[1][0]))\n",
    "\n",
    "# Average of the delta times for each job\n",
    "rdd_deltatimes = rdd_deltatimes.groupByKey().mapValues(lambda x: round(sum(x)/len(x), 3))\n",
    "\n",
    "print(\"Subset of the averaged data:\")\n",
    "rdd_deltatimes.take(5)"
   ]
  },
  {
   "cell_type": "code",
   "execution_count": 152,
   "metadata": {},
   "outputs": [
    {
     "name": "stdout",
     "output_type": "stream",
     "text": [
      "Subset of the averaged data:\n"
     ]
    },
    {
     "data": {
      "text/plain": [
       "[('3418314', 4.0),\n",
       " ('3418368', 4.0),\n",
       " ('3418375', 6.0),\n",
       " ('3418380', 4.0),\n",
       " ('3418400', 4.0)]"
      ]
     },
     "execution_count": 152,
     "metadata": {},
     "output_type": "execute_result"
    }
   ],
   "source": [
    "# Load the task_constraints table\n",
    "task_constraints = Table('task_constraints', sc, EXEC_MODE, cloud)\n",
    "\n",
    "# Selects each occurence of constraint registered for each process\n",
    "# Compute the number of constraints (= number of occurences)\n",
    "task_constraints_per_job = task_constraints.select(['job_id', 'task_index'])\\\n",
    "    .map(lambda x: (x[0]+', '+x[1],1))\\\n",
    "    .reduceByKey(lambda a,b: a+b)\\\n",
    "    .map(lambda x: (x[0].split(', ')[0], x[1]))\n",
    "\n",
    "# Compute the average number of constraints \n",
    "task_constraints_per_job = task_constraints_per_job.groupByKey().mapValues(lambda x: round(sum(x)/len(x), 3))\n",
    "\n",
    "print(\"Subset of the averaged data:\")\n",
    "task_constraints_per_job.take(5)\n",
    "\n"
   ]
  },
  {
   "cell_type": "code",
   "execution_count": 135,
   "metadata": {},
   "outputs": [
    {
     "data": {
      "text/plain": [
       "[('3418309', (0.0, 2.0)),\n",
       " ('3418314', (0.0, 4.0)),\n",
       " ('3418319', (0.0, 2.0)),\n",
       " ('3418324', (0.0, 2.0)),\n",
       " ('3418329', (0.0, 2.0))]"
      ]
     },
     "execution_count": 135,
     "metadata": {},
     "output_type": "execute_result"
    }
   ],
   "source": [
    "# Join the delta time and the number of constraints in one RDD\n",
    "rdd_delta_constraints = rdd_deltatimes.join(task_constraints_per_job).filter(lambda x: x[1][1] < 50)\n",
    "rdd_delta_constraints.take(5)"
   ]
  },
  {
   "cell_type": "code",
   "execution_count": 136,
   "metadata": {},
   "outputs": [
    {
     "data": {
      "text/plain": [
       "Text(0.5, 1.0, 'Time spent on PENDING state depending on the number of constraints')"
      ]
     },
     "execution_count": 136,
     "metadata": {},
     "output_type": "execute_result"
    },
    {
     "data": {
      "image/png": "[encoded data removed]",
      "text/plain": [
       "<Figure size 1200x800 with 1 Axes>"
      ]
     },
     "metadata": {
      "needs_background": "light"
     },
     "output_type": "display_data"
    }
   ],
   "source": [
    "# Create the list of values from the last RDD\n",
    "rdd_to_map = rdd_delta_constraints.collectAsMap()\n",
    "deltatimes = [v[0] for v in rdd_to_map.values()]\n",
    "constraints = [v[1] for v in rdd_to_map.values()]\n",
    "\n",
    "# And then pass it to seaborn to create a barplot to have a global view\n",
    "g = sns.scatterplot(x=constraints, y=deltatimes)\n",
    "\n",
    "g.set_xlabel(\"Number of constraints\")\n",
    "g.set_ylabel(\"Delta time\")\n",
    "\n",
    "g.set_title(\"Time spent on PENDING state depending on the number of constraints\")"
   ]
  },
  {
   "cell_type": "code",
   "execution_count": null,
   "metadata": {},
   "outputs": [],
   "source": []
  }
 ],
 "metadata": {
  "interpreter": {
   "hash": "916dbcbb3f70747c44a77c7bcd40155683ae19c65e1c03b4aa3499c5328201f1"
  },
  "kernelspec": {
   "display_name": "Python 3.8.10 64-bit",
   "name": "python3"
  },
  "language_info": {
   "codemirror_mode": {
    "name": "ipython",
    "version": 3
   },
   "file_extension": ".py",
   "mimetype": "text/x-python",
   "name": "python",
   "nbconvert_exporter": "python",
   "pygments_lexer": "ipython3",
   "version": "3.8.10"
  },
  "orig_nbformat": 4
 },
 "nbformat": 4,
 "nbformat_minor": 2
}
