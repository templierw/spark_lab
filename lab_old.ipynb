{
 "cells": [
  {
   "cell_type": "code",
   "execution_count": 1,
   "metadata": {},
   "outputs": [
    {
     "name": "stderr",
     "output_type": "stream",
     "text": [
      "21/12/07 18:25:45 WARN Utils: Your hostname, pasokon resolves to a loopback address: 127.0.1.1; using 192.168.1.96 instead (on interface wlo1)\n",
      "21/12/07 18:25:45 WARN Utils: Set SPARK_LOCAL_IP if you need to bind to another address\n",
      "WARNING: An illegal reflective access operation has occurred\n",
      "WARNING: Illegal reflective access by org.apache.spark.unsafe.Platform (file:/home/william/.local/lib/python3.8/site-packages/pyspark/jars/spark-unsafe_2.12-3.1.2.jar) to constructor java.nio.DirectByteBuffer(long,int)\n",
      "WARNING: Please consider reporting this to the maintainers of org.apache.spark.unsafe.Platform\n",
      "WARNING: Use --illegal-access=warn to enable warnings of further illegal reflective access operations\n",
      "WARNING: All illegal access operations will be denied in a future release\n",
      "21/12/07 18:25:46 WARN NativeCodeLoader: Unable to load native-hadoop library for your platform... using builtin-java classes where applicable\n",
      "Using Spark's default log4j profile: org/apache/spark/log4j-defaults.properties\n",
      "Setting default log level to \"WARN\".\n",
      "To adjust logging level use sc.setLogLevel(newLevel). For SparkR, use setLogLevel(newLevel).\n"
     ]
    }
   ],
   "source": [
    "import seaborn as sns\n",
    "import matplotlib.pyplot as plt\n",
    "colors = sns.color_palette('viridis')\n",
    "\n",
    "import numpy as np\n",
    "np.set_printoptions(suppress=True)\n",
    "\n",
    "from pyspark import SparkContext\n",
    "from lib.table import Table\n",
    "\n",
    "# start spark with 1 worker thread\n",
    "sc = SparkContext(\"local[*]\")\n",
    "sc.setLogLevel(\"ERROR\")"
   ]
  },
  {
   "cell_type": "markdown",
   "metadata": {},
   "source": [
    "### What is the distribution of the machines according to their CPU capacity?"
   ]
  },
  {
   "cell_type": "code",
   "execution_count": 2,
   "metadata": {},
   "outputs": [
    {
     "name": "stderr",
     "output_type": "stream",
     "text": []
    },
    {
     "data": {
      "text/html": [
       "<div>\n",
       "<style scoped>\n",
       "    .dataframe tbody tr th:only-of-type {\n",
       "        vertical-align: middle;\n",
       "    }\n",
       "\n",
       "    .dataframe tbody tr th {\n",
       "        vertical-align: top;\n",
       "    }\n",
       "\n",
       "    .dataframe thead th {\n",
       "        text-align: right;\n",
       "    }\n",
       "</style>\n",
       "<table border=\"1\" class=\"dataframe\">\n",
       "  <thead>\n",
       "    <tr style=\"text-align: right;\">\n",
       "      <th></th>\n",
       "      <th>time</th>\n",
       "      <th>machine_id</th>\n",
       "      <th>event_type</th>\n",
       "      <th>platform_id</th>\n",
       "      <th>cpus</th>\n",
       "      <th>memory</th>\n",
       "    </tr>\n",
       "  </thead>\n",
       "  <tbody>\n",
       "    <tr>\n",
       "      <th>0</th>\n",
       "      <td>0</td>\n",
       "      <td>5</td>\n",
       "      <td>0</td>\n",
       "      <td>HofLGzk1Or/8Ildj2+Lqv0UGGvY82NLoni8+J/Yy0RU=</td>\n",
       "      <td>0.5</td>\n",
       "      <td>0.2493</td>\n",
       "    </tr>\n",
       "    <tr>\n",
       "      <th>1</th>\n",
       "      <td>0</td>\n",
       "      <td>6</td>\n",
       "      <td>0</td>\n",
       "      <td>HofLGzk1Or/8Ildj2+Lqv0UGGvY82NLoni8+J/Yy0RU=</td>\n",
       "      <td>0.5</td>\n",
       "      <td>0.2493</td>\n",
       "    </tr>\n",
       "    <tr>\n",
       "      <th>2</th>\n",
       "      <td>0</td>\n",
       "      <td>7</td>\n",
       "      <td>0</td>\n",
       "      <td>HofLGzk1Or/8Ildj2+Lqv0UGGvY82NLoni8+J/Yy0RU=</td>\n",
       "      <td>0.5</td>\n",
       "      <td>0.2493</td>\n",
       "    </tr>\n",
       "    <tr>\n",
       "      <th>3</th>\n",
       "      <td>0</td>\n",
       "      <td>10</td>\n",
       "      <td>0</td>\n",
       "      <td>HofLGzk1Or/8Ildj2+Lqv0UGGvY82NLoni8+J/Yy0RU=</td>\n",
       "      <td>0.5</td>\n",
       "      <td>0.2493</td>\n",
       "    </tr>\n",
       "    <tr>\n",
       "      <th>4</th>\n",
       "      <td>0</td>\n",
       "      <td>13</td>\n",
       "      <td>0</td>\n",
       "      <td>HofLGzk1Or/8Ildj2+Lqv0UGGvY82NLoni8+J/Yy0RU=</td>\n",
       "      <td>0.5</td>\n",
       "      <td>0.2493</td>\n",
       "    </tr>\n",
       "  </tbody>\n",
       "</table>\n",
       "</div>"
      ],
      "text/plain": [
       "  time machine_id event_type                                   platform_id  \\\n",
       "0    0          5          0  HofLGzk1Or/8Ildj2+Lqv0UGGvY82NLoni8+J/Yy0RU=   \n",
       "1    0          6          0  HofLGzk1Or/8Ildj2+Lqv0UGGvY82NLoni8+J/Yy0RU=   \n",
       "2    0          7          0  HofLGzk1Or/8Ildj2+Lqv0UGGvY82NLoni8+J/Yy0RU=   \n",
       "3    0         10          0  HofLGzk1Or/8Ildj2+Lqv0UGGvY82NLoni8+J/Yy0RU=   \n",
       "4    0         13          0  HofLGzk1Or/8Ildj2+Lqv0UGGvY82NLoni8+J/Yy0RU=   \n",
       "\n",
       "  cpus  memory  \n",
       "0  0.5  0.2493  \n",
       "1  0.5  0.2493  \n",
       "2  0.5  0.2493  \n",
       "3  0.5  0.2493  \n",
       "4  0.5  0.2493  "
      ]
     },
     "execution_count": 2,
     "metadata": {},
     "output_type": "execute_result"
    }
   ],
   "source": [
    "machine_events = Table('machine_events', sc)\n",
    "machine_events.pprint(take=5)"
   ]
  },
  {
   "cell_type": "code",
   "execution_count": 3,
   "metadata": {},
   "outputs": [
    {
     "name": "stdout",
     "output_type": "stream",
     "text": [
      "cpu type: 0.5, count: 35015\n",
      "cpu type: 0.25, count: 510\n",
      "cpu type: 1, count: 2223\n",
      "cpu type: NA, count: 32\n"
     ]
    }
   ],
   "source": [
    "cpu_dist = machine_events.select(['cpus']).countByValue()\n",
    "for cpu_type, value in cpu_dist.items():\n",
    "    print(f'cpu type: {cpu_type[0]}, count: {value}')"
   ]
  },
  {
   "cell_type": "code",
   "execution_count": 5,
   "metadata": {},
   "outputs": [
    {
     "data": {
      "image/png": "[encoded data removed]",
      "text/plain": [
       "<Figure size 432x288 with 1 Axes>"
      ]
     },
     "metadata": {},
     "output_type": "display_data"
    }
   ],
   "source": [
    "plt.pie(cpu_dist.values(), labels=cpu_dist.keys(), colors = colors, autopct='%.2f%%')\n",
    "plt.show()"
   ]
  },
  {
   "cell_type": "markdown",
   "metadata": {},
   "source": [
    "### On average, how many tasks compose a job?"
   ]
  },
  {
   "cell_type": "code",
   "execution_count": 6,
   "metadata": {},
   "outputs": [
    {
     "name": "stderr",
     "output_type": "stream",
     "text": []
    },
    {
     "data": {
      "text/html": [
       "<div>\n",
       "<style scoped>\n",
       "    .dataframe tbody tr th:only-of-type {\n",
       "        vertical-align: middle;\n",
       "    }\n",
       "\n",
       "    .dataframe tbody tr th {\n",
       "        vertical-align: top;\n",
       "    }\n",
       "\n",
       "    .dataframe thead th {\n",
       "        text-align: right;\n",
       "    }\n",
       "</style>\n",
       "<table border=\"1\" class=\"dataframe\">\n",
       "  <thead>\n",
       "    <tr style=\"text-align: right;\">\n",
       "      <th></th>\n",
       "      <th>time</th>\n",
       "      <th>missing_info</th>\n",
       "      <th>job_id</th>\n",
       "      <th>task_index</th>\n",
       "      <th>machine_id</th>\n",
       "      <th>event_type</th>\n",
       "      <th>user</th>\n",
       "      <th>scheduling_class</th>\n",
       "      <th>priority</th>\n",
       "      <th>cpu_request</th>\n",
       "      <th>memory_request</th>\n",
       "      <th>disk_space_request</th>\n",
       "      <th>different_machines_restriction</th>\n",
       "    </tr>\n",
       "  </thead>\n",
       "  <tbody>\n",
       "    <tr>\n",
       "      <th>0</th>\n",
       "      <td>0</td>\n",
       "      <td>2</td>\n",
       "      <td>3418309</td>\n",
       "      <td>0</td>\n",
       "      <td>4155527081</td>\n",
       "      <td>0</td>\n",
       "      <td>70s3v5qRyCO/1PCdI6fVXnrW8FU/w+5CKRSa72xgcIo=</td>\n",
       "      <td>3</td>\n",
       "      <td>9</td>\n",
       "      <td>NA</td>\n",
       "      <td>NA</td>\n",
       "      <td>NA</td>\n",
       "      <td>NA</td>\n",
       "    </tr>\n",
       "    <tr>\n",
       "      <th>1</th>\n",
       "      <td>0</td>\n",
       "      <td>2</td>\n",
       "      <td>3418309</td>\n",
       "      <td>1</td>\n",
       "      <td>329150663</td>\n",
       "      <td>0</td>\n",
       "      <td>70s3v5qRyCO/1PCdI6fVXnrW8FU/w+5CKRSa72xgcIo=</td>\n",
       "      <td>3</td>\n",
       "      <td>9</td>\n",
       "      <td>NA</td>\n",
       "      <td>NA</td>\n",
       "      <td>NA</td>\n",
       "      <td>NA</td>\n",
       "    </tr>\n",
       "    <tr>\n",
       "      <th>2</th>\n",
       "      <td>0</td>\n",
       "      <td>NA</td>\n",
       "      <td>3418314</td>\n",
       "      <td>0</td>\n",
       "      <td>3938719206</td>\n",
       "      <td>0</td>\n",
       "      <td>70s3v5qRyCO/1PCdI6fVXnrW8FU/w+5CKRSa72xgcIo=</td>\n",
       "      <td>3</td>\n",
       "      <td>9</td>\n",
       "      <td>0.125</td>\n",
       "      <td>0.07446</td>\n",
       "      <td>0.0004244</td>\n",
       "      <td>0</td>\n",
       "    </tr>\n",
       "  </tbody>\n",
       "</table>\n",
       "</div>"
      ],
      "text/plain": [
       "  time missing_info   job_id task_index  machine_id event_type  \\\n",
       "0    0            2  3418309          0  4155527081          0   \n",
       "1    0            2  3418309          1   329150663          0   \n",
       "2    0           NA  3418314          0  3938719206          0   \n",
       "\n",
       "                                           user scheduling_class priority  \\\n",
       "0  70s3v5qRyCO/1PCdI6fVXnrW8FU/w+5CKRSa72xgcIo=                3        9   \n",
       "1  70s3v5qRyCO/1PCdI6fVXnrW8FU/w+5CKRSa72xgcIo=                3        9   \n",
       "2  70s3v5qRyCO/1PCdI6fVXnrW8FU/w+5CKRSa72xgcIo=                3        9   \n",
       "\n",
       "  cpu_request memory_request disk_space_request different_machines_restriction  \n",
       "0          NA             NA                 NA                             NA  \n",
       "1          NA             NA                 NA                             NA  \n",
       "2       0.125        0.07446          0.0004244                              0  "
      ]
     },
     "execution_count": 6,
     "metadata": {},
     "output_type": "execute_result"
    }
   ],
   "source": [
    "task_events = Table('task_events', sc)\n",
    "task_events.pprint(3)"
   ]
  },
  {
   "cell_type": "code",
   "execution_count": 8,
   "metadata": {},
   "outputs": [
    {
     "name": "stderr",
     "output_type": "stream",
     "text": []
    },
    {
     "data": {
      "text/plain": [
       "(46037, 1, 91.96036772216547, 843.9305821206359)"
      ]
     },
     "execution_count": 8,
     "metadata": {},
     "output_type": "execute_result"
    }
   ],
   "source": [
    "\n",
    "job = task_events.select(['job_id'])\n",
    "task_per_job = list(job.countByValue().values())\n",
    "np.max(task_per_job), np.min(task_per_job), np.mean(task_per_job), np.std(task_per_job) "
   ]
  },
  {
   "cell_type": "markdown",
   "metadata": {},
   "source": [
    "## What is the distribution of the number jobs/tasks per scheduling class?"
   ]
  },
  {
   "cell_type": "code",
   "execution_count": 8,
   "metadata": {},
   "outputs": [],
   "source": [
    "## Version 1: bad\n",
    "def to_list(a):\n",
    "    return [[a[0]], [a[1]]]\n",
    "\n",
    "def append(a, b):\n",
    "    a[0].append(b[0])\n",
    "    a[1].append(b[1])\n",
    "    return [a[0], a[1]]\n",
    "\n",
    "def extend(a, b):\n",
    "    a[0].extend(b[0])\n",
    "    a[1].extend(b[1])\n",
    "    return [a[0], a[1]]"
   ]
  },
  {
   "cell_type": "code",
   "execution_count": 9,
   "metadata": {},
   "outputs": [],
   "source": [
    "def init(new):\n",
    "    job = set()\n",
    "    job.add(new)\n",
    "    return [job, 1]\n",
    "\n",
    "def merge(old, new):\n",
    "    old[0].add(new)\n",
    "    return [old[0], old[1] + 1]\n",
    "\n",
    "def combine(c1, c2):\n",
    "    c1[0].union(c2[0])\n",
    "    return [c1[0], c1[1]+c2[1]]"
   ]
  },
  {
   "cell_type": "code",
   "execution_count": 10,
   "metadata": {},
   "outputs": [
    {
     "name": "stderr",
     "output_type": "stream",
     "text": []
    },
    {
     "name": "stdout",
     "output_type": "stream",
     "text": [
      "scheduling class [1], #job: 1253, #task: 58109\n",
      "scheduling class [0], #job: 580, #task: 237969\n",
      "scheduling class [3], #job: 922, #task: 56586\n",
      "scheduling class [2], #job: 1226, #task: 97482\n"
     ]
    },
    {
     "name": "stderr",
     "output_type": "stream",
     "text": []
    }
   ],
   "source": [
    "job_task_sched = task_events.select(['scheduling_class','job_id'])\n",
    "res = job_task_sched.combineByKey(init, merge, combine).mapValues(lambda x: (len(x[0]), x[1]))\n",
    "print('\\n'.join(f'scheduling class [{s}], #job: {j}, #task: {t}' for \\\n",
    "            s, (j,t) in res.collect()))"
   ]
  },
  {
   "cell_type": "markdown",
   "metadata": {},
   "source": [
    "### Do tasks with low priority have a higher probability of being evicted?"
   ]
  },
  {
   "cell_type": "code",
   "execution_count": 11,
   "metadata": {},
   "outputs": [
    {
     "name": "stderr",
     "output_type": "stream",
     "text": []
    },
    {
     "name": "stdout",
     "output_type": "stream",
     "text": [
      "priority [0] = 0.97\n",
      "priority [1] = 0.012\n",
      "priority [2] = 0.0127\n",
      "priority [9] = 0.0051\n",
      "priority [10] = 0.0002\n"
     ]
    },
    {
     "name": "stderr",
     "output_type": "stream",
     "text": []
    }
   ],
   "source": [
    "rdd = task_events.select(['event_type', 'priority'])\\\n",
    "        .filter(lambda x: x[0] == '2')\\\n",
    "        .map(lambda x: int(x[1]))\n",
    "\n",
    "total_evicted = rdd.count()\n",
    "p = rdd.countByValue()\n",
    "for k,v in sorted(p.items()):\n",
    "    print(f'priority [{k}] = {round(v/total_evicted, 4)}')"
   ]
  },
  {
   "cell_type": "markdown",
   "metadata": {},
   "source": [
    "### In general, do tasks from the same job run on the same machine?"
   ]
  },
  {
   "cell_type": "code",
   "execution_count": 12,
   "metadata": {},
   "outputs": [
    {
     "name": "stderr",
     "output_type": "stream",
     "text": []
    },
    {
     "data": {
      "text/plain": [
       "[('6221861800', 10093),\n",
       " ('6225099547', 4104),\n",
       " ('5402488769', 4051),\n",
       " ('2902878580', 3881),\n",
       " ('6238340468', 3067)]"
      ]
     },
     "execution_count": 12,
     "metadata": {},
     "output_type": "execute_result"
    }
   ],
   "source": [
    "task_events.select(['job_id', 'machine_id'])\\\n",
    "           .groupByKey()\\\n",
    "           .mapValues(lambda x: len(set(x)))\\\n",
    "           .sortBy(lambda x: x[1], ascending=False)\\\n",
    "           .take(5)"
   ]
  },
  {
   "cell_type": "markdown",
   "metadata": {},
   "source": [
    "## Are the tasks that request the more resources the one that consume the more resources?"
   ]
  },
  {
   "cell_type": "code",
   "execution_count": 18,
   "metadata": {},
   "outputs": [
    {
     "data": {
      "text/html": [
       "<div>\n",
       "<style scoped>\n",
       "    .dataframe tbody tr th:only-of-type {\n",
       "        vertical-align: middle;\n",
       "    }\n",
       "\n",
       "    .dataframe tbody tr th {\n",
       "        vertical-align: top;\n",
       "    }\n",
       "\n",
       "    .dataframe thead th {\n",
       "        text-align: right;\n",
       "    }\n",
       "</style>\n",
       "<table border=\"1\" class=\"dataframe\">\n",
       "  <thead>\n",
       "    <tr style=\"text-align: right;\">\n",
       "      <th></th>\n",
       "      <th>start_time</th>\n",
       "      <th>end_time</th>\n",
       "      <th>job_id</th>\n",
       "      <th>task_index</th>\n",
       "      <th>machine_id</th>\n",
       "      <th>cpu_rate</th>\n",
       "      <th>canonical_memory_usage</th>\n",
       "      <th>assigned_memory_usage</th>\n",
       "      <th>unmapped_page_cache</th>\n",
       "      <th>total_page_cache</th>\n",
       "      <th>maximum_memory_usage</th>\n",
       "      <th>disk_i/o_time</th>\n",
       "      <th>local_disk_space_usage</th>\n",
       "      <th>maximum_cpu_rate</th>\n",
       "      <th>maximum_disk_io_time</th>\n",
       "      <th>cycles_per_instruction</th>\n",
       "      <th>memory_accesses_per_instruction</th>\n",
       "      <th>sample_portion</th>\n",
       "      <th>aggregation_type</th>\n",
       "      <th>sampled_cpu_usage</th>\n",
       "    </tr>\n",
       "  </thead>\n",
       "  <tbody>\n",
       "    <tr>\n",
       "      <th>0</th>\n",
       "      <td>5612000000</td>\n",
       "      <td>5700000000</td>\n",
       "      <td>4665712499</td>\n",
       "      <td>369</td>\n",
       "      <td>4820204869</td>\n",
       "      <td>0.03143</td>\n",
       "      <td>0.05389</td>\n",
       "      <td>0.06946</td>\n",
       "      <td>0.005997</td>\n",
       "      <td>0.006645</td>\n",
       "      <td>0.05408</td>\n",
       "      <td>7.629e-05</td>\n",
       "      <td>0.0003834</td>\n",
       "      <td>0.2415</td>\n",
       "      <td>0.002571</td>\n",
       "      <td>2.911</td>\n",
       "      <td>NA</td>\n",
       "      <td>0</td>\n",
       "      <td>0</td>\n",
       "      <td>0.02457</td>\n",
       "    </tr>\n",
       "    <tr>\n",
       "      <th>1</th>\n",
       "      <td>5612000000</td>\n",
       "      <td>5700000000</td>\n",
       "      <td>4665712499</td>\n",
       "      <td>798</td>\n",
       "      <td>3349189123</td>\n",
       "      <td>0.02698</td>\n",
       "      <td>0.06714</td>\n",
       "      <td>0.07715</td>\n",
       "      <td>0.004219</td>\n",
       "      <td>0.004868</td>\n",
       "      <td>0.06726</td>\n",
       "      <td>7.915e-05</td>\n",
       "      <td>0.0003681</td>\n",
       "      <td>0.27</td>\n",
       "      <td>0.00293</td>\n",
       "      <td>3.285</td>\n",
       "      <td>0.008261</td>\n",
       "      <td>0</td>\n",
       "      <td>0</td>\n",
       "      <td>0.01608</td>\n",
       "    </tr>\n",
       "    <tr>\n",
       "      <th>2</th>\n",
       "      <td>5612000000</td>\n",
       "      <td>5700000000</td>\n",
       "      <td>4665896876</td>\n",
       "      <td>251</td>\n",
       "      <td>372630265</td>\n",
       "      <td>0.04114</td>\n",
       "      <td>0.06714</td>\n",
       "      <td>0.07739</td>\n",
       "      <td>0.002956</td>\n",
       "      <td>0.003605</td>\n",
       "      <td>0.0675</td>\n",
       "      <td>0.0001135</td>\n",
       "      <td>0.000371</td>\n",
       "      <td>0.1086</td>\n",
       "      <td>0.004784</td>\n",
       "      <td>1.551</td>\n",
       "      <td>0.002311</td>\n",
       "      <td>0</td>\n",
       "      <td>0</td>\n",
       "      <td>0.05286</td>\n",
       "    </tr>\n",
       "    <tr>\n",
       "      <th>3</th>\n",
       "      <td>5612000000</td>\n",
       "      <td>5613000000</td>\n",
       "      <td>5285926325</td>\n",
       "      <td>0</td>\n",
       "      <td>2850406</td>\n",
       "      <td>0</td>\n",
       "      <td>0</td>\n",
       "      <td>0</td>\n",
       "      <td>0</td>\n",
       "      <td>0</td>\n",
       "      <td>0</td>\n",
       "      <td>0</td>\n",
       "      <td>0</td>\n",
       "      <td>0</td>\n",
       "      <td>0</td>\n",
       "      <td>NA</td>\n",
       "      <td>NA</td>\n",
       "      <td>0</td>\n",
       "      <td>0</td>\n",
       "      <td>0</td>\n",
       "    </tr>\n",
       "    <tr>\n",
       "      <th>4</th>\n",
       "      <td>5612000000</td>\n",
       "      <td>5700000000</td>\n",
       "      <td>6000618870</td>\n",
       "      <td>74</td>\n",
       "      <td>1437119225</td>\n",
       "      <td>0.07275</td>\n",
       "      <td>0.01898</td>\n",
       "      <td>0.02716</td>\n",
       "      <td>0.0008469</td>\n",
       "      <td>0.002251</td>\n",
       "      <td>0.01901</td>\n",
       "      <td>0</td>\n",
       "      <td>0</td>\n",
       "      <td>0.2415</td>\n",
       "      <td>0</td>\n",
       "      <td>1.3</td>\n",
       "      <td>0.0005437</td>\n",
       "      <td>0</td>\n",
       "      <td>0</td>\n",
       "      <td>0.06238</td>\n",
       "    </tr>\n",
       "  </tbody>\n",
       "</table>\n",
       "</div>"
      ],
      "text/plain": [
       "   start_time    end_time      job_id task_index  machine_id cpu_rate  \\\n",
       "0  5612000000  5700000000  4665712499        369  4820204869  0.03143   \n",
       "1  5612000000  5700000000  4665712499        798  3349189123  0.02698   \n",
       "2  5612000000  5700000000  4665896876        251   372630265  0.04114   \n",
       "3  5612000000  5613000000  5285926325          0     2850406        0   \n",
       "4  5612000000  5700000000  6000618870         74  1437119225  0.07275   \n",
       "\n",
       "  canonical_memory_usage assigned_memory_usage unmapped_page_cache  \\\n",
       "0                0.05389               0.06946            0.005997   \n",
       "1                0.06714               0.07715            0.004219   \n",
       "2                0.06714               0.07739            0.002956   \n",
       "3                      0                     0                   0   \n",
       "4                0.01898               0.02716           0.0008469   \n",
       "\n",
       "  total_page_cache maximum_memory_usage disk_i/o_time local_disk_space_usage  \\\n",
       "0         0.006645              0.05408     7.629e-05              0.0003834   \n",
       "1         0.004868              0.06726     7.915e-05              0.0003681   \n",
       "2         0.003605               0.0675     0.0001135               0.000371   \n",
       "3                0                    0             0                      0   \n",
       "4         0.002251              0.01901             0                      0   \n",
       "\n",
       "  maximum_cpu_rate maximum_disk_io_time cycles_per_instruction  \\\n",
       "0           0.2415             0.002571                  2.911   \n",
       "1             0.27              0.00293                  3.285   \n",
       "2           0.1086             0.004784                  1.551   \n",
       "3                0                    0                     NA   \n",
       "4           0.2415                    0                    1.3   \n",
       "\n",
       "  memory_accesses_per_instruction sample_portion aggregation_type  \\\n",
       "0                              NA              0                0   \n",
       "1                        0.008261              0                0   \n",
       "2                        0.002311              0                0   \n",
       "3                              NA              0                0   \n",
       "4                       0.0005437              0                0   \n",
       "\n",
       "  sampled_cpu_usage  \n",
       "0           0.02457  \n",
       "1           0.01608  \n",
       "2           0.05286  \n",
       "3                 0  \n",
       "4           0.06238  "
      ]
     },
     "execution_count": 18,
     "metadata": {},
     "output_type": "execute_result"
    }
   ],
   "source": [
    "task_usage = Table('task_usage', spark_context=sc)\n",
    "task_usage.pprint(5)"
   ]
  },
  {
   "cell_type": "markdown",
   "metadata": {},
   "source": [
    "### CPU usage"
   ]
  },
  {
   "cell_type": "code",
   "execution_count": null,
   "metadata": {},
   "outputs": [
    {
     "data": {
      "text/plain": [
       "[(('3418314', '0'), 0.125),\n",
       " (('3418314', '1'), 0.125),\n",
       " (('3418368', '0'), 0.03125),\n",
       " (('3418368', '1'), 0.03125),\n",
       " (('3418368', '2'), 0.03125)]"
      ]
     },
     "execution_count": 17,
     "metadata": {},
     "output_type": "execute_result"
    }
   ],
   "source": [
    "cpu_req = task_events.select(['job_id','task_index','cpu_request'])\\\n",
    "                     .filter(lambda x: x[2] != 'NA')\\\n",
    "                     .map(lambda x: ((x[0],x[1]),float(x[2])))\n",
    "cpu_req.take(5)"
   ]
  },
  {
   "cell_type": "code",
   "execution_count": null,
   "metadata": {},
   "outputs": [
    {
     "data": {
      "text/plain": [
       "[(('3418309', '0'), 0.001562),\n",
       " (('3418309', '1'), 0.001568),\n",
       " (('3418314', '0'), 0.0003071),\n",
       " (('3418314', '1'), 0.0003004),\n",
       " (('3418319', '0'), 0.0004606)]"
      ]
     },
     "execution_count": 18,
     "metadata": {},
     "output_type": "execute_result"
    }
   ],
   "source": [
    "cpu_us = task_usage.select(['job_id','task_index','cpu_rate'])\\\n",
    "                   .filter(lambda x: x[2] != 'NA')\\\n",
    "                   .map(lambda x: ((x[0],x[1]),float(x[2])))\n",
    "cpu_us.take(5)"
   ]
  },
  {
   "cell_type": "code",
   "execution_count": null,
   "metadata": {},
   "outputs": [
    {
     "name": "stderr",
     "output_type": "stream",
     "text": []
    },
    {
     "data": {
      "text/plain": [
       "[(('17109330', '5'), (0.0625, 0.03589)),\n",
       " (('17109330', '5'), (0.0625, 0.03528)),\n",
       " (('17109330', '5'), (0.0625, 0.03662)),\n",
       " (('17109330', '5'), (0.0625, 0.03351)),\n",
       " (('17109330', '5'), (0.0625, 0.03339))]"
      ]
     },
     "execution_count": 19,
     "metadata": {},
     "output_type": "execute_result"
    }
   ],
   "source": [
    "cpu_cons = cpu_req.join(cpu_us)\n",
    "cpu_cons.take(5)"
   ]
  },
  {
   "cell_type": "code",
   "execution_count": null,
   "metadata": {},
   "outputs": [
    {
     "name": "stderr",
     "output_type": "stream",
     "text": []
    },
    {
     "data": {
      "text/plain": [
       "[(('17109330', '5'), (2.125, 1.21388, 34)),\n",
       " (('17109330', '11'), (2.125, 1.0815, 34)),\n",
       " (('17109330', '15'), (2.125, 1.2545199999999999, 34)),\n",
       " (('17109330', '31'), (2.125, 1.2263199999999999, 34)),\n",
       " (('17109330', '36'), (2.125, 1.53612, 34)),\n",
       " (('17109330', '49'), (2.125, 1.0648, 34)),\n",
       " (('17109330', '75'), (2.125, 1.1832200000000002, 34)),\n",
       " (('17109330', '92'), (2.125, 1.21472, 34)),\n",
       " (('17109330', '101'), (2.125, 1.1731200000000002, 34)),\n",
       " (('17109330', '109'), (2.125, 1.0849, 34))]"
      ]
     },
     "execution_count": 20,
     "metadata": {},
     "output_type": "execute_result"
    }
   ],
   "source": [
    "def avg_init(row):\n",
    "    return (row[0], row[1], 1)\n",
    "\n",
    "def avg_merge(old, new):\n",
    "    return (old[0]+new[0],old[1]+new[1],old[2]+1)\n",
    "\n",
    "def avg_cmb(old, new):\n",
    "    return (old[0]+new[0],old[1]+new[1],old[2]+new[2])\n",
    "\n",
    "cpu_cons_avg = cpu_cons.combineByKey(avg_init,avg_merge, avg_cmb)\n",
    "cpu_cons_avg.take(10)"
   ]
  },
  {
   "cell_type": "code",
   "execution_count": null,
   "metadata": {},
   "outputs": [
    {
     "name": "stderr",
     "output_type": "stream",
     "text": []
    },
    {
     "data": {
      "text/plain": [
       "[(('6209468726', '0'), (0.5, 4.403705882352941e-05)),\n",
       " (('6211896520', '21'), (0.4375, 0.00046404117647058825)),\n",
       " (('6250599310', '0'), (0.4375, 3.545294117647058e-05)),\n",
       " (('4872450645', '0'), (0.40619999999999895, 0.00034414347826086953)),\n",
       " (('6000618870', '2'), (0.3812999999999997, 0.07919235294117648)),\n",
       " (('6000618870', '3'), (0.3812999999999997, 0.08186941176470588)),\n",
       " (('6000618870', '76'), (0.3812999999999997, 0.09581142857142855)),\n",
       " (('6000618870', '81'), (0.3812999999999997, 0.08018352941176468)),\n",
       " (('6000618870', '94'), (0.3812999999999997, 0.09100882352941178)),\n",
       " (('6000618870', '95'), (0.3812999999999997, 0.08955210526315788))]"
      ]
     },
     "execution_count": 21,
     "metadata": {},
     "output_type": "execute_result"
    }
   ],
   "source": [
    "cpu_cons_avg.mapValues(lambda x: (x[0]/x[2],x[1]/x[2])).sortBy(lambda x: x[1][0], ascending=False).take(10)"
   ]
  },
  {
   "cell_type": "markdown",
   "metadata": {},
   "source": [
    "### memroy request"
   ]
  },
  {
   "cell_type": "code",
   "execution_count": null,
   "metadata": {},
   "outputs": [
    {
     "name": "stderr",
     "output_type": "stream",
     "text": []
    },
    {
     "data": {
      "text/plain": [
       "[(('6024393894', '0'), (0.9551000000000007, 0.7519999999999998)),\n",
       " (('6024393894', '1'), (0.9551000000000007, 0.7519999999999998)),\n",
       " (('6184967406', '2'), (0.6367000000000002, 0.5254)),\n",
       " (('6184967406', '1'), (0.6367000000000002, 0.5812588235294115)),\n",
       " (('4472621957', '0'), (0.6367000000000002, 0.5527000000000001)),\n",
       " (('6184967406', '0'), (0.6367000000000002, 0.5944882352941174)),\n",
       " (('6184967359', '0'), (0.6367000000000002, 0.5605882352941174)),\n",
       " (('6088049389', '0'), (0.5098, 0.0012228823529411767)),\n",
       " (('5840251953', '0'), (0.5088000000000004, 0.4160294117647058)),\n",
       " (('259235987', '0'), (0.5088000000000004, 0.2930235294117647))]"
      ]
     },
     "execution_count": 25,
     "metadata": {},
     "output_type": "execute_result"
    }
   ],
   "source": [
    "mem_req = task_events.select(['job_id','task_index','memory_request'])\\\n",
    "                     .filter(lambda x: x[2] != 'NA')\\\n",
    "                     .map(lambda x: ((x[0],x[1]),float(x[2])))\n",
    "mem_us = task_usage.select(['job_id','task_index','canonical_memory_usage'])\\\n",
    "                   .filter(lambda x: x[2] != 'NA')\\\n",
    "                   .map(lambda x: ((x[0],x[1]),float(x[2])))\n",
    "mem_cons = mem_req.join(mem_us)\n",
    "mem_cons_avg = mem_cons.combineByKey(avg_init,avg_merge, avg_cmb)\\\n",
    "                       .mapValues(lambda x: (x[0]/x[2],x[1]/x[2]))\\\n",
    "                       .sortBy(lambda x: x[1][0], ascending=False)\n",
    "mem_cons_avg.take(10)"
   ]
  },
  {
   "cell_type": "markdown",
   "metadata": {},
   "source": [
    "### Disk I/O"
   ]
  },
  {
   "cell_type": "code",
   "execution_count": null,
   "metadata": {},
   "outputs": [],
   "source": [
    "# TODO"
   ]
  },
  {
   "cell_type": "markdown",
   "metadata": {},
   "source": [
    "## Can we observe correlations between peaks of high resource consumption on some machines and task eviction events?"
   ]
  },
  {
   "cell_type": "code",
   "execution_count": 19,
   "metadata": {},
   "outputs": [
    {
     "data": {
      "text/html": [
       "<div>\n",
       "<style scoped>\n",
       "    .dataframe tbody tr th:only-of-type {\n",
       "        vertical-align: middle;\n",
       "    }\n",
       "\n",
       "    .dataframe tbody tr th {\n",
       "        vertical-align: top;\n",
       "    }\n",
       "\n",
       "    .dataframe thead th {\n",
       "        text-align: right;\n",
       "    }\n",
       "</style>\n",
       "<table border=\"1\" class=\"dataframe\">\n",
       "  <thead>\n",
       "    <tr style=\"text-align: right;\">\n",
       "      <th></th>\n",
       "      <th>start_time</th>\n",
       "      <th>end_time</th>\n",
       "      <th>job_id</th>\n",
       "      <th>task_index</th>\n",
       "      <th>machine_id</th>\n",
       "      <th>cpu_rate</th>\n",
       "      <th>canonical_memory_usage</th>\n",
       "      <th>assigned_memory_usage</th>\n",
       "      <th>unmapped_page_cache</th>\n",
       "      <th>total_page_cache</th>\n",
       "      <th>maximum_memory_usage</th>\n",
       "      <th>disk_i/o_time</th>\n",
       "      <th>local_disk_space_usage</th>\n",
       "      <th>maximum_cpu_rate</th>\n",
       "      <th>maximum_disk_io_time</th>\n",
       "      <th>cycles_per_instruction</th>\n",
       "      <th>memory_accesses_per_instruction</th>\n",
       "      <th>sample_portion</th>\n",
       "      <th>aggregation_type</th>\n",
       "      <th>sampled_cpu_usage</th>\n",
       "    </tr>\n",
       "  </thead>\n",
       "  <tbody>\n",
       "    <tr>\n",
       "      <th>0</th>\n",
       "      <td>5612000000</td>\n",
       "      <td>5700000000</td>\n",
       "      <td>4665712499</td>\n",
       "      <td>369</td>\n",
       "      <td>4820204869</td>\n",
       "      <td>0.03143</td>\n",
       "      <td>0.05389</td>\n",
       "      <td>0.06946</td>\n",
       "      <td>0.005997</td>\n",
       "      <td>0.006645</td>\n",
       "      <td>0.05408</td>\n",
       "      <td>7.629e-05</td>\n",
       "      <td>0.0003834</td>\n",
       "      <td>0.2415</td>\n",
       "      <td>0.002571</td>\n",
       "      <td>2.911</td>\n",
       "      <td>NA</td>\n",
       "      <td>0</td>\n",
       "      <td>0</td>\n",
       "      <td>0.02457</td>\n",
       "    </tr>\n",
       "    <tr>\n",
       "      <th>1</th>\n",
       "      <td>5612000000</td>\n",
       "      <td>5700000000</td>\n",
       "      <td>4665712499</td>\n",
       "      <td>798</td>\n",
       "      <td>3349189123</td>\n",
       "      <td>0.02698</td>\n",
       "      <td>0.06714</td>\n",
       "      <td>0.07715</td>\n",
       "      <td>0.004219</td>\n",
       "      <td>0.004868</td>\n",
       "      <td>0.06726</td>\n",
       "      <td>7.915e-05</td>\n",
       "      <td>0.0003681</td>\n",
       "      <td>0.27</td>\n",
       "      <td>0.00293</td>\n",
       "      <td>3.285</td>\n",
       "      <td>0.008261</td>\n",
       "      <td>0</td>\n",
       "      <td>0</td>\n",
       "      <td>0.01608</td>\n",
       "    </tr>\n",
       "    <tr>\n",
       "      <th>2</th>\n",
       "      <td>5612000000</td>\n",
       "      <td>5700000000</td>\n",
       "      <td>4665896876</td>\n",
       "      <td>251</td>\n",
       "      <td>372630265</td>\n",
       "      <td>0.04114</td>\n",
       "      <td>0.06714</td>\n",
       "      <td>0.07739</td>\n",
       "      <td>0.002956</td>\n",
       "      <td>0.003605</td>\n",
       "      <td>0.0675</td>\n",
       "      <td>0.0001135</td>\n",
       "      <td>0.000371</td>\n",
       "      <td>0.1086</td>\n",
       "      <td>0.004784</td>\n",
       "      <td>1.551</td>\n",
       "      <td>0.002311</td>\n",
       "      <td>0</td>\n",
       "      <td>0</td>\n",
       "      <td>0.05286</td>\n",
       "    </tr>\n",
       "    <tr>\n",
       "      <th>3</th>\n",
       "      <td>5612000000</td>\n",
       "      <td>5613000000</td>\n",
       "      <td>5285926325</td>\n",
       "      <td>0</td>\n",
       "      <td>2850406</td>\n",
       "      <td>0</td>\n",
       "      <td>0</td>\n",
       "      <td>0</td>\n",
       "      <td>0</td>\n",
       "      <td>0</td>\n",
       "      <td>0</td>\n",
       "      <td>0</td>\n",
       "      <td>0</td>\n",
       "      <td>0</td>\n",
       "      <td>0</td>\n",
       "      <td>NA</td>\n",
       "      <td>NA</td>\n",
       "      <td>0</td>\n",
       "      <td>0</td>\n",
       "      <td>0</td>\n",
       "    </tr>\n",
       "    <tr>\n",
       "      <th>4</th>\n",
       "      <td>5612000000</td>\n",
       "      <td>5700000000</td>\n",
       "      <td>6000618870</td>\n",
       "      <td>74</td>\n",
       "      <td>1437119225</td>\n",
       "      <td>0.07275</td>\n",
       "      <td>0.01898</td>\n",
       "      <td>0.02716</td>\n",
       "      <td>0.0008469</td>\n",
       "      <td>0.002251</td>\n",
       "      <td>0.01901</td>\n",
       "      <td>0</td>\n",
       "      <td>0</td>\n",
       "      <td>0.2415</td>\n",
       "      <td>0</td>\n",
       "      <td>1.3</td>\n",
       "      <td>0.0005437</td>\n",
       "      <td>0</td>\n",
       "      <td>0</td>\n",
       "      <td>0.06238</td>\n",
       "    </tr>\n",
       "  </tbody>\n",
       "</table>\n",
       "</div>"
      ],
      "text/plain": [
       "   start_time    end_time      job_id task_index  machine_id cpu_rate  \\\n",
       "0  5612000000  5700000000  4665712499        369  4820204869  0.03143   \n",
       "1  5612000000  5700000000  4665712499        798  3349189123  0.02698   \n",
       "2  5612000000  5700000000  4665896876        251   372630265  0.04114   \n",
       "3  5612000000  5613000000  5285926325          0     2850406        0   \n",
       "4  5612000000  5700000000  6000618870         74  1437119225  0.07275   \n",
       "\n",
       "  canonical_memory_usage assigned_memory_usage unmapped_page_cache  \\\n",
       "0                0.05389               0.06946            0.005997   \n",
       "1                0.06714               0.07715            0.004219   \n",
       "2                0.06714               0.07739            0.002956   \n",
       "3                      0                     0                   0   \n",
       "4                0.01898               0.02716           0.0008469   \n",
       "\n",
       "  total_page_cache maximum_memory_usage disk_i/o_time local_disk_space_usage  \\\n",
       "0         0.006645              0.05408     7.629e-05              0.0003834   \n",
       "1         0.004868              0.06726     7.915e-05              0.0003681   \n",
       "2         0.003605               0.0675     0.0001135               0.000371   \n",
       "3                0                    0             0                      0   \n",
       "4         0.002251              0.01901             0                      0   \n",
       "\n",
       "  maximum_cpu_rate maximum_disk_io_time cycles_per_instruction  \\\n",
       "0           0.2415             0.002571                  2.911   \n",
       "1             0.27              0.00293                  3.285   \n",
       "2           0.1086             0.004784                  1.551   \n",
       "3                0                    0                     NA   \n",
       "4           0.2415                    0                    1.3   \n",
       "\n",
       "  memory_accesses_per_instruction sample_portion aggregation_type  \\\n",
       "0                              NA              0                0   \n",
       "1                        0.008261              0                0   \n",
       "2                        0.002311              0                0   \n",
       "3                              NA              0                0   \n",
       "4                       0.0005437              0                0   \n",
       "\n",
       "  sampled_cpu_usage  \n",
       "0           0.02457  \n",
       "1           0.01608  \n",
       "2           0.05286  \n",
       "3                 0  \n",
       "4           0.06238  "
      ]
     },
     "execution_count": 19,
     "metadata": {},
     "output_type": "execute_result"
    }
   ],
   "source": [
    "task_usage.pprint(5)"
   ]
  },
  {
   "cell_type": "code",
   "execution_count": 41,
   "metadata": {},
   "outputs": [],
   "source": [
    "max_cpu_task = task_usage.select(['job_id', 'maximum_cpu_rate'])\\\n",
    "                         .mapValues(lambda x: float(x))\\\n",
    "                         .reduceByKey(max)"
   ]
  },
  {
   "cell_type": "code",
   "execution_count": 83,
   "metadata": {},
   "outputs": [],
   "source": [
    "from pyspark.sql import SparkSession\n",
    "spark = SparkSession(sc)\n",
    "\n",
    "te = task_events.select(['job_id', 'event_type'])\n",
    "max_cpu_evt = te.join(max_cpu_task).map(lambda x: (int(x[1][0]), x[1][1])).collect()"
   ]
  },
  {
   "cell_type": "code",
   "execution_count": 84,
   "metadata": {},
   "outputs": [
    {
     "data": {
      "text/plain": [
       "<matplotlib.axes._subplots.AxesSubplot at 0x7f54fbef3fa0>"
      ]
     },
     "execution_count": 84,
     "metadata": {},
     "output_type": "execute_result"
    },
    {
     "data": {
      "image/png": "[encoded data removed]",
      "text/plain": [
       "<Figure size 432x288 with 1 Axes>"
      ]
     },
     "metadata": {
      "needs_background": "light"
     },
     "output_type": "display_data"
    }
   ],
   "source": [
    "sns.scatterplot(x=[x[0] for x in max_cpu_evt], y=[x[1] for x in max_cpu_evt]);"
   ]
  },
  {
   "cell_type": "markdown",
   "metadata": {},
   "source": [
    "## Does the number of constraints of a task (including different-machine constraint) have an impact on the amount of time it spends in the PENDING state"
   ]
  }
 ],
 "metadata": {
  "interpreter": {
   "hash": "916dbcbb3f70747c44a77c7bcd40155683ae19c65e1c03b4aa3499c5328201f1"
  },
  "kernelspec": {
   "display_name": "Python 3.8.10 64-bit",
   "name": "python3"
  },
  "language_info": {
   "codemirror_mode": {
    "name": "ipython",
    "version": 3
   },
   "file_extension": ".py",
   "mimetype": "text/x-python",
   "name": "python",
   "nbconvert_exporter": "python",
   "pygments_lexer": "ipython3",
   "version": "3.8.10"
  },
  "orig_nbformat": 4
 },
 "nbformat": 4,
 "nbformat_minor": 2
}
