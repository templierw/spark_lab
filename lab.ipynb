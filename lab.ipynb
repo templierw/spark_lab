{
 "cells": [
  {
   "cell_type": "markdown",
   "metadata": {},
   "source": [
    "# Analyzing Data with Spark\n",
    "\n",
    "William Templer, Vincent Aubriot\n",
    "\n",
    "##  Overview\n",
    "\n",
    "This notebook contains our analysis proposition for the LSDM project, that focuses on a dataset published by Google that contains activity and configuration information for 12.5 thousands servers, over a long activity period (29 days).\n",
    "\n",
    "During our study, we first focused on basic questions, in order to extract useful metrics and get used to how Spark works and what functions we can use to complete each task. Then, we proposed an extension.\n",
    "\n",
    "## Basic analysis\n",
    "\n",
    "We start by importing useful librairies, and launching pyspark."
   ]
  },
  {
   "cell_type": "code",
   "execution_count": 1,
   "metadata": {},
   "outputs": [],
   "source": [
    "import seaborn as sns\n",
    "import matplotlib.pyplot as plt\n",
    "colors = sns.color_palette('viridis')\n",
    "\n",
    "import numpy as np\n",
    "np.set_printoptions(suppress=True)\n",
    "\n",
    "from pyspark import SparkContext\n",
    "from lib.table import Table\n",
    "\n",
    "# start spark with 1 worker thread\n",
    "sc = SparkContext(\"local[*]\")\n",
    "sc.setLogLevel(\"ERROR\")"
   ]
  },
  {
   "cell_type": "code",
   "execution_count": 2,
   "metadata": {},
   "outputs": [],
   "source": [
    "plt.rcParams['figure.figsize'] = [12, 8]\n",
    "plt.rcParams['figure.dpi'] = 100 # 200 e.g. is really fine, but slower"
   ]
  },
  {
   "cell_type": "markdown",
   "metadata": {},
   "source": [
    "### What is the distribution of the machines according to their CPU capacity?\n",
    "\n",
    "We first load the \"machine events\" file, as it contains information about all of the machine available in the system.\n",
    "The goal is to count all occurences of each value recorded for the cpu, and from this, to output the global distribution of the CPU capacity for the entire system.\n",
    "\n",
    "To load the file, we use a custom class which, from a given file, creates a RDD using the current spark context.\n",
    "A partial output is done to confirm that we indeed have the information we need."
   ]
  },
  {
   "cell_type": "code",
   "execution_count": 3,
   "metadata": {},
   "outputs": [
    {
     "data": {
      "text/html": [
       "<div>\n",
       "<style scoped>\n",
       "    .dataframe tbody tr th:only-of-type {\n",
       "        vertical-align: middle;\n",
       "    }\n",
       "\n",
       "    .dataframe tbody tr th {\n",
       "        vertical-align: top;\n",
       "    }\n",
       "\n",
       "    .dataframe thead th {\n",
       "        text-align: right;\n",
       "    }\n",
       "</style>\n",
       "<table border=\"1\" class=\"dataframe\">\n",
       "  <thead>\n",
       "    <tr style=\"text-align: right;\">\n",
       "      <th></th>\n",
       "      <th>time</th>\n",
       "      <th>machine_id</th>\n",
       "      <th>event_type</th>\n",
       "      <th>platform_id</th>\n",
       "      <th>cpus</th>\n",
       "      <th>memory</th>\n",
       "    </tr>\n",
       "  </thead>\n",
       "  <tbody>\n",
       "    <tr>\n",
       "      <th>0</th>\n",
       "      <td>0</td>\n",
       "      <td>5</td>\n",
       "      <td>0</td>\n",
       "      <td>HofLGzk1Or/8Ildj2+Lqv0UGGvY82NLoni8+J/Yy0RU=</td>\n",
       "      <td>0.5</td>\n",
       "      <td>0.2493</td>\n",
       "    </tr>\n",
       "    <tr>\n",
       "      <th>1</th>\n",
       "      <td>0</td>\n",
       "      <td>6</td>\n",
       "      <td>0</td>\n",
       "      <td>HofLGzk1Or/8Ildj2+Lqv0UGGvY82NLoni8+J/Yy0RU=</td>\n",
       "      <td>0.5</td>\n",
       "      <td>0.2493</td>\n",
       "    </tr>\n",
       "    <tr>\n",
       "      <th>2</th>\n",
       "      <td>0</td>\n",
       "      <td>7</td>\n",
       "      <td>0</td>\n",
       "      <td>HofLGzk1Or/8Ildj2+Lqv0UGGvY82NLoni8+J/Yy0RU=</td>\n",
       "      <td>0.5</td>\n",
       "      <td>0.2493</td>\n",
       "    </tr>\n",
       "    <tr>\n",
       "      <th>3</th>\n",
       "      <td>0</td>\n",
       "      <td>10</td>\n",
       "      <td>0</td>\n",
       "      <td>HofLGzk1Or/8Ildj2+Lqv0UGGvY82NLoni8+J/Yy0RU=</td>\n",
       "      <td>0.5</td>\n",
       "      <td>0.2493</td>\n",
       "    </tr>\n",
       "    <tr>\n",
       "      <th>4</th>\n",
       "      <td>0</td>\n",
       "      <td>13</td>\n",
       "      <td>0</td>\n",
       "      <td>HofLGzk1Or/8Ildj2+Lqv0UGGvY82NLoni8+J/Yy0RU=</td>\n",
       "      <td>0.5</td>\n",
       "      <td>0.2493</td>\n",
       "    </tr>\n",
       "  </tbody>\n",
       "</table>\n",
       "</div>"
      ],
      "text/plain": [
       "  time machine_id event_type                                   platform_id  \\\n",
       "0    0          5          0  HofLGzk1Or/8Ildj2+Lqv0UGGvY82NLoni8+J/Yy0RU=   \n",
       "1    0          6          0  HofLGzk1Or/8Ildj2+Lqv0UGGvY82NLoni8+J/Yy0RU=   \n",
       "2    0          7          0  HofLGzk1Or/8Ildj2+Lqv0UGGvY82NLoni8+J/Yy0RU=   \n",
       "3    0         10          0  HofLGzk1Or/8Ildj2+Lqv0UGGvY82NLoni8+J/Yy0RU=   \n",
       "4    0         13          0  HofLGzk1Or/8Ildj2+Lqv0UGGvY82NLoni8+J/Yy0RU=   \n",
       "\n",
       "  cpus  memory  \n",
       "0  0.5  0.2493  \n",
       "1  0.5  0.2493  \n",
       "2  0.5  0.2493  \n",
       "3  0.5  0.2493  \n",
       "4  0.5  0.2493  "
      ]
     },
     "execution_count": 3,
     "metadata": {},
     "output_type": "execute_result"
    }
   ],
   "source": [
    "machine_events = Table('machine_events', sc)\n",
    "machine_events.pprint(take=5)"
   ]
  },
  {
   "cell_type": "markdown",
   "metadata": {},
   "source": [
    "We could confirm that the output contains the cpus property that interests us for each machine. We now compute the global distribution, and we visualize it as a pie chart."
   ]
  },
  {
   "cell_type": "code",
   "execution_count": 4,
   "metadata": {},
   "outputs": [
    {
     "name": "stdout",
     "output_type": "stream",
     "text": [
      "cpu type: 0.5, count: 35015\n",
      "cpu type: 0.25, count: 510\n",
      "cpu type: 1, count: 2223\n",
      "cpu type: NA, count: 32\n"
     ]
    }
   ],
   "source": [
    "cpu_dist = machine_events.select(['cpus']).countByValue()\n",
    "for cpu_type, value in cpu_dist.items():\n",
    "    print(f'cpu type: {cpu_type[0]}, count: {value}')"
   ]
  },
  {
   "cell_type": "code",
   "execution_count": 5,
   "metadata": {},
   "outputs": [
    {
     "data": {
      "image/png": "[encoded data removed]",
      "text/plain": [
       "<Figure size 1200x800 with 1 Axes>"
      ]
     },
     "metadata": {},
     "output_type": "display_data"
    }
   ],
   "source": [
    "plt.pie(cpu_dist.values(), labels=cpu_dist.keys(), colors = colors, autopct='%.2f%%')\n",
    "plt.show()"
   ]
  },
  {
   "cell_type": "markdown",
   "metadata": {},
   "source": [
    "From the visualization shown above, we see that a large majority of the machines used has an \"average\" CPU."
   ]
  },
  {
   "cell_type": "markdown",
   "metadata": {},
   "source": [
    "### On average, how many tasks compose a job?\n",
    "\n",
    "Now, we focus on the jobs that were running during the analyzed period. We know that each job is composed of multiple tasks, but no information was provided about the average number of tasks in a single job. In order to compute it by hand, we load the task_events table, that lists for every task that was ever executed at the time @various information, like the job to which the task is associated, the user that requested to execute the task, the priority, and the resources it requested to be able to process the calculations and terminate."
   ]
  },
  {
   "cell_type": "code",
   "execution_count": 6,
   "metadata": {},
   "outputs": [
    {
     "data": {
      "text/html": [
       "<div>\n",
       "<style scoped>\n",
       "    .dataframe tbody tr th:only-of-type {\n",
       "        vertical-align: middle;\n",
       "    }\n",
       "\n",
       "    .dataframe tbody tr th {\n",
       "        vertical-align: top;\n",
       "    }\n",
       "\n",
       "    .dataframe thead th {\n",
       "        text-align: right;\n",
       "    }\n",
       "</style>\n",
       "<table border=\"1\" class=\"dataframe\">\n",
       "  <thead>\n",
       "    <tr style=\"text-align: right;\">\n",
       "      <th></th>\n",
       "      <th>time</th>\n",
       "      <th>missing_info</th>\n",
       "      <th>job_id</th>\n",
       "      <th>task_index</th>\n",
       "      <th>machine_id</th>\n",
       "      <th>event_type</th>\n",
       "      <th>user</th>\n",
       "      <th>scheduling_class</th>\n",
       "      <th>priority</th>\n",
       "      <th>cpu_request</th>\n",
       "      <th>memory_request</th>\n",
       "      <th>disk_space_request</th>\n",
       "      <th>different_machines_restriction</th>\n",
       "    </tr>\n",
       "  </thead>\n",
       "  <tbody>\n",
       "    <tr>\n",
       "      <th>0</th>\n",
       "      <td>0</td>\n",
       "      <td>2</td>\n",
       "      <td>3418309</td>\n",
       "      <td>0</td>\n",
       "      <td>4155527081</td>\n",
       "      <td>0</td>\n",
       "      <td>70s3v5qRyCO/1PCdI6fVXnrW8FU/w+5CKRSa72xgcIo=</td>\n",
       "      <td>3</td>\n",
       "      <td>9</td>\n",
       "      <td>NA</td>\n",
       "      <td>NA</td>\n",
       "      <td>NA</td>\n",
       "      <td>NA</td>\n",
       "    </tr>\n",
       "    <tr>\n",
       "      <th>1</th>\n",
       "      <td>0</td>\n",
       "      <td>2</td>\n",
       "      <td>3418309</td>\n",
       "      <td>1</td>\n",
       "      <td>329150663</td>\n",
       "      <td>0</td>\n",
       "      <td>70s3v5qRyCO/1PCdI6fVXnrW8FU/w+5CKRSa72xgcIo=</td>\n",
       "      <td>3</td>\n",
       "      <td>9</td>\n",
       "      <td>NA</td>\n",
       "      <td>NA</td>\n",
       "      <td>NA</td>\n",
       "      <td>NA</td>\n",
       "    </tr>\n",
       "    <tr>\n",
       "      <th>2</th>\n",
       "      <td>0</td>\n",
       "      <td>NA</td>\n",
       "      <td>3418314</td>\n",
       "      <td>0</td>\n",
       "      <td>3938719206</td>\n",
       "      <td>0</td>\n",
       "      <td>70s3v5qRyCO/1PCdI6fVXnrW8FU/w+5CKRSa72xgcIo=</td>\n",
       "      <td>3</td>\n",
       "      <td>9</td>\n",
       "      <td>0.125</td>\n",
       "      <td>0.07446</td>\n",
       "      <td>0.0004244</td>\n",
       "      <td>0</td>\n",
       "    </tr>\n",
       "  </tbody>\n",
       "</table>\n",
       "</div>"
      ],
      "text/plain": [
       "  time missing_info   job_id task_index  machine_id event_type  \\\n",
       "0    0            2  3418309          0  4155527081          0   \n",
       "1    0            2  3418309          1   329150663          0   \n",
       "2    0           NA  3418314          0  3938719206          0   \n",
       "\n",
       "                                           user scheduling_class priority  \\\n",
       "0  70s3v5qRyCO/1PCdI6fVXnrW8FU/w+5CKRSa72xgcIo=                3        9   \n",
       "1  70s3v5qRyCO/1PCdI6fVXnrW8FU/w+5CKRSa72xgcIo=                3        9   \n",
       "2  70s3v5qRyCO/1PCdI6fVXnrW8FU/w+5CKRSa72xgcIo=                3        9   \n",
       "\n",
       "  cpu_request memory_request disk_space_request different_machines_restriction  \n",
       "0          NA             NA                 NA                             NA  \n",
       "1          NA             NA                 NA                             NA  \n",
       "2       0.125        0.07446          0.0004244                              0  "
      ]
     },
     "execution_count": 6,
     "metadata": {},
     "output_type": "execute_result"
    }
   ],
   "source": [
    "task_events = Table('task_events', sc)\n",
    "task_events.pprint(3)"
   ]
  },
  {
   "cell_type": "markdown",
   "metadata": {},
   "source": [
    "Now that we have the table, we want to count for each job the associated number of tasks, and output useful metrics."
   ]
  },
  {
   "cell_type": "code",
   "execution_count": 7,
   "metadata": {},
   "outputs": [
    {
     "name": "stdout",
     "output_type": "stream",
     "text": [
      "A job can have between 1 and 46037 tasks.\n",
      "In average, a job will have between 1 and 936 tasks, because the mean number of tasks in a job is equal to 92 , and the standard deviation is equal to 844 \n"
     ]
    }
   ],
   "source": [
    "\n",
    "job = task_events.select(['job_id'])\n",
    "task_per_job = list(job.countByValue().values())\n",
    "\n",
    "mean = round(np.mean(task_per_job))\n",
    "std = round(np.std(task_per_job))\n",
    "\n",
    "print(f\"A job can have between {np.min(task_per_job)} and {np.max(task_per_job)} tasks.\")\n",
    "\n",
    "low_mean = mean - std if (mean - std >= np.min(task_per_job)) else np.min(task_per_job)\n",
    "high_mean = mean + std if (mean + std <= np.max(task_per_job)) else np.max(task_per_job)\n",
    "print(f\"In average, a job will have between {low_mean} and {high_mean} tasks, because the mean number of tasks in a job is equal to {mean} , and the standard deviation is equal to {std} \")"
   ]
  },
  {
   "cell_type": "markdown",
   "metadata": {},
   "source": [
    "## What is the distribution of the number of jobs/tasks per scheduling class?\n",
    "\n",
    "Each job and task possess a scheduling class, represented by a number between 0 and 3, that represents the sensibility to latency of the process. The higher the number is, the more the process is sensitive to latency (i.e., the process is a critical job that generates revenue...). This classification is used to affect the resource access policy on the local machine that executes the impacted process, and processes on the higher end of the classification tend to have higer priorities.\n",
    "\n",
    "We would like to check the distribution of tasks and jobs for each class, in order to see what kind of processes these machines were treating the most."
   ]
  },
  {
   "cell_type": "code",
   "execution_count": 8,
   "metadata": {},
   "outputs": [],
   "source": [
    "## Version 1: bad\n",
    "def to_list(a):\n",
    "    return [[a[0]], [a[1]]]\n",
    "\n",
    "def append(a, b):\n",
    "    a[0].append(b[0])\n",
    "    a[1].append(b[1])\n",
    "    return [a[0], a[1]]\n",
    "\n",
    "def extend(a, b):\n",
    "    a[0].extend(b[0])\n",
    "    a[1].extend(b[1])\n",
    "    return [a[0], a[1]]"
   ]
  },
  {
   "cell_type": "markdown",
   "metadata": {},
   "source": [
    "We select the job id and the scheduling class for each task. Then, we do a combination by key, in order to count the number of unique tasks and unique jobs that were attributed to each scheduling class. This implies to define our own initialization, merging and combination functions used to manage the set of jobs and tasks associated to one particular scheduling class."
   ]
  },
  {
   "cell_type": "code",
   "execution_count": 9,
   "metadata": {},
   "outputs": [],
   "source": [
    "def init(new):\n",
    "    job = set()\n",
    "    job.add(new)\n",
    "    return [job, 1]\n",
    "\n",
    "def merge(old, new):\n",
    "    old[0].add(new)\n",
    "    return [old[0], old[1] + 1]\n",
    "\n",
    "def combine(c1, c2):\n",
    "    c1[0].union(c2[0])\n",
    "    return [c1[0], c1[1]+c2[1]]"
   ]
  },
  {
   "cell_type": "code",
   "execution_count": 10,
   "metadata": {},
   "outputs": [
    {
     "name": "stdout",
     "output_type": "stream",
     "text": [
      "scheduling class [1], #job: 1253, #task: 58109\n",
      "scheduling class [0], #job: 580, #task: 237969\n",
      "scheduling class [3], #job: 922, #task: 56586\n",
      "scheduling class [2], #job: 1226, #task: 97482\n"
     ]
    }
   ],
   "source": [
    "job_task_sched = task_events.select(['scheduling_class','job_id'])\n",
    "res = job_task_sched.combineByKey(init, merge, combine).mapValues(lambda x: (len(x[0]), x[1]))\n",
    "print('\\n'.join(f'scheduling class [{s}], #job: {j}, #task: {t}' for \\\n",
    "            s, (j,t) in res.collect()))"
   ]
  },
  {
   "cell_type": "markdown",
   "metadata": {},
   "source": [
    "We quickly see that most of the tasks were not really sensitive to latency, but surprisingly, most jobs actually were at least a little sensitive."
   ]
  },
  {
   "cell_type": "markdown",
   "metadata": {},
   "source": [
    "### Do tasks with low priority have a higher probability of being evicted?\n",
    "\n",
    "Let's focus on the priority system. We wish to know if tasks having a low priority have a higher risk of being evicted in order to make place for the \"more important\" processses."
   ]
  },
  {
   "cell_type": "code",
   "execution_count": 11,
   "metadata": {},
   "outputs": [
    {
     "name": "stdout",
     "output_type": "stream",
     "text": [
      "priority [0] = 0.97\n",
      "priority [1] = 0.012\n",
      "priority [2] = 0.0127\n",
      "priority [9] = 0.0051\n",
      "priority [10] = 0.0002\n"
     ]
    }
   ],
   "source": [
    "rdd = task_events.select(['event_type', 'priority'])\\\n",
    "        .filter(lambda x: x[0] == '2')\\\n",
    "        .map(lambda x: int(x[1]))\n",
    "\n",
    "total_evicted = rdd.count()\n",
    "p = rdd.countByValue()\n",
    "for k,v in sorted(p.items()):\n",
    "    print(f'priority [{k}] = {round(v/total_evicted, 4)}')"
   ]
  },
  {
   "cell_type": "code",
   "execution_count": 12,
   "metadata": {},
   "outputs": [
    {
     "data": {
      "image/png": "[encoded data removed]",
      "text/plain": [
       "<Figure size 1200x800 with 1 Axes>"
      ]
     },
     "metadata": {
      "needs_background": "light"
     },
     "output_type": "display_data"
    }
   ],
   "source": [
    "sp = sorted(p.items())\n",
    "keys = [v[0] for v in sp]\n",
    "values = [round(v[1]/total_evicted, 4) for v in sp]\n",
    "\n",
    "plt.plot(keys, values, linestyle='solid')\n",
    "plt.xlabel('Priority')\n",
    "plt.ylabel('Probability')\n",
    "plt.show()"
   ]
  },
  {
   "cell_type": "markdown",
   "metadata": {},
   "source": [
    "Indeed, lower-priority processes have a 97%-chance of being evicted at any time to give way to more important processes. However, this probability drops to 1% and less as soon as the priority is equal to or above 1. "
   ]
  },
  {
   "cell_type": "markdown",
   "metadata": {},
   "source": [
    "### In general, do tasks from the same job run on the same machine?"
   ]
  },
  {
   "cell_type": "code",
   "execution_count": 13,
   "metadata": {},
   "outputs": [
    {
     "data": {
      "text/plain": [
       "[('6221861800', 10093),\n",
       " ('6225099547', 4104),\n",
       " ('5402488769', 4051),\n",
       " ('2902878580', 3881),\n",
       " ('6238340468', 3067)]"
      ]
     },
     "execution_count": 13,
     "metadata": {},
     "output_type": "execute_result"
    }
   ],
   "source": [
    "task_events.select(['job_id', 'machine_id'])\\\n",
    "           .groupByKey()\\\n",
    "           .mapValues(lambda x: len(set(x)))\\\n",
    "           .sortBy(lambda x: x[1], ascending=False)\\\n",
    "           .take(5)"
   ]
  },
  {
   "cell_type": "markdown",
   "metadata": {},
   "source": [
    "### Are the tasks that request the more resources the one that consume the more resources?\n",
    "\n",
    "To anwser this question, we need to rely on the \"task_usage\" logs. It holds, for each task, details about its execution, such as the start and end time, as well as the resources assigned to the task and the ones that were effectively consumed by the task.\n",
    "\n",
    "Let's start by loading this table as a RDD."
   ]
  },
  {
   "cell_type": "code",
   "execution_count": 14,
   "metadata": {},
   "outputs": [
    {
     "data": {
      "text/html": [
       "<div>\n",
       "<style scoped>\n",
       "    .dataframe tbody tr th:only-of-type {\n",
       "        vertical-align: middle;\n",
       "    }\n",
       "\n",
       "    .dataframe tbody tr th {\n",
       "        vertical-align: top;\n",
       "    }\n",
       "\n",
       "    .dataframe thead th {\n",
       "        text-align: right;\n",
       "    }\n",
       "</style>\n",
       "<table border=\"1\" class=\"dataframe\">\n",
       "  <thead>\n",
       "    <tr style=\"text-align: right;\">\n",
       "      <th></th>\n",
       "      <th>start_time</th>\n",
       "      <th>end_time</th>\n",
       "      <th>job_id</th>\n",
       "      <th>task_index</th>\n",
       "      <th>machine_id</th>\n",
       "      <th>cpu_rate</th>\n",
       "      <th>canonical_memory_usage</th>\n",
       "      <th>assigned_memory_usage</th>\n",
       "      <th>unmapped_page_cache</th>\n",
       "      <th>total_page_cache</th>\n",
       "      <th>maximum_memory_usage</th>\n",
       "      <th>disk_i/o_time</th>\n",
       "      <th>local_disk_space_usage</th>\n",
       "      <th>maximum_cpu_rate</th>\n",
       "      <th>maximum_disk_io_time</th>\n",
       "      <th>cycles_per_instruction</th>\n",
       "      <th>memory_accesses_per_instruction</th>\n",
       "      <th>sample_portion</th>\n",
       "      <th>aggregation_type</th>\n",
       "      <th>sampled_cpu_usage</th>\n",
       "    </tr>\n",
       "  </thead>\n",
       "  <tbody>\n",
       "    <tr>\n",
       "      <th>0</th>\n",
       "      <td>600000000</td>\n",
       "      <td>900000000</td>\n",
       "      <td>3418309</td>\n",
       "      <td>0</td>\n",
       "      <td>4155527081</td>\n",
       "      <td>0.001562</td>\n",
       "      <td>0.06787</td>\n",
       "      <td>0.07568</td>\n",
       "      <td>0.001156</td>\n",
       "      <td>0.001503</td>\n",
       "      <td>0.06787</td>\n",
       "      <td>2.861e-06</td>\n",
       "      <td>0.0001869</td>\n",
       "      <td>0.03967</td>\n",
       "      <td>0.0003567</td>\n",
       "      <td>2.445</td>\n",
       "      <td>0.007243</td>\n",
       "      <td>0</td>\n",
       "      <td>1</td>\n",
       "      <td>0</td>\n",
       "    </tr>\n",
       "    <tr>\n",
       "      <th>1</th>\n",
       "      <td>600000000</td>\n",
       "      <td>900000000</td>\n",
       "      <td>3418309</td>\n",
       "      <td>1</td>\n",
       "      <td>329150663</td>\n",
       "      <td>0.001568</td>\n",
       "      <td>0.06787</td>\n",
       "      <td>0.07556</td>\n",
       "      <td>0.0003195</td>\n",
       "      <td>0.0007</td>\n",
       "      <td>0.06787</td>\n",
       "      <td>5.722e-06</td>\n",
       "      <td>0.0001879</td>\n",
       "      <td>0.03302</td>\n",
       "      <td>0.0009289</td>\n",
       "      <td>2.1</td>\n",
       "      <td>0.005791</td>\n",
       "      <td>0</td>\n",
       "      <td>1</td>\n",
       "      <td>0</td>\n",
       "    </tr>\n",
       "    <tr>\n",
       "      <th>2</th>\n",
       "      <td>600000000</td>\n",
       "      <td>900000000</td>\n",
       "      <td>3418314</td>\n",
       "      <td>0</td>\n",
       "      <td>3938719206</td>\n",
       "      <td>0.0003071</td>\n",
       "      <td>0.08044</td>\n",
       "      <td>0.09521</td>\n",
       "      <td>0.0002823</td>\n",
       "      <td>0.0006704</td>\n",
       "      <td>0.08044</td>\n",
       "      <td>4.768e-06</td>\n",
       "      <td>0.0001841</td>\n",
       "      <td>0.02377</td>\n",
       "      <td>0.0007858</td>\n",
       "      <td>5.588</td>\n",
       "      <td>0.0208</td>\n",
       "      <td>0</td>\n",
       "      <td>1</td>\n",
       "      <td>0</td>\n",
       "    </tr>\n",
       "    <tr>\n",
       "      <th>3</th>\n",
       "      <td>600000000</td>\n",
       "      <td>900000000</td>\n",
       "      <td>3418314</td>\n",
       "      <td>1</td>\n",
       "      <td>351618647</td>\n",
       "      <td>0.0003004</td>\n",
       "      <td>0.08044</td>\n",
       "      <td>0.09521</td>\n",
       "      <td>0.0005369</td>\n",
       "      <td>0.0008698</td>\n",
       "      <td>0.08044</td>\n",
       "      <td>9.537e-06</td>\n",
       "      <td>0.0001831</td>\n",
       "      <td>0.007919</td>\n",
       "      <td>0.002285</td>\n",
       "      <td>5.198</td>\n",
       "      <td>0.02038</td>\n",
       "      <td>0</td>\n",
       "      <td>1</td>\n",
       "      <td>0</td>\n",
       "    </tr>\n",
       "    <tr>\n",
       "      <th>4</th>\n",
       "      <td>600000000</td>\n",
       "      <td>900000000</td>\n",
       "      <td>3418319</td>\n",
       "      <td>0</td>\n",
       "      <td>431052910</td>\n",
       "      <td>0.0004606</td>\n",
       "      <td>0.07715</td>\n",
       "      <td>0.0874</td>\n",
       "      <td>0.0006247</td>\n",
       "      <td>0.0008516</td>\n",
       "      <td>0.07715</td>\n",
       "      <td>1.907e-06</td>\n",
       "      <td>0.0002041</td>\n",
       "      <td>0.005112</td>\n",
       "      <td>0.0002146</td>\n",
       "      <td>2.937</td>\n",
       "      <td>0.009449</td>\n",
       "      <td>0</td>\n",
       "      <td>1</td>\n",
       "      <td>0</td>\n",
       "    </tr>\n",
       "  </tbody>\n",
       "</table>\n",
       "</div>"
      ],
      "text/plain": [
       "  start_time   end_time   job_id task_index  machine_id   cpu_rate  \\\n",
       "0  600000000  900000000  3418309          0  4155527081   0.001562   \n",
       "1  600000000  900000000  3418309          1   329150663   0.001568   \n",
       "2  600000000  900000000  3418314          0  3938719206  0.0003071   \n",
       "3  600000000  900000000  3418314          1   351618647  0.0003004   \n",
       "4  600000000  900000000  3418319          0   431052910  0.0004606   \n",
       "\n",
       "  canonical_memory_usage assigned_memory_usage unmapped_page_cache  \\\n",
       "0                0.06787               0.07568            0.001156   \n",
       "1                0.06787               0.07556           0.0003195   \n",
       "2                0.08044               0.09521           0.0002823   \n",
       "3                0.08044               0.09521           0.0005369   \n",
       "4                0.07715                0.0874           0.0006247   \n",
       "\n",
       "  total_page_cache maximum_memory_usage disk_i/o_time local_disk_space_usage  \\\n",
       "0         0.001503              0.06787     2.861e-06              0.0001869   \n",
       "1           0.0007              0.06787     5.722e-06              0.0001879   \n",
       "2        0.0006704              0.08044     4.768e-06              0.0001841   \n",
       "3        0.0008698              0.08044     9.537e-06              0.0001831   \n",
       "4        0.0008516              0.07715     1.907e-06              0.0002041   \n",
       "\n",
       "  maximum_cpu_rate maximum_disk_io_time cycles_per_instruction  \\\n",
       "0          0.03967            0.0003567                  2.445   \n",
       "1          0.03302            0.0009289                    2.1   \n",
       "2          0.02377            0.0007858                  5.588   \n",
       "3         0.007919             0.002285                  5.198   \n",
       "4         0.005112            0.0002146                  2.937   \n",
       "\n",
       "  memory_accesses_per_instruction sample_portion aggregation_type  \\\n",
       "0                        0.007243              0                1   \n",
       "1                        0.005791              0                1   \n",
       "2                          0.0208              0                1   \n",
       "3                         0.02038              0                1   \n",
       "4                        0.009449              0                1   \n",
       "\n",
       "  sampled_cpu_usage  \n",
       "0                 0  \n",
       "1                 0  \n",
       "2                 0  \n",
       "3                 0  \n",
       "4                 0  "
      ]
     },
     "execution_count": 14,
     "metadata": {},
     "output_type": "execute_result"
    }
   ],
   "source": [
    "task_usage = Table('task_usage', spark_context=sc)\n",
    "task_usage.pprint(5)"
   ]
  },
  {
   "cell_type": "markdown",
   "metadata": {},
   "source": [
    "### CPU usage\n",
    "\n",
    "We start by studying the CPU usage. A good analysis would be to compare for each job and task the CPU quota requested by the process with the CPU that was actually used.\n",
    "\n",
    "We first take the CPU request for each job and task:"
   ]
  },
  {
   "cell_type": "code",
   "execution_count": 15,
   "metadata": {},
   "outputs": [
    {
     "data": {
      "text/plain": [
       "[(('3418314', '0'), 0.125),\n",
       " (('3418314', '1'), 0.125),\n",
       " (('3418368', '0'), 0.03125),\n",
       " (('3418368', '1'), 0.03125),\n",
       " (('3418368', '2'), 0.03125)]"
      ]
     },
     "execution_count": 15,
     "metadata": {},
     "output_type": "execute_result"
    }
   ],
   "source": [
    "cpu_req = task_events.select(['job_id','task_index','cpu_request'])\\\n",
    "                     .filter(lambda x: x[2] != 'NA')\\\n",
    "                     .map(lambda x: ((x[0],x[1]),float(x[2])))\n",
    "cpu_req.take(5)"
   ]
  },
  {
   "cell_type": "markdown",
   "metadata": {},
   "source": [
    "We then get the CPU rates that were indeed used by each job and task:"
   ]
  },
  {
   "cell_type": "code",
   "execution_count": 16,
   "metadata": {},
   "outputs": [
    {
     "data": {
      "text/plain": [
       "[(('3418309', '0'), 0.001562),\n",
       " (('3418309', '1'), 0.001568),\n",
       " (('3418314', '0'), 0.0003071),\n",
       " (('3418314', '1'), 0.0003004),\n",
       " (('3418319', '0'), 0.0004606)]"
      ]
     },
     "execution_count": 16,
     "metadata": {},
     "output_type": "execute_result"
    }
   ],
   "source": [
    "cpu_us = task_usage.select(['job_id','task_index','cpu_rate'])\\\n",
    "                   .filter(lambda x: x[2] != 'NA')\\\n",
    "                   .map(lambda x: ((x[0],x[1]),float(x[2])))\n",
    "cpu_us.take(5)"
   ]
  },
  {
   "cell_type": "markdown",
   "metadata": {},
   "source": [
    "Finally, we do a join operation to link the requests and usages in a single data structure."
   ]
  },
  {
   "cell_type": "code",
   "execution_count": 17,
   "metadata": {},
   "outputs": [
    {
     "data": {
      "text/plain": [
       "[(('17109330', '5'), (0.0625, 0.03589)),\n",
       " (('17109330', '5'), (0.0625, 0.03528)),\n",
       " (('17109330', '5'), (0.0625, 0.03662)),\n",
       " (('17109330', '5'), (0.0625, 0.03351)),\n",
       " (('17109330', '5'), (0.0625, 0.03339))]"
      ]
     },
     "execution_count": 17,
     "metadata": {},
     "output_type": "execute_result"
    }
   ],
   "source": [
    "cpu_cons = cpu_req.join(cpu_us)\n",
    "cpu_cons.take(5)"
   ]
  },
  {
   "cell_type": "markdown",
   "metadata": {},
   "source": [
    "From the joined structure, we do a combine by key to find, for each job and task, each CPU request done and the CPU that was indeed used at the time."
   ]
  },
  {
   "cell_type": "code",
   "execution_count": 18,
   "metadata": {},
   "outputs": [
    {
     "data": {
      "text/plain": [
       "[(('17109330', '5'), (2.125, 1.21388, 34)),\n",
       " (('17109330', '11'), (2.125, 1.0815, 34)),\n",
       " (('17109330', '15'), (2.125, 1.2545199999999999, 34)),\n",
       " (('17109330', '31'), (2.125, 1.2263199999999999, 34)),\n",
       " (('17109330', '36'), (2.125, 1.53612, 34)),\n",
       " (('17109330', '49'), (2.125, 1.0648, 34)),\n",
       " (('17109330', '75'), (2.125, 1.1832200000000002, 34)),\n",
       " (('17109330', '92'), (2.125, 1.21472, 34)),\n",
       " (('17109330', '101'), (2.125, 1.1731200000000002, 34)),\n",
       " (('17109330', '109'), (2.125, 1.0849, 34))]"
      ]
     },
     "execution_count": 18,
     "metadata": {},
     "output_type": "execute_result"
    }
   ],
   "source": [
    "def avg_init(row):\n",
    "    return (row[0], row[1], 1)\n",
    "\n",
    "def avg_merge(old, new):\n",
    "    return (old[0]+new[0],old[1]+new[1],old[2]+1)\n",
    "\n",
    "def avg_cmb(old, new):\n",
    "    return (old[0]+new[0],old[1]+new[1],old[2]+new[2])\n",
    "\n",
    "cpu_cons_avg = cpu_cons.combineByKey(avg_init,avg_merge, avg_cmb)\n",
    "cpu_cons_avg.take(10)"
   ]
  },
  {
   "cell_type": "markdown",
   "metadata": {},
   "source": [
    "Finally, we compute the average of all CPU requests and CPU usages for all tasks."
   ]
  },
  {
   "cell_type": "code",
   "execution_count": 19,
   "metadata": {},
   "outputs": [
    {
     "data": {
      "image/png": "[encoded data removed]",
      "text/plain": [
       "<Figure size 1200x800 with 1 Axes>"
      ]
     },
     "metadata": {
      "needs_background": "light"
     },
     "output_type": "display_data"
    }
   ],
   "source": [
    "final = cpu_cons_avg.mapValues(lambda x: (x[0]/x[2],x[1]/x[2])).sortBy(lambda x: x[1][0], ascending=False).take(1000)\n",
    "\n",
    "keys = []\n",
    "i = 0\n",
    "for k in final:\n",
    "    keys.append(i)\n",
    "    i += 1\n",
    "req = [v[1][0] for v in final]\n",
    "real = [v[1][1] for v in final]\n",
    "\n",
    "plt.plot(keys, real, linestyle='solid')\n",
    "plt.plot(keys, req, linestyle='dotted')\n",
    "plt.xlabel('Jobs & Tasks')\n",
    "plt.ylabel('CPU')\n",
    "plt.show()"
   ]
  },
  {
   "cell_type": "markdown",
   "metadata": {},
   "source": [
    "Above is a graph showing the CPU capacity requested by the top 1000 Jobs and the CPU capacity that they have really consumed. As we can see, the most self-declared gluttonous are not ofteh the ones that are really consuming the most, as they only use a small fraction of what's available."
   ]
  },
  {
   "cell_type": "markdown",
   "metadata": {},
   "source": [
    "### Memory request\n",
    "\n",
    "We now focus on memory (RAM) requests and real usage. The metrics that will be used are memory_request and canonical_memory_usage.\n",
    "The process mostly remains the same as for the CPU."
   ]
  },
  {
   "cell_type": "code",
   "execution_count": 20,
   "metadata": {},
   "outputs": [
    {
     "data": {
      "text/plain": [
       "[(('6024393894', '0'), (0.9551000000000007, 0.7519999999999998)),\n",
       " (('6024393894', '1'), (0.9551000000000007, 0.7519999999999998)),\n",
       " (('6184967406', '2'), (0.6367000000000002, 0.5254)),\n",
       " (('6184967406', '1'), (0.6367000000000002, 0.5812588235294115)),\n",
       " (('4472621957', '0'), (0.6367000000000002, 0.5527000000000001)),\n",
       " (('6184967406', '0'), (0.6367000000000002, 0.5944882352941174)),\n",
       " (('6184967359', '0'), (0.6367000000000002, 0.5605882352941174)),\n",
       " (('6088049389', '0'), (0.5098, 0.0012228823529411767)),\n",
       " (('5840251953', '0'), (0.5088000000000004, 0.4160294117647058)),\n",
       " (('259235987', '0'), (0.5088000000000004, 0.2930235294117647))]"
      ]
     },
     "execution_count": 20,
     "metadata": {},
     "output_type": "execute_result"
    }
   ],
   "source": [
    "mem_req = task_events.select(['job_id','task_index','memory_request'])\\\n",
    "                     .filter(lambda x: x[2] != 'NA')\\\n",
    "                     .map(lambda x: ((x[0],x[1]),float(x[2])))\n",
    "mem_us = task_usage.select(['job_id','task_index','canonical_memory_usage'])\\\n",
    "                   .filter(lambda x: x[2] != 'NA')\\\n",
    "                   .map(lambda x: ((x[0],x[1]),float(x[2])))\n",
    "mem_cons = mem_req.join(mem_us)\n",
    "mem_cons_avg = mem_cons.combineByKey(avg_init,avg_merge, avg_cmb)\\\n",
    "                       .mapValues(lambda x: (x[0]/x[2],x[1]/x[2]))\\\n",
    "                       .sortBy(lambda x: x[1][0], ascending=False)\n",
    "mem_cons_avg.take(10)"
   ]
  },
  {
   "cell_type": "markdown",
   "metadata": {},
   "source": [
    "## Can we observe correlations between peaks of high resource consumption on some machines and task eviction events?\n",
    "\n",
    "The objective of this last analysis is to verify if consuming too much resources could lead a task to be evicted in favour of another one that is less glutoneous."
   ]
  },
  {
   "cell_type": "code",
   "execution_count": 21,
   "metadata": {},
   "outputs": [
    {
     "data": {
      "text/html": [
       "<div>\n",
       "<style scoped>\n",
       "    .dataframe tbody tr th:only-of-type {\n",
       "        vertical-align: middle;\n",
       "    }\n",
       "\n",
       "    .dataframe tbody tr th {\n",
       "        vertical-align: top;\n",
       "    }\n",
       "\n",
       "    .dataframe thead th {\n",
       "        text-align: right;\n",
       "    }\n",
       "</style>\n",
       "<table border=\"1\" class=\"dataframe\">\n",
       "  <thead>\n",
       "    <tr style=\"text-align: right;\">\n",
       "      <th></th>\n",
       "      <th>start_time</th>\n",
       "      <th>end_time</th>\n",
       "      <th>job_id</th>\n",
       "      <th>task_index</th>\n",
       "      <th>machine_id</th>\n",
       "      <th>cpu_rate</th>\n",
       "      <th>canonical_memory_usage</th>\n",
       "      <th>assigned_memory_usage</th>\n",
       "      <th>unmapped_page_cache</th>\n",
       "      <th>total_page_cache</th>\n",
       "      <th>maximum_memory_usage</th>\n",
       "      <th>disk_i/o_time</th>\n",
       "      <th>local_disk_space_usage</th>\n",
       "      <th>maximum_cpu_rate</th>\n",
       "      <th>maximum_disk_io_time</th>\n",
       "      <th>cycles_per_instruction</th>\n",
       "      <th>memory_accesses_per_instruction</th>\n",
       "      <th>sample_portion</th>\n",
       "      <th>aggregation_type</th>\n",
       "      <th>sampled_cpu_usage</th>\n",
       "    </tr>\n",
       "  </thead>\n",
       "  <tbody>\n",
       "    <tr>\n",
       "      <th>0</th>\n",
       "      <td>600000000</td>\n",
       "      <td>900000000</td>\n",
       "      <td>3418309</td>\n",
       "      <td>0</td>\n",
       "      <td>4155527081</td>\n",
       "      <td>0.001562</td>\n",
       "      <td>0.06787</td>\n",
       "      <td>0.07568</td>\n",
       "      <td>0.001156</td>\n",
       "      <td>0.001503</td>\n",
       "      <td>0.06787</td>\n",
       "      <td>2.861e-06</td>\n",
       "      <td>0.0001869</td>\n",
       "      <td>0.03967</td>\n",
       "      <td>0.0003567</td>\n",
       "      <td>2.445</td>\n",
       "      <td>0.007243</td>\n",
       "      <td>0</td>\n",
       "      <td>1</td>\n",
       "      <td>0</td>\n",
       "    </tr>\n",
       "    <tr>\n",
       "      <th>1</th>\n",
       "      <td>600000000</td>\n",
       "      <td>900000000</td>\n",
       "      <td>3418309</td>\n",
       "      <td>1</td>\n",
       "      <td>329150663</td>\n",
       "      <td>0.001568</td>\n",
       "      <td>0.06787</td>\n",
       "      <td>0.07556</td>\n",
       "      <td>0.0003195</td>\n",
       "      <td>0.0007</td>\n",
       "      <td>0.06787</td>\n",
       "      <td>5.722e-06</td>\n",
       "      <td>0.0001879</td>\n",
       "      <td>0.03302</td>\n",
       "      <td>0.0009289</td>\n",
       "      <td>2.1</td>\n",
       "      <td>0.005791</td>\n",
       "      <td>0</td>\n",
       "      <td>1</td>\n",
       "      <td>0</td>\n",
       "    </tr>\n",
       "    <tr>\n",
       "      <th>2</th>\n",
       "      <td>600000000</td>\n",
       "      <td>900000000</td>\n",
       "      <td>3418314</td>\n",
       "      <td>0</td>\n",
       "      <td>3938719206</td>\n",
       "      <td>0.0003071</td>\n",
       "      <td>0.08044</td>\n",
       "      <td>0.09521</td>\n",
       "      <td>0.0002823</td>\n",
       "      <td>0.0006704</td>\n",
       "      <td>0.08044</td>\n",
       "      <td>4.768e-06</td>\n",
       "      <td>0.0001841</td>\n",
       "      <td>0.02377</td>\n",
       "      <td>0.0007858</td>\n",
       "      <td>5.588</td>\n",
       "      <td>0.0208</td>\n",
       "      <td>0</td>\n",
       "      <td>1</td>\n",
       "      <td>0</td>\n",
       "    </tr>\n",
       "    <tr>\n",
       "      <th>3</th>\n",
       "      <td>600000000</td>\n",
       "      <td>900000000</td>\n",
       "      <td>3418314</td>\n",
       "      <td>1</td>\n",
       "      <td>351618647</td>\n",
       "      <td>0.0003004</td>\n",
       "      <td>0.08044</td>\n",
       "      <td>0.09521</td>\n",
       "      <td>0.0005369</td>\n",
       "      <td>0.0008698</td>\n",
       "      <td>0.08044</td>\n",
       "      <td>9.537e-06</td>\n",
       "      <td>0.0001831</td>\n",
       "      <td>0.007919</td>\n",
       "      <td>0.002285</td>\n",
       "      <td>5.198</td>\n",
       "      <td>0.02038</td>\n",
       "      <td>0</td>\n",
       "      <td>1</td>\n",
       "      <td>0</td>\n",
       "    </tr>\n",
       "    <tr>\n",
       "      <th>4</th>\n",
       "      <td>600000000</td>\n",
       "      <td>900000000</td>\n",
       "      <td>3418319</td>\n",
       "      <td>0</td>\n",
       "      <td>431052910</td>\n",
       "      <td>0.0004606</td>\n",
       "      <td>0.07715</td>\n",
       "      <td>0.0874</td>\n",
       "      <td>0.0006247</td>\n",
       "      <td>0.0008516</td>\n",
       "      <td>0.07715</td>\n",
       "      <td>1.907e-06</td>\n",
       "      <td>0.0002041</td>\n",
       "      <td>0.005112</td>\n",
       "      <td>0.0002146</td>\n",
       "      <td>2.937</td>\n",
       "      <td>0.009449</td>\n",
       "      <td>0</td>\n",
       "      <td>1</td>\n",
       "      <td>0</td>\n",
       "    </tr>\n",
       "  </tbody>\n",
       "</table>\n",
       "</div>"
      ],
      "text/plain": [
       "  start_time   end_time   job_id task_index  machine_id   cpu_rate  \\\n",
       "0  600000000  900000000  3418309          0  4155527081   0.001562   \n",
       "1  600000000  900000000  3418309          1   329150663   0.001568   \n",
       "2  600000000  900000000  3418314          0  3938719206  0.0003071   \n",
       "3  600000000  900000000  3418314          1   351618647  0.0003004   \n",
       "4  600000000  900000000  3418319          0   431052910  0.0004606   \n",
       "\n",
       "  canonical_memory_usage assigned_memory_usage unmapped_page_cache  \\\n",
       "0                0.06787               0.07568            0.001156   \n",
       "1                0.06787               0.07556           0.0003195   \n",
       "2                0.08044               0.09521           0.0002823   \n",
       "3                0.08044               0.09521           0.0005369   \n",
       "4                0.07715                0.0874           0.0006247   \n",
       "\n",
       "  total_page_cache maximum_memory_usage disk_i/o_time local_disk_space_usage  \\\n",
       "0         0.001503              0.06787     2.861e-06              0.0001869   \n",
       "1           0.0007              0.06787     5.722e-06              0.0001879   \n",
       "2        0.0006704              0.08044     4.768e-06              0.0001841   \n",
       "3        0.0008698              0.08044     9.537e-06              0.0001831   \n",
       "4        0.0008516              0.07715     1.907e-06              0.0002041   \n",
       "\n",
       "  maximum_cpu_rate maximum_disk_io_time cycles_per_instruction  \\\n",
       "0          0.03967            0.0003567                  2.445   \n",
       "1          0.03302            0.0009289                    2.1   \n",
       "2          0.02377            0.0007858                  5.588   \n",
       "3         0.007919             0.002285                  5.198   \n",
       "4         0.005112            0.0002146                  2.937   \n",
       "\n",
       "  memory_accesses_per_instruction sample_portion aggregation_type  \\\n",
       "0                        0.007243              0                1   \n",
       "1                        0.005791              0                1   \n",
       "2                          0.0208              0                1   \n",
       "3                         0.02038              0                1   \n",
       "4                        0.009449              0                1   \n",
       "\n",
       "  sampled_cpu_usage  \n",
       "0                 0  \n",
       "1                 0  \n",
       "2                 0  \n",
       "3                 0  \n",
       "4                 0  "
      ]
     },
     "execution_count": 21,
     "metadata": {},
     "output_type": "execute_result"
    }
   ],
   "source": [
    "task_usage.pprint(5)"
   ]
  },
  {
   "cell_type": "code",
   "execution_count": 22,
   "metadata": {},
   "outputs": [],
   "source": [
    "max_cpu_task = task_usage.select(['job_id', 'maximum_cpu_rate'])\\\n",
    "                         .mapValues(lambda x: float(x))\\\n",
    "                         .reduceByKey(max)"
   ]
  },
  {
   "cell_type": "code",
   "execution_count": 23,
   "metadata": {},
   "outputs": [],
   "source": [
    "from pyspark.sql import SparkSession\n",
    "spark = SparkSession(sc)\n",
    "\n",
    "te = task_events.select(['job_id', 'event_type'])\n",
    "max_cpu_evt = te.join(max_cpu_task).map(lambda x: (int(x[1][0]), x[1][1])).collect()"
   ]
  },
  {
   "cell_type": "code",
   "execution_count": 24,
   "metadata": {},
   "outputs": [
    {
     "data": {
      "text/plain": [
       "<matplotlib.axes._subplots.AxesSubplot at 0x7fb2f34aa0a0>"
      ]
     },
     "execution_count": 24,
     "metadata": {},
     "output_type": "execute_result"
    },
    {
     "data": {
      "image/png": "[encoded data removed]",
      "text/plain": [
       "<Figure size 1200x800 with 1 Axes>"
      ]
     },
     "metadata": {
      "needs_background": "light"
     },
     "output_type": "display_data"
    }
   ],
   "source": [
    "sns.scatterplot(x=[x[0] for x in max_cpu_evt], y=[x[1] for x in max_cpu_evt])"
   ]
  },
  {
   "cell_type": "markdown",
   "metadata": {},
   "source": [
    "### Does the number of constraints of a task (including different-machine constraint) have an impact on the amount of time it spends in the PENDING state."
   ]
  },
  {
   "cell_type": "code",
   "execution_count": 53,
   "metadata": {},
   "outputs": [
    {
     "name": "stdout",
     "output_type": "stream",
     "text": [
      "+----------+----------+----------+------------------+----+\n",
      "|    job_id|task_index|event_type|time_start_pending|rank|\n",
      "+----------+----------+----------+------------------+----+\n",
      "|1005190908|         1|         0|                 0|   1|\n",
      "|1005190908|         5|         0|                 0|   1|\n",
      "|1005190908|         6|         0|                 0|   1|\n",
      "|1005190908|         9|         0|                 0|   1|\n",
      "|1005831088|         0|         0|                 0|   1|\n",
      "|1005831090|        12|         0|                 0|   1|\n",
      "|1005831090|        13|         0|                 0|   1|\n",
      "|1005831090|        18|         0|                 0|   1|\n",
      "|1005831090|        20|         0|                 0|   1|\n",
      "|1005831090|        24|         0|                 0|   1|\n",
      "|1005831090|        25|         0|                 0|   1|\n",
      "|1005831090|         3|         0|                 0|   1|\n",
      "|1005831090|        35|         0|                 0|   1|\n",
      "|1005831090|        37|         0|                 0|   1|\n",
      "|1005831090|        39|         0|                 0|   1|\n",
      "|1005831090|         4|         0|                 0|   1|\n",
      "|1005831090|        43|         0|                 0|   1|\n",
      "|1005831090|        45|         0|                 0|   1|\n",
      "|1005831090|        50|         0|                 0|   1|\n",
      "|1005831090|         6|         0|                 0|   1|\n",
      "+----------+----------+----------+------------------+----+\n",
      "only showing top 20 rows\n",
      "\n"
     ]
    }
   ],
   "source": [
    "# Select first SUBMIT transition for each job\n",
    "submit_status = task_events.select(['job_id','task_index','event_type', 'time'])\\\n",
    "    .filter(lambda x: x[2] in ['0'])\n",
    "\n",
    "from pyspark.sql.window import Window\n",
    "from pyspark.sql.functions import rank, col\n",
    "\n",
    "df = spark.createDataFrame(submit_status, ['job_id','task_index','event_type', 'time']).withColumnRenamed('time', 'time_start_pending')\n",
    "\n",
    "cols = ['job_id', 'task_index']\n",
    "window = Window.partitionBy([col(x) for x in cols]).orderBy(df['time_start_pending'])\n",
    "\n",
    "inpending = df.select('*', rank().over(window).alias('rank'))\\\n",
    "  .filter(col('rank') == 1)\\\n",
    "\n",
    "inpending.show()"
   ]
  },
  {
   "cell_type": "code",
   "execution_count": 55,
   "metadata": {},
   "outputs": [
    {
     "name": "stdout",
     "output_type": "stream",
     "text": [
      "+----------+----------+----------+----------------+----+\n",
      "|    job_id|task_index|event_type|time_end_pending|rank|\n",
      "+----------+----------+----------+----------------+----+\n",
      "|1005190908|         1|         1|               0|   1|\n",
      "|1005190908|         5|         1|               0|   1|\n",
      "|1005190908|         6|         1|               0|   1|\n",
      "|1005190908|         9|         1|               0|   1|\n",
      "|1005831088|         0|         1|               0|   1|\n",
      "|1005831090|        12|         1|               0|   1|\n",
      "|1005831090|        13|         1|               0|   1|\n",
      "|1005831090|        18|         1|               0|   1|\n",
      "|1005831090|        20|         1|               0|   1|\n",
      "|1005831090|        24|         1|               0|   1|\n",
      "|1005831090|        25|         1|               0|   1|\n",
      "|1005831090|         3|         1|               0|   1|\n",
      "|1005831090|        35|         1|               0|   1|\n",
      "|1005831090|        37|         1|               0|   1|\n",
      "|1005831090|        39|         1|               0|   1|\n",
      "|1005831090|         4|         1|               0|   1|\n",
      "|1005831090|        42|         1|               0|   1|\n",
      "|1005831090|        43|         1|               0|   1|\n",
      "|1005831090|        45|         1|               0|   1|\n",
      "|1005831090|        50|         1|               0|   1|\n",
      "+----------+----------+----------+----------------+----+\n",
      "only showing top 20 rows\n",
      "\n"
     ]
    }
   ],
   "source": [
    "# Select first SCHEDULE, FAIL, KILL or LOST transition for each job (meaning that our task got out of PENDING)\n",
    "outpending_status = task_events.select(['job_id','task_index','event_type', 'time'])\\\n",
    "    .filter(lambda x: x[2] in ['1', '3', '5', '6'])\n",
    "\n",
    "df = spark.createDataFrame(outpending_status, ['job_id','task_index','event_type', 'time']).withColumnRenamed('time', 'time_end_pending')\n",
    "\n",
    "window = Window.partitionBy([col(x) for x in cols]).orderBy(df['time_end_pending'])\n",
    "\n",
    "outpending = df.select('*', rank().over(window).alias('rank'))\\\n",
    "  .filter(col('rank') == 1)\n",
    "\n",
    "outpending.show()"
   ]
  },
  {
   "cell_type": "code",
   "execution_count": 65,
   "metadata": {},
   "outputs": [
    {
     "name": "stdout",
     "output_type": "stream",
     "text": [
      "+----------+----------+----------+------------------+----+----------+----------------+----+-------------+\n",
      "|    job_id|task_index|event_type|time_start_pending|rank|event_type|time_end_pending|rank|   delta_time|\n",
      "+----------+----------+----------+------------------+----+----------+----------------+----+-------------+\n",
      "| 515042969|         1|         0|                 0|   1|         5|      1026166412|   1|1.026166412E9|\n",
      "|5495698530|         0|         0|        2229680005|   1|         1|      2231738115|   1|    2058110.0|\n",
      "|5495698530|         1|         0|        2229680007|   1|         1|      2231738172|   1|    2058165.0|\n",
      "|5664371117|       369|         0|                 0|   1|         1|      2450274015|   1|2.450274015E9|\n",
      "|5664371117|       475|         0|                 0|   1|         1|      4475973764|   1|4.475973764E9|\n",
      "|6218406404|      1006|         0|                 0|   1|         1|      1736168175|   1|1.736168175E9|\n",
      "|6218406404|      1010|         0|                 0|   1|         1|      1758708802|   1|1.758708802E9|\n",
      "|6218406404|      1022|         0|                 0|   1|         1|      1805049496|   1|1.805049496E9|\n",
      "|6218406404|      1052|         0|                 0|   1|         1|      1820799199|   1|1.820799199E9|\n",
      "|6218406404|      1082|         0|                 0|   1|         1|      1875746714|   1|1.875746714E9|\n",
      "|6218406404|      1090|         0|                 0|   1|         1|      2005633483|   1|2.005633483E9|\n",
      "|6218406404|      1093|         0|                 0|   1|         1|      2010795607|   1|2.010795607E9|\n",
      "|6218406404|      1114|         0|                 0|   1|         1|      2085679703|   1|2.085679703E9|\n",
      "|6218406404|      1126|         0|                 0|   1|         1|      2086409869|   1|2.086409869E9|\n",
      "|6218406404|      1164|         0|                 0|   1|         1|      5458281727|   1|5.458281727E9|\n",
      "|6218406404|      1188|         0|                 0|   1|         1|      5482248528|   1|5.482248528E9|\n",
      "|6218406404|      1195|         0|                 0|   1|         1|      5488652887|   1|5.488652887E9|\n",
      "|6218406404|      1213|         0|                 0|   1|         1|      5490066997|   1|5.490066997E9|\n",
      "|6218406404|      1268|         0|                 0|   1|         1|      5491484125|   1|5.491484125E9|\n",
      "|6218406404|      1280|         0|                 0|   1|         1|      5491484170|   1| 5.49148417E9|\n",
      "+----------+----------+----------+------------------+----+----------+----------------+----+-------------+\n",
      "only showing top 20 rows\n",
      "\n"
     ]
    }
   ],
   "source": [
    "full = inpending.join(outpending, ['job_id', 'task_index'])\n",
    "full = full.withColumn('delta_time', col('time_end_pending') - col('time_start_pending'))\n",
    "full.filter(col('delta_time') > 0).show()"
   ]
  },
  {
   "cell_type": "code",
   "execution_count": 103,
   "metadata": {},
   "outputs": [
    {
     "data": {
      "text/plain": [
       "[(('3418314', '0'), '0'),\n",
       " (('3418314', '0'), '0'),\n",
       " (('3418314', '1'), '0'),\n",
       " (('3418314', '1'), '0'),\n",
       " (('3418368', '0'), '0'),\n",
       " (('3418368', '0'), '0'),\n",
       " (('3418368', '1'), '0'),\n",
       " (('3418368', '1'), '0'),\n",
       " (('3418368', '2'), '0'),\n",
       " (('3418368', '2'), '0')]"
      ]
     },
     "execution_count": 103,
     "metadata": {},
     "output_type": "execute_result"
    }
   ],
   "source": [
    "task_constraints = Table('task_constraints', spark_context=sc)\n",
    "\n",
    "# Counts nb of constraints registered for each (job, task)\n",
    "tc = task_constraints.select(['job_id', 'task_index', 'time']).map(lambda x: ((x[0],x[1]), x[2]))\n",
    "tc.take(10)"
   ]
  },
  {
   "cell_type": "code",
   "execution_count": 127,
   "metadata": {},
   "outputs": [
    {
     "name": "stdout",
     "output_type": "stream",
     "text": [
      "+--------+----------+--------------+\n",
      "|  job_id|task_index|nb_constraints|\n",
      "+--------+----------+--------------+\n",
      "| 3418368|         2|             4|\n",
      "| 3418380|         0|             4|\n",
      "| 3418380|         1|             4|\n",
      "| 3418400|         0|             4|\n",
      "| 3418400|         1|             4|\n",
      "| 3418405|         0|             4|\n",
      "| 3418405|         1|             4|\n",
      "| 6590371|         0|             4|\n",
      "| 6590371|         1|             4|\n",
      "| 6590376|         0|             4|\n",
      "| 6590376|         1|             4|\n",
      "| 6724949|         0|             4|\n",
      "| 6724949|         1|             4|\n",
      "| 7053513|         2|             4|\n",
      "|17109330|         2|             5|\n",
      "|17109330|         3|             5|\n",
      "|17109330|         5|             5|\n",
      "|17109330|         6|             5|\n",
      "|17109330|         7|             5|\n",
      "|17109330|        11|             5|\n",
      "+--------+----------+--------------+\n",
      "only showing top 20 rows\n",
      "\n"
     ]
    }
   ],
   "source": [
    "def avg_init(row):\n",
    "    return [1]\n",
    "\n",
    "def avg_merge(old, new):\n",
    "    return [old[0]+1]\n",
    "\n",
    "def avg_cmb(old, new):\n",
    "    return [old[0]+new[0]]\n",
    "\n",
    "res = tc.combineByKey(avg_init, avg_merge, avg_cmb).map(lambda x: (x[0][0], x[0][1], x[1][0]))\n",
    "\n",
    "cNames = [\"job_id\", \"task_index\", \"nb_constraints\"]\n",
    "asdf = res.toDF(cNames)\n",
    "\n",
    "asdf.show()"
   ]
  },
  {
   "cell_type": "code",
   "execution_count": 128,
   "metadata": {},
   "outputs": [
    {
     "name": "stdout",
     "output_type": "stream",
     "text": [
      "+----------+----------+----------+------------------+----+----------+----------------+----+-------------+--------------+\n",
      "|    job_id|task_index|event_type|time_start_pending|rank|event_type|time_end_pending|rank|   delta_time|nb_constraints|\n",
      "+----------+----------+----------+------------------+----+----------+----------------+----+-------------+--------------+\n",
      "| 515042969|         1|         0|                 0|   1|         5|      1026166412|   1|1.026166412E9|          1614|\n",
      "|6251625636|        10|         0|        2430254352|   1|         1|      2450274212|   1|   2.001986E7|             2|\n",
      "|6251625636|       106|         0|        2430254448|   1|         1|      2460156572|   1|  2.9902124E7|             2|\n",
      "|6251625636|       107|         0|        2430254449|   1|         1|      2464484814|   1|  3.4230365E7|             2|\n",
      "|6251625636|       113|         0|        2430254455|   1|         1|      2448580154|   1|  1.8325699E7|             2|\n",
      "|6251625636|       114|         0|        2430254456|   1|         1|      2462837971|   1|  3.2583515E7|             5|\n",
      "|6251625636|       119|         0|        2430254461|   1|         1|      2459290110|   1|  2.9035649E7|             2|\n",
      "|6251625636|       125|         0|        2430254467|   1|         1|      2455345247|   1|   2.509078E7|             2|\n",
      "|6251625636|       136|         0|        2430254478|   1|         1|      2460971771|   1|  3.0717293E7|             2|\n",
      "|6251625636|       137|         0|        2430254479|   1|         1|      2458469689|   1|   2.821521E7|             2|\n",
      "|6251625636|       139|         0|        2430254481|   1|         1|      2461200866|   1|  3.0946385E7|             2|\n",
      "|6251625636|       142|         0|        2430254484|   1|         1|      2460155617|   1|  2.9901133E7|             2|\n",
      "|6251625636|       146|         0|        2430254488|   1|         1|      2463620054|   1|  3.3365566E7|             2|\n",
      "|6251625636|       154|         0|        2430254496|   1|         1|      2462757425|   1|  3.2502929E7|             2|\n",
      "|6251625636|       163|         0|        2430254505|   1|         1|      2456157764|   1|  2.5903259E7|             2|\n",
      "|6251625636|       166|         0|        2430254508|   1|         1|      2451132687|   1|  2.0878179E7|             2|\n",
      "|6251625636|       173|         0|        2430254515|   1|         1|      2452754263|   1|  2.2499748E7|             2|\n",
      "|6251625636|       175|         0|        2430254517|   1|         1|      2433018995|   1|    2764478.0|             2|\n",
      "|6251625636|       181|         0|        2430254523|   1|         1|      2464484707|   1|  3.4230184E7|             2|\n",
      "|6251625636|       185|         0|        2430254527|   1|         1|      2456096741|   1|  2.5842214E7|             2|\n",
      "+----------+----------+----------+------------------+----+----------+----------------+----+-------------+--------------+\n",
      "only showing top 20 rows\n",
      "\n"
     ]
    }
   ],
   "source": [
    "full2 = full.join(asdf, ['job_id', 'task_index'])\n",
    "full2.filter(col('delta_time') > 0).show()"
   ]
  },
  {
   "cell_type": "code",
   "execution_count": null,
   "metadata": {},
   "outputs": [],
   "source": [
    "# @ME : VIS GOES HERE, USE 2 LAST COLS"
   ]
  }
 ],
 "metadata": {
  "interpreter": {
   "hash": "916dbcbb3f70747c44a77c7bcd40155683ae19c65e1c03b4aa3499c5328201f1"
  },
  "kernelspec": {
   "display_name": "Python 3.8.10 64-bit",
   "name": "python3"
  },
  "language_info": {
   "codemirror_mode": {
    "name": "ipython",
    "version": 3
   },
   "file_extension": ".py",
   "mimetype": "text/x-python",
   "name": "python",
   "nbconvert_exporter": "python",
   "pygments_lexer": "ipython3",
   "version": "3.8.10"
  },
  "orig_nbformat": 4
 },
 "nbformat": 4,
 "nbformat_minor": 2
}
