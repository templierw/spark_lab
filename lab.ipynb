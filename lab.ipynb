{
 "cells": [
  {
   "cell_type": "code",
   "execution_count": 1,
   "metadata": {},
   "outputs": [
    {
     "name": "stderr",
     "output_type": "stream",
     "text": [
      "21/11/21 16:34:01 WARN Utils: Your hostname, pasokon resolves to a loopback address: 127.0.1.1; using 192.168.1.96 instead (on interface wlo1)\n",
      "21/11/21 16:34:01 WARN Utils: Set SPARK_LOCAL_IP if you need to bind to another address\n",
      "WARNING: An illegal reflective access operation has occurred\n",
      "WARNING: Illegal reflective access by org.apache.spark.unsafe.Platform (file:/home/william/.local/lib/python3.8/site-packages/pyspark/jars/spark-unsafe_2.12-3.1.2.jar) to constructor java.nio.DirectByteBuffer(long,int)\n",
      "WARNING: Please consider reporting this to the maintainers of org.apache.spark.unsafe.Platform\n",
      "WARNING: Use --illegal-access=warn to enable warnings of further illegal reflective access operations\n",
      "WARNING: All illegal access operations will be denied in a future release\n",
      "21/11/21 16:34:02 WARN NativeCodeLoader: Unable to load native-hadoop library for your platform... using builtin-java classes where applicable\n",
      "Using Spark's default log4j profile: org/apache/spark/log4j-defaults.properties\n",
      "Setting default log level to \"WARN\".\n",
      "To adjust logging level use sc.setLogLevel(newLevel). For SparkR, use setLogLevel(newLevel).\n"
     ]
    }
   ],
   "source": [
    "import seaborn as sns\n",
    "import matplotlib.pyplot as plt\n",
    "colors = sns.color_palette('viridis')\n",
    "\n",
    "from pyspark import SparkContext\n",
    "from table import Table\n",
    "\n",
    "# start spark with 1 worker thread\n",
    "sc = SparkContext(\"local[*]\")\n",
    "sc.setLogLevel(\"ERROR\")"
   ]
  },
  {
   "cell_type": "markdown",
   "metadata": {},
   "source": [
    "### What is the distribution of the machines according to their CPU capacity?"
   ]
  },
  {
   "cell_type": "code",
   "execution_count": 2,
   "metadata": {},
   "outputs": [
    {
     "name": "stderr",
     "output_type": "stream",
     "text": []
    },
    {
     "data": {
      "text/html": [
       "<div>\n",
       "<style scoped>\n",
       "    .dataframe tbody tr th:only-of-type {\n",
       "        vertical-align: middle;\n",
       "    }\n",
       "\n",
       "    .dataframe tbody tr th {\n",
       "        vertical-align: top;\n",
       "    }\n",
       "\n",
       "    .dataframe thead th {\n",
       "        text-align: right;\n",
       "    }\n",
       "</style>\n",
       "<table border=\"1\" class=\"dataframe\">\n",
       "  <thead>\n",
       "    <tr style=\"text-align: right;\">\n",
       "      <th></th>\n",
       "      <th>time</th>\n",
       "      <th>machine_id</th>\n",
       "      <th>event_type</th>\n",
       "      <th>platform_id</th>\n",
       "      <th>cpus</th>\n",
       "      <th>memory</th>\n",
       "    </tr>\n",
       "  </thead>\n",
       "  <tbody>\n",
       "    <tr>\n",
       "      <th>0</th>\n",
       "      <td>0</td>\n",
       "      <td>5</td>\n",
       "      <td>0</td>\n",
       "      <td>HofLGzk1Or/8Ildj2+Lqv0UGGvY82NLoni8+J/Yy0RU=</td>\n",
       "      <td>0.5</td>\n",
       "      <td>0.2493</td>\n",
       "    </tr>\n",
       "    <tr>\n",
       "      <th>1</th>\n",
       "      <td>0</td>\n",
       "      <td>6</td>\n",
       "      <td>0</td>\n",
       "      <td>HofLGzk1Or/8Ildj2+Lqv0UGGvY82NLoni8+J/Yy0RU=</td>\n",
       "      <td>0.5</td>\n",
       "      <td>0.2493</td>\n",
       "    </tr>\n",
       "    <tr>\n",
       "      <th>2</th>\n",
       "      <td>0</td>\n",
       "      <td>7</td>\n",
       "      <td>0</td>\n",
       "      <td>HofLGzk1Or/8Ildj2+Lqv0UGGvY82NLoni8+J/Yy0RU=</td>\n",
       "      <td>0.5</td>\n",
       "      <td>0.2493</td>\n",
       "    </tr>\n",
       "    <tr>\n",
       "      <th>3</th>\n",
       "      <td>0</td>\n",
       "      <td>10</td>\n",
       "      <td>0</td>\n",
       "      <td>HofLGzk1Or/8Ildj2+Lqv0UGGvY82NLoni8+J/Yy0RU=</td>\n",
       "      <td>0.5</td>\n",
       "      <td>0.2493</td>\n",
       "    </tr>\n",
       "    <tr>\n",
       "      <th>4</th>\n",
       "      <td>0</td>\n",
       "      <td>13</td>\n",
       "      <td>0</td>\n",
       "      <td>HofLGzk1Or/8Ildj2+Lqv0UGGvY82NLoni8+J/Yy0RU=</td>\n",
       "      <td>0.5</td>\n",
       "      <td>0.2493</td>\n",
       "    </tr>\n",
       "  </tbody>\n",
       "</table>\n",
       "</div>"
      ],
      "text/plain": [
       "  time machine_id event_type                                   platform_id  \\\n",
       "0    0          5          0  HofLGzk1Or/8Ildj2+Lqv0UGGvY82NLoni8+J/Yy0RU=   \n",
       "1    0          6          0  HofLGzk1Or/8Ildj2+Lqv0UGGvY82NLoni8+J/Yy0RU=   \n",
       "2    0          7          0  HofLGzk1Or/8Ildj2+Lqv0UGGvY82NLoni8+J/Yy0RU=   \n",
       "3    0         10          0  HofLGzk1Or/8Ildj2+Lqv0UGGvY82NLoni8+J/Yy0RU=   \n",
       "4    0         13          0  HofLGzk1Or/8Ildj2+Lqv0UGGvY82NLoni8+J/Yy0RU=   \n",
       "\n",
       "  cpus  memory  \n",
       "0  0.5  0.2493  \n",
       "1  0.5  0.2493  \n",
       "2  0.5  0.2493  \n",
       "3  0.5  0.2493  \n",
       "4  0.5  0.2493  "
      ]
     },
     "execution_count": 2,
     "metadata": {},
     "output_type": "execute_result"
    }
   ],
   "source": [
    "machine_events = Table('machine_events', sc)\n",
    "machine_events.pprint(take=5)"
   ]
  },
  {
   "cell_type": "code",
   "execution_count": 3,
   "metadata": {},
   "outputs": [
    {
     "data": {
      "text/plain": [
       "defaultdict(int,\n",
       "            {('0.5', '0.2493'): 10188,\n",
       "             ('0.5', '0.4995'): 21731,\n",
       "             ('0.5', '0.1241'): 97,\n",
       "             ('0.5', '0.03085'): 6,\n",
       "             ('0.5', '0.749'): 2983,\n",
       "             ('0.5', '0.9678'): 7,\n",
       "             ('0.25', '0.2498'): 510,\n",
       "             ('0.5', '0.06158'): 3,\n",
       "             ('1', '1'): 2218,\n",
       "             ('1', '0.5'): 5,\n",
       "             ('NA', 'NA'): 32})"
      ]
     },
     "execution_count": 3,
     "metadata": {},
     "output_type": "execute_result"
    }
   ],
   "source": [
    "cpu_dist = machine_events.select(['cpus','memory']).countByValue()\n",
    "cpu_dist"
   ]
  },
  {
   "cell_type": "code",
   "execution_count": 4,
   "metadata": {},
   "outputs": [
    {
     "name": "stdout",
     "output_type": "stream",
     "text": [
      "cpu type: 0.5, count: 35015\n",
      "cpu type: 0.25, count: 510\n",
      "cpu type: 1, count: 2223\n",
      "cpu type: NA, count: 32\n"
     ]
    }
   ],
   "source": [
    "cpu_dist = machine_events.select(['cpus']).countByValue()\n",
    "for cpu_type, value in cpu_dist.items():\n",
    "    print(f'cpu type: {cpu_type[0]}, count: {value}')"
   ]
  },
  {
   "cell_type": "code",
   "execution_count": 6,
   "metadata": {},
   "outputs": [
    {
     "data": {
      "image/png": "[encoded data removed]",
      "text/plain": [
       "<Figure size 432x288 with 1 Axes>"
      ]
     },
     "metadata": {},
     "output_type": "display_data"
    }
   ],
   "source": [
    "plt.pie(cpu_dist.values(), labels=cpu_dist.keys(), colors = colors, autopct='%.2f%%')\n",
    "plt.show()\n"
   ]
  },
  {
   "cell_type": "markdown",
   "metadata": {},
   "source": [
    "### On average, how many tasks compose a job?"
   ]
  },
  {
   "cell_type": "code",
   "execution_count": 7,
   "metadata": {},
   "outputs": [
    {
     "name": "stderr",
     "output_type": "stream",
     "text": []
    },
    {
     "data": {
      "text/plain": [
       "(91.96036772216547, 843.9305821206359)"
      ]
     },
     "execution_count": 7,
     "metadata": {},
     "output_type": "execute_result"
    }
   ],
   "source": [
    "import numpy as np\n",
    "task_events = Table('task_events', sc)\n",
    "job = task_events.select(['job_id'])\n",
    "task_per_job = list(job.countByValue().values())\n",
    "\n",
    "np.mean(task_per_job), np.std(task_per_job) "
   ]
  },
  {
   "cell_type": "code",
   "execution_count": 8,
   "metadata": {},
   "outputs": [
    {
     "data": {
      "text/html": [
       "<div>\n",
       "<style scoped>\n",
       "    .dataframe tbody tr th:only-of-type {\n",
       "        vertical-align: middle;\n",
       "    }\n",
       "\n",
       "    .dataframe tbody tr th {\n",
       "        vertical-align: top;\n",
       "    }\n",
       "\n",
       "    .dataframe thead th {\n",
       "        text-align: right;\n",
       "    }\n",
       "</style>\n",
       "<table border=\"1\" class=\"dataframe\">\n",
       "  <thead>\n",
       "    <tr style=\"text-align: right;\">\n",
       "      <th></th>\n",
       "      <th>time</th>\n",
       "      <th>missing_info</th>\n",
       "      <th>job_id</th>\n",
       "      <th>task_index</th>\n",
       "      <th>machine_id</th>\n",
       "      <th>event_type</th>\n",
       "      <th>user</th>\n",
       "      <th>scheduling_class</th>\n",
       "      <th>priority</th>\n",
       "      <th>cpu_request</th>\n",
       "      <th>memory_request</th>\n",
       "      <th>disk_space_request</th>\n",
       "      <th>different_machines_restriction</th>\n",
       "    </tr>\n",
       "  </thead>\n",
       "  <tbody>\n",
       "    <tr>\n",
       "      <th>0</th>\n",
       "      <td>0</td>\n",
       "      <td>2</td>\n",
       "      <td>3418309</td>\n",
       "      <td>0</td>\n",
       "      <td>4155527081</td>\n",
       "      <td>0</td>\n",
       "      <td>70s3v5qRyCO/1PCdI6fVXnrW8FU/w+5CKRSa72xgcIo=</td>\n",
       "      <td>3</td>\n",
       "      <td>9</td>\n",
       "      <td>NA</td>\n",
       "      <td>NA</td>\n",
       "      <td>NA</td>\n",
       "      <td>NA</td>\n",
       "    </tr>\n",
       "    <tr>\n",
       "      <th>1</th>\n",
       "      <td>0</td>\n",
       "      <td>2</td>\n",
       "      <td>3418309</td>\n",
       "      <td>1</td>\n",
       "      <td>329150663</td>\n",
       "      <td>0</td>\n",
       "      <td>70s3v5qRyCO/1PCdI6fVXnrW8FU/w+5CKRSa72xgcIo=</td>\n",
       "      <td>3</td>\n",
       "      <td>9</td>\n",
       "      <td>NA</td>\n",
       "      <td>NA</td>\n",
       "      <td>NA</td>\n",
       "      <td>NA</td>\n",
       "    </tr>\n",
       "    <tr>\n",
       "      <th>2</th>\n",
       "      <td>0</td>\n",
       "      <td>NA</td>\n",
       "      <td>3418314</td>\n",
       "      <td>0</td>\n",
       "      <td>3938719206</td>\n",
       "      <td>0</td>\n",
       "      <td>70s3v5qRyCO/1PCdI6fVXnrW8FU/w+5CKRSa72xgcIo=</td>\n",
       "      <td>3</td>\n",
       "      <td>9</td>\n",
       "      <td>0.125</td>\n",
       "      <td>0.07446</td>\n",
       "      <td>0.0004244</td>\n",
       "      <td>0</td>\n",
       "    </tr>\n",
       "    <tr>\n",
       "      <th>3</th>\n",
       "      <td>0</td>\n",
       "      <td>NA</td>\n",
       "      <td>3418314</td>\n",
       "      <td>1</td>\n",
       "      <td>351618647</td>\n",
       "      <td>0</td>\n",
       "      <td>70s3v5qRyCO/1PCdI6fVXnrW8FU/w+5CKRSa72xgcIo=</td>\n",
       "      <td>3</td>\n",
       "      <td>9</td>\n",
       "      <td>0.125</td>\n",
       "      <td>0.07446</td>\n",
       "      <td>0.0004244</td>\n",
       "      <td>0</td>\n",
       "    </tr>\n",
       "    <tr>\n",
       "      <th>4</th>\n",
       "      <td>0</td>\n",
       "      <td>2</td>\n",
       "      <td>3418319</td>\n",
       "      <td>0</td>\n",
       "      <td>431052910</td>\n",
       "      <td>0</td>\n",
       "      <td>70s3v5qRyCO/1PCdI6fVXnrW8FU/w+5CKRSa72xgcIo=</td>\n",
       "      <td>3</td>\n",
       "      <td>9</td>\n",
       "      <td>NA</td>\n",
       "      <td>NA</td>\n",
       "      <td>NA</td>\n",
       "      <td>NA</td>\n",
       "    </tr>\n",
       "  </tbody>\n",
       "</table>\n",
       "</div>"
      ],
      "text/plain": [
       "  time missing_info   job_id task_index  machine_id event_type  \\\n",
       "0    0            2  3418309          0  4155527081          0   \n",
       "1    0            2  3418309          1   329150663          0   \n",
       "2    0           NA  3418314          0  3938719206          0   \n",
       "3    0           NA  3418314          1   351618647          0   \n",
       "4    0            2  3418319          0   431052910          0   \n",
       "\n",
       "                                           user scheduling_class priority  \\\n",
       "0  70s3v5qRyCO/1PCdI6fVXnrW8FU/w+5CKRSa72xgcIo=                3        9   \n",
       "1  70s3v5qRyCO/1PCdI6fVXnrW8FU/w+5CKRSa72xgcIo=                3        9   \n",
       "2  70s3v5qRyCO/1PCdI6fVXnrW8FU/w+5CKRSa72xgcIo=                3        9   \n",
       "3  70s3v5qRyCO/1PCdI6fVXnrW8FU/w+5CKRSa72xgcIo=                3        9   \n",
       "4  70s3v5qRyCO/1PCdI6fVXnrW8FU/w+5CKRSa72xgcIo=                3        9   \n",
       "\n",
       "  cpu_request memory_request disk_space_request different_machines_restriction  \n",
       "0          NA             NA                 NA                             NA  \n",
       "1          NA             NA                 NA                             NA  \n",
       "2       0.125        0.07446          0.0004244                              0  \n",
       "3       0.125        0.07446          0.0004244                              0  \n",
       "4          NA             NA                 NA                             NA  "
      ]
     },
     "execution_count": 8,
     "metadata": {},
     "output_type": "execute_result"
    }
   ],
   "source": [
    "task_events.pprint(5)"
   ]
  },
  {
   "cell_type": "code",
   "execution_count": 9,
   "metadata": {},
   "outputs": [
    {
     "data": {
      "text/plain": [
       "[('3418309', '3'),\n",
       " ('3418309', '3'),\n",
       " ('3418314', '3'),\n",
       " ('3418314', '3'),\n",
       " ('3418319', '3')]"
      ]
     },
     "execution_count": 9,
     "metadata": {},
     "output_type": "execute_result"
    }
   ],
   "source": [
    "task_events.select(['job_id', 'scheduling_class']).take(5)"
   ]
  },
  {
   "cell_type": "markdown",
   "metadata": {},
   "source": [
    "## What is the distribution of the number jobs/tasks per scheduling class?"
   ]
  },
  {
   "cell_type": "code",
   "execution_count": 10,
   "metadata": {},
   "outputs": [
    {
     "data": {
      "text/html": [
       "<div>\n",
       "<style scoped>\n",
       "    .dataframe tbody tr th:only-of-type {\n",
       "        vertical-align: middle;\n",
       "    }\n",
       "\n",
       "    .dataframe tbody tr th {\n",
       "        vertical-align: top;\n",
       "    }\n",
       "\n",
       "    .dataframe thead th {\n",
       "        text-align: right;\n",
       "    }\n",
       "</style>\n",
       "<table border=\"1\" class=\"dataframe\">\n",
       "  <thead>\n",
       "    <tr style=\"text-align: right;\">\n",
       "      <th></th>\n",
       "      <th>time</th>\n",
       "      <th>missing_info</th>\n",
       "      <th>job_id</th>\n",
       "      <th>task_index</th>\n",
       "      <th>machine_id</th>\n",
       "      <th>event_type</th>\n",
       "      <th>user</th>\n",
       "      <th>scheduling_class</th>\n",
       "      <th>priority</th>\n",
       "      <th>cpu_request</th>\n",
       "      <th>memory_request</th>\n",
       "      <th>disk_space_request</th>\n",
       "      <th>different_machines_restriction</th>\n",
       "    </tr>\n",
       "  </thead>\n",
       "  <tbody>\n",
       "    <tr>\n",
       "      <th>0</th>\n",
       "      <td>0</td>\n",
       "      <td>2</td>\n",
       "      <td>3418309</td>\n",
       "      <td>0</td>\n",
       "      <td>4155527081</td>\n",
       "      <td>0</td>\n",
       "      <td>70s3v5qRyCO/1PCdI6fVXnrW8FU/w+5CKRSa72xgcIo=</td>\n",
       "      <td>3</td>\n",
       "      <td>9</td>\n",
       "      <td>NA</td>\n",
       "      <td>NA</td>\n",
       "      <td>NA</td>\n",
       "      <td>NA</td>\n",
       "    </tr>\n",
       "    <tr>\n",
       "      <th>1</th>\n",
       "      <td>0</td>\n",
       "      <td>2</td>\n",
       "      <td>3418309</td>\n",
       "      <td>1</td>\n",
       "      <td>329150663</td>\n",
       "      <td>0</td>\n",
       "      <td>70s3v5qRyCO/1PCdI6fVXnrW8FU/w+5CKRSa72xgcIo=</td>\n",
       "      <td>3</td>\n",
       "      <td>9</td>\n",
       "      <td>NA</td>\n",
       "      <td>NA</td>\n",
       "      <td>NA</td>\n",
       "      <td>NA</td>\n",
       "    </tr>\n",
       "    <tr>\n",
       "      <th>2</th>\n",
       "      <td>0</td>\n",
       "      <td>NA</td>\n",
       "      <td>3418314</td>\n",
       "      <td>0</td>\n",
       "      <td>3938719206</td>\n",
       "      <td>0</td>\n",
       "      <td>70s3v5qRyCO/1PCdI6fVXnrW8FU/w+5CKRSa72xgcIo=</td>\n",
       "      <td>3</td>\n",
       "      <td>9</td>\n",
       "      <td>0.125</td>\n",
       "      <td>0.07446</td>\n",
       "      <td>0.0004244</td>\n",
       "      <td>0</td>\n",
       "    </tr>\n",
       "    <tr>\n",
       "      <th>3</th>\n",
       "      <td>0</td>\n",
       "      <td>NA</td>\n",
       "      <td>3418314</td>\n",
       "      <td>1</td>\n",
       "      <td>351618647</td>\n",
       "      <td>0</td>\n",
       "      <td>70s3v5qRyCO/1PCdI6fVXnrW8FU/w+5CKRSa72xgcIo=</td>\n",
       "      <td>3</td>\n",
       "      <td>9</td>\n",
       "      <td>0.125</td>\n",
       "      <td>0.07446</td>\n",
       "      <td>0.0004244</td>\n",
       "      <td>0</td>\n",
       "    </tr>\n",
       "    <tr>\n",
       "      <th>4</th>\n",
       "      <td>0</td>\n",
       "      <td>2</td>\n",
       "      <td>3418319</td>\n",
       "      <td>0</td>\n",
       "      <td>431052910</td>\n",
       "      <td>0</td>\n",
       "      <td>70s3v5qRyCO/1PCdI6fVXnrW8FU/w+5CKRSa72xgcIo=</td>\n",
       "      <td>3</td>\n",
       "      <td>9</td>\n",
       "      <td>NA</td>\n",
       "      <td>NA</td>\n",
       "      <td>NA</td>\n",
       "      <td>NA</td>\n",
       "    </tr>\n",
       "    <tr>\n",
       "      <th>5</th>\n",
       "      <td>0</td>\n",
       "      <td>2</td>\n",
       "      <td>3418319</td>\n",
       "      <td>1</td>\n",
       "      <td>257348783</td>\n",
       "      <td>0</td>\n",
       "      <td>70s3v5qRyCO/1PCdI6fVXnrW8FU/w+5CKRSa72xgcIo=</td>\n",
       "      <td>3</td>\n",
       "      <td>9</td>\n",
       "      <td>NA</td>\n",
       "      <td>NA</td>\n",
       "      <td>NA</td>\n",
       "      <td>NA</td>\n",
       "    </tr>\n",
       "    <tr>\n",
       "      <th>6</th>\n",
       "      <td>0</td>\n",
       "      <td>2</td>\n",
       "      <td>3418324</td>\n",
       "      <td>0</td>\n",
       "      <td>5655258253</td>\n",
       "      <td>0</td>\n",
       "      <td>70s3v5qRyCO/1PCdI6fVXnrW8FU/w+5CKRSa72xgcIo=</td>\n",
       "      <td>3</td>\n",
       "      <td>9</td>\n",
       "      <td>NA</td>\n",
       "      <td>NA</td>\n",
       "      <td>NA</td>\n",
       "      <td>NA</td>\n",
       "    </tr>\n",
       "    <tr>\n",
       "      <th>7</th>\n",
       "      <td>0</td>\n",
       "      <td>2</td>\n",
       "      <td>3418324</td>\n",
       "      <td>1</td>\n",
       "      <td>3550322224</td>\n",
       "      <td>0</td>\n",
       "      <td>70s3v5qRyCO/1PCdI6fVXnrW8FU/w+5CKRSa72xgcIo=</td>\n",
       "      <td>3</td>\n",
       "      <td>9</td>\n",
       "      <td>NA</td>\n",
       "      <td>NA</td>\n",
       "      <td>NA</td>\n",
       "      <td>NA</td>\n",
       "    </tr>\n",
       "    <tr>\n",
       "      <th>8</th>\n",
       "      <td>0</td>\n",
       "      <td>2</td>\n",
       "      <td>3418329</td>\n",
       "      <td>0</td>\n",
       "      <td>1303745</td>\n",
       "      <td>0</td>\n",
       "      <td>70s3v5qRyCO/1PCdI6fVXnrW8FU/w+5CKRSa72xgcIo=</td>\n",
       "      <td>3</td>\n",
       "      <td>9</td>\n",
       "      <td>NA</td>\n",
       "      <td>NA</td>\n",
       "      <td>NA</td>\n",
       "      <td>NA</td>\n",
       "    </tr>\n",
       "    <tr>\n",
       "      <th>9</th>\n",
       "      <td>0</td>\n",
       "      <td>2</td>\n",
       "      <td>3418329</td>\n",
       "      <td>1</td>\n",
       "      <td>3894543095</td>\n",
       "      <td>0</td>\n",
       "      <td>70s3v5qRyCO/1PCdI6fVXnrW8FU/w+5CKRSa72xgcIo=</td>\n",
       "      <td>3</td>\n",
       "      <td>9</td>\n",
       "      <td>NA</td>\n",
       "      <td>NA</td>\n",
       "      <td>NA</td>\n",
       "      <td>NA</td>\n",
       "    </tr>\n",
       "  </tbody>\n",
       "</table>\n",
       "</div>"
      ],
      "text/plain": [
       "  time missing_info   job_id task_index  machine_id event_type  \\\n",
       "0    0            2  3418309          0  4155527081          0   \n",
       "1    0            2  3418309          1   329150663          0   \n",
       "2    0           NA  3418314          0  3938719206          0   \n",
       "3    0           NA  3418314          1   351618647          0   \n",
       "4    0            2  3418319          0   431052910          0   \n",
       "5    0            2  3418319          1   257348783          0   \n",
       "6    0            2  3418324          0  5655258253          0   \n",
       "7    0            2  3418324          1  3550322224          0   \n",
       "8    0            2  3418329          0     1303745          0   \n",
       "9    0            2  3418329          1  3894543095          0   \n",
       "\n",
       "                                           user scheduling_class priority  \\\n",
       "0  70s3v5qRyCO/1PCdI6fVXnrW8FU/w+5CKRSa72xgcIo=                3        9   \n",
       "1  70s3v5qRyCO/1PCdI6fVXnrW8FU/w+5CKRSa72xgcIo=                3        9   \n",
       "2  70s3v5qRyCO/1PCdI6fVXnrW8FU/w+5CKRSa72xgcIo=                3        9   \n",
       "3  70s3v5qRyCO/1PCdI6fVXnrW8FU/w+5CKRSa72xgcIo=                3        9   \n",
       "4  70s3v5qRyCO/1PCdI6fVXnrW8FU/w+5CKRSa72xgcIo=                3        9   \n",
       "5  70s3v5qRyCO/1PCdI6fVXnrW8FU/w+5CKRSa72xgcIo=                3        9   \n",
       "6  70s3v5qRyCO/1PCdI6fVXnrW8FU/w+5CKRSa72xgcIo=                3        9   \n",
       "7  70s3v5qRyCO/1PCdI6fVXnrW8FU/w+5CKRSa72xgcIo=                3        9   \n",
       "8  70s3v5qRyCO/1PCdI6fVXnrW8FU/w+5CKRSa72xgcIo=                3        9   \n",
       "9  70s3v5qRyCO/1PCdI6fVXnrW8FU/w+5CKRSa72xgcIo=                3        9   \n",
       "\n",
       "  cpu_request memory_request disk_space_request different_machines_restriction  \n",
       "0          NA             NA                 NA                             NA  \n",
       "1          NA             NA                 NA                             NA  \n",
       "2       0.125        0.07446          0.0004244                              0  \n",
       "3       0.125        0.07446          0.0004244                              0  \n",
       "4          NA             NA                 NA                             NA  \n",
       "5          NA             NA                 NA                             NA  \n",
       "6          NA             NA                 NA                             NA  \n",
       "7          NA             NA                 NA                             NA  \n",
       "8          NA             NA                 NA                             NA  \n",
       "9          NA             NA                 NA                             NA  "
      ]
     },
     "execution_count": 10,
     "metadata": {},
     "output_type": "execute_result"
    }
   ],
   "source": [
    "task_events.pprint(10)"
   ]
  },
  {
   "cell_type": "code",
   "execution_count": 41,
   "metadata": {},
   "outputs": [
    {
     "data": {
      "text/plain": [
       "[('3', ('3418309', '0')),\n",
       " ('3', ('3418309', '1')),\n",
       " ('3', ('3418314', '0')),\n",
       " ('3', ('3418314', '1')),\n",
       " ('3', ('3418319', '0'))]"
      ]
     },
     "execution_count": 41,
     "metadata": {},
     "output_type": "execute_result"
    }
   ],
   "source": [
    "job_task_sched = task_events.select(['scheduling_class','job_id', 'task_index'])\\\n",
    "    .map(lambda x: (x[0], (x[1],x[2])))\n",
    "job_task_sched.take(5)"
   ]
  },
  {
   "cell_type": "code",
   "execution_count": 64,
   "metadata": {},
   "outputs": [
    {
     "data": {
      "text/plain": [
       "[('b', 2), ('a', 2)]"
      ]
     },
     "execution_count": 64,
     "metadata": {},
     "output_type": "execute_result"
    }
   ],
   "source": [
    "def to_list(a):\n",
    "    return [[a[0]], [a[1]]]\n",
    "\n",
    "def append(a, b):\n",
    "    a[0].append(b[0])\n",
    "    a[1].append(b[1])\n",
    "    return [a[0], a[1]]\n",
    "\n",
    "def extend(a, b):\n",
    "    a[0].extend(b[0])\n",
    "    a[1].extend(b[1])\n",
    "    return [a[0], a[1]]"
   ]
  },
  {
   "cell_type": "code",
   "execution_count": 66,
   "metadata": {},
   "outputs": [
    {
     "name": "stderr",
     "output_type": "stream",
     "text": []
    },
    {
     "data": {
      "text/plain": [
       "[('1', 1624, 58109), ('0', 919, 237969), ('3', 933, 56586), ('2', 1419, 97482)]"
      ]
     },
     "execution_count": 66,
     "metadata": {},
     "output_type": "execute_result"
    }
   ],
   "source": [
    "job_task_sched.combineByKey(to_list, append, extend).map(\n",
    "    lambda x: (x[0], len(set(x[1][0])), len(x[1][1]))\n",
    ").collect()"
   ]
  }
 ],
 "metadata": {
  "interpreter": {
   "hash": "916dbcbb3f70747c44a77c7bcd40155683ae19c65e1c03b4aa3499c5328201f1"
  },
  "kernelspec": {
   "display_name": "Python 3.8.10 64-bit",
   "name": "python3"
  },
  "language_info": {
   "codemirror_mode": {
    "name": "ipython",
    "version": 3
   },
   "file_extension": ".py",
   "mimetype": "text/x-python",
   "name": "python",
   "nbconvert_exporter": "python",
   "pygments_lexer": "ipython3",
   "version": "3.8.10"
  },
  "orig_nbformat": 4
 },
 "nbformat": 4,
 "nbformat_minor": 2
}
