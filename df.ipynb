{
 "cells": [
  {
   "cell_type": "code",
   "execution_count": 2,
   "metadata": {},
   "outputs": [
    {
     "name": "stdout",
     "output_type": "stream",
     "text": [
      "Will download at most 1 file(s) from task_events.\n",
      "Polling bucket gs://clusterdata-2011-2/task_events\n",
      "Dowloading [/part-00000-of-00500.csv.gz]\n",
      "Successfully downloaded table [task_events] (1/500).\n",
      "Will download at most 1 file(s) from task_constraints.\n",
      "Polling bucket gs://clusterdata-2011-2/task_constraints\n",
      "Dowloading [/part-00000-of-00500.csv.gz]\n",
      "Successfully downloaded table [task_constraints] (1/500).\n"
     ]
    }
   ],
   "source": [
    "from lib import create_dataframe\n",
    "\n",
    "sample = 1.0\n",
    "te = create_dataframe('task_events', 1, sample=sample)\n",
    "tc = create_dataframe('task_constraints', 1, sample=sample)"
   ]
  },
  {
   "cell_type": "code",
   "execution_count": 3,
   "metadata": {},
   "outputs": [
    {
     "name": "stderr",
     "output_type": "stream",
     "text": [
      "                                                                                \r"
     ]
    },
    {
     "data": {
      "text/plain": [
       "[Row(job_id='3418309', task_index='0', time_start_pending=0.0),\n",
       " Row(job_id='3418309', task_index='1', time_start_pending=0.0),\n",
       " Row(job_id='3418314', task_index='0', time_start_pending=0.0),\n",
       " Row(job_id='3418314', task_index='1', time_start_pending=0.0),\n",
       " Row(job_id='3418319', task_index='0', time_start_pending=0.0)]"
      ]
     },
     "execution_count": 3,
     "metadata": {},
     "output_type": "execute_result"
    }
   ],
   "source": [
    "from pyspark.sql import functions as F\n",
    "\n",
    "# Select the first timestamp at which all processes enter in PENDING state\n",
    "# Only the first wait period in this state interests us\n",
    "submit_status = te.select(te.job_id, te.task_index, te.event_type, te.time.cast('double'))\\\n",
    "    .filter(te.event_type == '0').drop(te.event_type)\\\n",
    "    .withColumnRenamed('time', 'time_start_pending')\n",
    "\n",
    "submit_status.take(5)"
   ]
  },
  {
   "cell_type": "code",
   "execution_count": 4,
   "metadata": {},
   "outputs": [
    {
     "name": "stderr",
     "output_type": "stream",
     "text": [
      "                                                                                \r"
     ]
    },
    {
     "data": {
      "text/plain": [
       "[Row(job_id='17109330', task_index='90', time_start_pending=0.0),\n",
       " Row(job_id='17109330', task_index='162', time_start_pending=0.0),\n",
       " Row(job_id='192299653', task_index='35', time_start_pending=0.0),\n",
       " Row(job_id='192299653', task_index='272', time_start_pending=0.0),\n",
       " Row(job_id='515042969', task_index='19', time_start_pending=0.0)]"
      ]
     },
     "execution_count": 4,
     "metadata": {},
     "output_type": "execute_result"
    }
   ],
   "source": [
    "inpending = submit_status.groupBy(['job_id', 'task_index']).min('time_start_pending')\n",
    "inpending = inpending.withColumnRenamed('min(time_start_pending)','time_start_pending')\n",
    "inpending.take(5)"
   ]
  },
  {
   "cell_type": "code",
   "execution_count": 5,
   "metadata": {},
   "outputs": [
    {
     "name": "stderr",
     "output_type": "stream",
     "text": [
      "                                                                                \r"
     ]
    },
    {
     "data": {
      "text/plain": [
       "[Row(job_id='3418309', task_index='0', time_end_pending=0.0),\n",
       " Row(job_id='3418309', task_index='1', time_end_pending=0.0),\n",
       " Row(job_id='3418314', task_index='0', time_end_pending=0.0),\n",
       " Row(job_id='3418314', task_index='1', time_end_pending=0.0),\n",
       " Row(job_id='3418319', task_index='0', time_end_pending=0.0)]"
      ]
     },
     "execution_count": 5,
     "metadata": {},
     "output_type": "execute_result"
    }
   ],
   "source": [
    "# Select the first timestamp at which all processes exit the PENDING state\n",
    "outpending_status = te.select(te.job_id, te.task_index, te.event_type, te.time.cast('double'))\\\n",
    "    .filter(te.event_type.isin(['1', '3', '5', '6'])).drop(te.event_type)\\\n",
    "    .withColumnRenamed('time', 'time_end_pending')\n",
    "outpending_status.take(5)"
   ]
  },
  {
   "cell_type": "code",
   "execution_count": 6,
   "metadata": {},
   "outputs": [
    {
     "name": "stderr",
     "output_type": "stream",
     "text": [
      "                                                                                \r"
     ]
    },
    {
     "data": {
      "text/plain": [
       "[Row(job_id='17109330', task_index='90', time_end_pending=0.0),\n",
       " Row(job_id='17109330', task_index='162', time_end_pending=0.0),\n",
       " Row(job_id='192299653', task_index='35', time_end_pending=0.0),\n",
       " Row(job_id='192299653', task_index='272', time_end_pending=0.0),\n",
       " Row(job_id='515042969', task_index='19', time_end_pending=0.0)]"
      ]
     },
     "execution_count": 6,
     "metadata": {},
     "output_type": "execute_result"
    }
   ],
   "source": [
    "outpending = outpending_status.groupBy(['job_id', 'task_index']).min('time_end_pending')\n",
    "outpending = outpending.withColumnRenamed('min(time_end_pending)','time_end_pending')\n",
    "\n",
    "outpending.take(5)"
   ]
  },
  {
   "cell_type": "code",
   "execution_count": 7,
   "metadata": {},
   "outputs": [],
   "source": [
    "# Join both sanitized dataframes together on job id and task id\n",
    "fullpending = inpending.join(outpending, ['job_id', 'task_index'])\n"
   ]
  },
  {
   "cell_type": "code",
   "execution_count": 8,
   "metadata": {},
   "outputs": [],
   "source": [
    "# Compute the delta for each occurence (time spent in pending state computed from both time_start_pending and time_end_pending)\n",
    "fullpending_with_delta = fullpending.withColumn(\n",
    "    'delta_time', F.col('time_end_pending') - F.col('time_start_pending')\n",
    ")\n",
    "fullpending_with_delta = fullpending_with_delta.select('job_id', 'delta_time')"
   ]
  },
  {
   "cell_type": "code",
   "execution_count": 9,
   "metadata": {},
   "outputs": [
    {
     "name": "stderr",
     "output_type": "stream",
     "text": [
      "                                                                                \r"
     ]
    },
    {
     "data": {
      "text/plain": [
       "[Row(job_id='5007846463', avg(delta_time)=0.0),\n",
       " Row(job_id='6252092106', avg(delta_time)=1504793.0),\n",
       " Row(job_id='6127575571', avg(delta_time)=0.0),\n",
       " Row(job_id='5943138316', avg(delta_time)=0.0),\n",
       " Row(job_id='5556388735', avg(delta_time)=0.0)]"
      ]
     },
     "execution_count": 9,
     "metadata": {},
     "output_type": "execute_result"
    }
   ],
   "source": [
    "# Compute the mean delta time for each job\n",
    "fullpending_with_delta = fullpending_with_delta.groupBy('job_id').mean('delta_time')\n",
    "fullpending_with_delta.take(5)\n"
   ]
  },
  {
   "cell_type": "code",
   "execution_count": 10,
   "metadata": {},
   "outputs": [
    {
     "name": "stderr",
     "output_type": "stream",
     "text": [
      "                                                                                \r"
     ]
    },
    {
     "data": {
      "text/plain": [
       "[Row(job_id='5007846463', avg(count)=3.0166666666666666),\n",
       " Row(job_id='6127575571', avg(count)=2.0),\n",
       " Row(job_id='5556388735', avg(count)=4.0),\n",
       " Row(job_id='6251625600', avg(count)=3.0),\n",
       " Row(job_id='6127571338', avg(count)=2.0)]"
      ]
     },
     "execution_count": 10,
     "metadata": {},
     "output_type": "execute_result"
    }
   ],
   "source": [
    "cons_jt = tc.select(tc.job_id, tc.task_index)\n",
    "cons_jt = cons_jt.groupBy(cons_jt.job_id, cons_jt.task_index).count()\n",
    "cons_jt = cons_jt.drop('task_index').groupBy('job_id').mean('count')\n",
    "cons_jt = cons_jt.filter(cons_jt['avg(count)'] < 50)\n",
    "\n",
    "cons_jt.take(5)"
   ]
  },
  {
   "cell_type": "code",
   "execution_count": 11,
   "metadata": {},
   "outputs": [
    {
     "name": "stderr",
     "output_type": "stream",
     "text": [
      "                                                                                \r"
     ]
    },
    {
     "data": {
      "text/plain": [
       "<AxesSubplot:xlabel='avg(count)', ylabel='avg(delta_time)'>"
      ]
     },
     "execution_count": 11,
     "metadata": {},
     "output_type": "execute_result"
    },
    {
     "data": {
      "image/png": "[encoded data removed]",
      "text/plain": [
       "<Figure size 432x288 with 1 Axes>"
      ]
     },
     "metadata": {
      "needs_background": "light"
     },
     "output_type": "display_data"
    }
   ],
   "source": [
    "import seaborn as sns\n",
    "# Join the number of constraints with the delta time dataframe\n",
    "full_df = fullpending_with_delta.join(cons_jt, on='job_id')\n",
    "\n",
    "data = full_df.select('avg(delta_time)', 'avg(count)').toPandas()\n",
    "\n",
    "\n",
    "sns.scatterplot(data=data, x='avg(count)', y=\"avg(delta_time)\")\n"
   ]
  }
 ],
 "metadata": {
  "interpreter": {
   "hash": "916dbcbb3f70747c44a77c7bcd40155683ae19c65e1c03b4aa3499c5328201f1"
  },
  "kernelspec": {
   "display_name": "Python 3.8.10 64-bit",
   "language": "python",
   "name": "python3"
  },
  "language_info": {
   "codemirror_mode": {
    "name": "ipython",
    "version": 3
   },
   "file_extension": ".py",
   "mimetype": "text/x-python",
   "name": "python",
   "nbconvert_exporter": "python",
   "pygments_lexer": "ipython3",
   "version": "3.8.10"
  },
  "orig_nbformat": 4
 },
 "nbformat": 4,
 "nbformat_minor": 2
}
