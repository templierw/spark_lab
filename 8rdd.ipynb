{
 "cells": [
  {
   "cell_type": "code",
   "execution_count": 1,
   "metadata": {},
   "outputs": [],
   "source": [
    "# Libraries for Visualization\n",
    "import seaborn as sns\n",
    "import matplotlib.pyplot as plt\n",
    "colors = sns.color_palette('viridis')\n",
    "\n",
    "# Parameters for the visualizations\n",
    "plt.rcParams['figure.figsize'] = [12, 8]\n",
    "plt.rcParams['figure.dpi'] = 100\n",
    "\n",
    "# For easy computation over certain datasets\n",
    "import numpy as np\n",
    "np.set_printoptions(suppress=True)\n",
    "\n",
    "# Pyspark utilities\n",
    "from pyspark.sql import SparkSession\n",
    "from pyspark.sql.window import Window\n",
    "import pyspark.sql.functions as F\n",
    "\n",
    "# Execution mode:\n",
    "# Cluster = -1\n",
    "# Local >= 1 (i.e., number of files to load)\n",
    "\n",
    "EXEC_MODE = 1\n",
    "cloud = False\n",
    "\n",
    "# TODO\n",
    "from lib import *\n",
    "\n",
    "# start spark with 1 worker thread\n",
    "sc = init()\n",
    "sc.setLogLevel(\"ERROR\")\n",
    "\n",
    "# Start SparkSession to use DataFrames\n",
    "spark = SparkSession(sc)"
   ]
  },
  {
   "cell_type": "code",
   "execution_count": 2,
   "metadata": {},
   "outputs": [],
   "source": [
    "# Same as above, load a part of the table in memory and use it.\n",
    "task_events = Table('task_events', sc, EXEC_MODE, cloud)"
   ]
  },
  {
   "cell_type": "code",
   "execution_count": 7,
   "metadata": {},
   "outputs": [
    {
     "data": {
      "text/html": [
       "<div>\n",
       "<style scoped>\n",
       "    .dataframe tbody tr th:only-of-type {\n",
       "        vertical-align: middle;\n",
       "    }\n",
       "\n",
       "    .dataframe tbody tr th {\n",
       "        vertical-align: top;\n",
       "    }\n",
       "\n",
       "    .dataframe thead th {\n",
       "        text-align: right;\n",
       "    }\n",
       "</style>\n",
       "<table border=\"1\" class=\"dataframe\">\n",
       "  <thead>\n",
       "    <tr style=\"text-align: right;\">\n",
       "      <th></th>\n",
       "      <th>time</th>\n",
       "      <th>missing_info</th>\n",
       "      <th>job_id</th>\n",
       "      <th>task_index</th>\n",
       "      <th>machine_id</th>\n",
       "      <th>event_type</th>\n",
       "      <th>user</th>\n",
       "      <th>scheduling_class</th>\n",
       "      <th>priority</th>\n",
       "      <th>cpu_request</th>\n",
       "      <th>memory_request</th>\n",
       "      <th>disk_space_request</th>\n",
       "      <th>different_machines_restriction</th>\n",
       "    </tr>\n",
       "  </thead>\n",
       "  <tbody>\n",
       "    <tr>\n",
       "      <th>0</th>\n",
       "      <td>5611824441</td>\n",
       "      <td>NA</td>\n",
       "      <td>6251812952</td>\n",
       "      <td>1761</td>\n",
       "      <td>1306108</td>\n",
       "      <td>4</td>\n",
       "      <td>fJYeclskJqPWsAT6TX/r9X5OiIZpSEb2PBGliYAOMxM=</td>\n",
       "      <td>0</td>\n",
       "      <td>2</td>\n",
       "      <td>0.02499</td>\n",
       "      <td>0.07959</td>\n",
       "      <td>0.0003862</td>\n",
       "      <td>1</td>\n",
       "    </tr>\n",
       "    <tr>\n",
       "      <th>1</th>\n",
       "      <td>5611824625</td>\n",
       "      <td>NA</td>\n",
       "      <td>6251974185</td>\n",
       "      <td>252</td>\n",
       "      <td>38676295</td>\n",
       "      <td>4</td>\n",
       "      <td>fJYeclskJqPWsAT6TX/r9X5OiIZpSEb2PBGliYAOMxM=</td>\n",
       "      <td>0</td>\n",
       "      <td>2</td>\n",
       "      <td>0.02499</td>\n",
       "      <td>0.03339</td>\n",
       "      <td>0.0003862</td>\n",
       "      <td>1</td>\n",
       "    </tr>\n",
       "  </tbody>\n",
       "</table>\n",
       "</div>"
      ],
      "text/plain": [
       "         time missing_info      job_id task_index machine_id event_type  \\\n",
       "0  5611824441           NA  6251812952       1761    1306108          4   \n",
       "1  5611824625           NA  6251974185        252   38676295          4   \n",
       "\n",
       "                                           user scheduling_class priority  \\\n",
       "0  fJYeclskJqPWsAT6TX/r9X5OiIZpSEb2PBGliYAOMxM=                0        2   \n",
       "1  fJYeclskJqPWsAT6TX/r9X5OiIZpSEb2PBGliYAOMxM=                0        2   \n",
       "\n",
       "  cpu_request memory_request disk_space_request different_machines_restriction  \n",
       "0     0.02499        0.07959          0.0003862                              1  \n",
       "1     0.02499        0.03339          0.0003862                              1  "
      ]
     },
     "execution_count": 7,
     "metadata": {},
     "output_type": "execute_result"
    }
   ],
   "source": [
    "task_events.pprint(2)"
   ]
  },
  {
   "cell_type": "code",
   "execution_count": 3,
   "metadata": {},
   "outputs": [],
   "source": [
    "task_usage = Table('task_usage', sc, EXEC_MODE, cloud)"
   ]
  },
  {
   "cell_type": "code",
   "execution_count": 6,
   "metadata": {},
   "outputs": [
    {
     "data": {
      "text/plain": [
       "[('6114773114', 0.0),\n",
       " ('6252020538', 2679777.22),\n",
       " ('6252024742', 838941.182),\n",
       " ('6251501988', 1414804.0),\n",
       " ('6252025974', 1649972.0),\n",
       " ('6252026716', 2163724.0),\n",
       " ('6252027974', 2179157.667),\n",
       " ('6176858948', 0.0),\n",
       " ('6252031834', 810525.5),\n",
       " ('4028922835', 0.0)]"
      ]
     },
     "execution_count": 6,
     "metadata": {},
     "output_type": "execute_result"
    }
   ],
   "source": [
    "# Select first SUBMIT transition for each job & task\n",
    "submit_status = task_events.select(['job_id', 'task_index', 'event_type', 'time'])\\\n",
    "    .filter(lambda x: x[2] in ['0'])\\\n",
    "    .map(lambda x: (x[0]+', '+x[1], float(x[3])))\n",
    "\n",
    "rdd_submit = submit_status.reduceByKey(min)\n",
    "\n",
    "# Select first OUT transition for each job & task\n",
    "outpending_status = task_events.select(['job_id', 'task_index', 'event_type', 'time'])\\\n",
    "    .filter(lambda x: x[2] in ['1', '3', '5', '6'])\\\n",
    "    .map(lambda x: (x[0]+', '+x[1], float(x[3])))\n",
    "\n",
    "rdd_out = outpending_status.reduceByKey(min)\n",
    "\n",
    "# Join everything and compute delta time for each job & task\n",
    "rdd_deltatimes = rdd_submit.join(rdd_out).map(lambda x: (x[0].split(', ')[0], x[1][1] - x[1][0]))\n",
    "\n",
    "# Average of the delta times for each job\n",
    "rdd_deltatimes = rdd_deltatimes.groupByKey().mapValues(lambda x: round(sum(x)/len(x), 3))\n",
    "\n",
    "rdd_deltatimes.take(10)"
   ]
  },
  {
   "cell_type": "code",
   "execution_count": 7,
   "metadata": {},
   "outputs": [],
   "source": [
    "# Load the task_constraints table\n",
    "task_constraints = Table('task_constraints', sc, EXEC_MODE, cloud)"
   ]
  },
  {
   "cell_type": "code",
   "execution_count": 8,
   "metadata": {},
   "outputs": [
    {
     "data": {
      "text/plain": [
       "[('6231386586', 91),\n",
       " ('4923128384', 130),\n",
       " ('6124898063', 84),\n",
       " ('6238340468', 9222),\n",
       " ('515042969', 89610)]"
      ]
     },
     "execution_count": 8,
     "metadata": {},
     "output_type": "execute_result"
    }
   ],
   "source": [
    "# Selects each occurence of constraint registered for each process\n",
    "task_constraints_per_job = task_constraints.select(['job_id'])\\\n",
    "    .map(lambda x: (x[0],1))\\\n",
    "    .reduceByKey(lambda a,b: a+b)\n",
    "task_constraints_per_job.take(5)\n"
   ]
  },
  {
   "cell_type": "code",
   "execution_count": 9,
   "metadata": {},
   "outputs": [
    {
     "data": {
      "text/plain": [
       "[('6252131400', (1565666.0, 3)),\n",
       " ('6252169000', (1383446.0, 3)),\n",
       " ('6252205299', (1519569.0, 3)),\n",
       " ('6252169178', (1494732.0, 2)),\n",
       " ('6252244787', (3425247.0, 3))]"
      ]
     },
     "execution_count": 9,
     "metadata": {},
     "output_type": "execute_result"
    }
   ],
   "source": [
    "# Join the delta time and the number of constraints in one RDD\n",
    "rdd_delta_constraints = rdd_deltatimes.join(task_constraints_per_job).filter(lambda x: x[1][1] < 50)\n",
    "rdd_delta_constraints.take(5)\n"
   ]
  },
  {
   "cell_type": "code",
   "execution_count": 10,
   "metadata": {},
   "outputs": [
    {
     "data": {
      "text/plain": [
       "Text(0.5, 1.0, 'Time spent on PENDING state depending on the number of constraints')"
      ]
     },
     "execution_count": 10,
     "metadata": {},
     "output_type": "execute_result"
    },
    {
     "data": {
      "image/png": "[encoded data removed]",
      "text/plain": [
       "<Figure size 1200x800 with 1 Axes>"
      ]
     },
     "metadata": {
      "needs_background": "light"
     },
     "output_type": "display_data"
    }
   ],
   "source": [
    "# Create the list of values from the last RDD\n",
    "rdd_to_map = rdd_delta_constraints.collectAsMap()\n",
    "deltatimes = [v[0] for v in rdd_to_map.values()]\n",
    "constraints = [v[1] for v in rdd_to_map.values()]\n",
    "\n",
    "# And then pass it to seaborn to create a barplot to have a global view\n",
    "g = sns.scatterplot(x=constraints, y=deltatimes)\n",
    "\n",
    "g.set_xlabel(\"Number of constraints\")\n",
    "g.set_ylabel(\"Delta time\")\n",
    "\n",
    "g.set_title(\"Time spent on PENDING state depending on the number of constraints\")"
   ]
  },
  {
   "cell_type": "code",
   "execution_count": null,
   "metadata": {},
   "outputs": [],
   "source": []
  }
 ],
 "metadata": {
  "interpreter": {
   "hash": "e7370f93d1d0cde622a1f8e1c04877d8463912d04d973331ad4851f04de6915a"
  },
  "kernelspec": {
   "display_name": "Python 3.8.10 64-bit",
   "language": "python",
   "name": "python3"
  },
  "language_info": {
   "codemirror_mode": {
    "name": "ipython",
    "version": 3
   },
   "file_extension": ".py",
   "mimetype": "text/x-python",
   "name": "python",
   "nbconvert_exporter": "python",
   "pygments_lexer": "ipython3",
   "version": "3.8.10"
  },
  "orig_nbformat": 4
 },
 "nbformat": 4,
 "nbformat_minor": 2
}
