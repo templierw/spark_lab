{
 "cells": [
  {
   "cell_type": "code",
   "execution_count": 1,
   "metadata": {},
   "outputs": [
    {
     "name": "stderr",
     "output_type": "stream",
     "text": [
      "22/01/10 12:38:25 WARN Utils: Your hostname, pasokon resolves to a loopback address: 127.0.1.1; using 192.168.1.96 instead (on interface wlo1)\n",
      "22/01/10 12:38:25 WARN Utils: Set SPARK_LOCAL_IP if you need to bind to another address\n",
      "WARNING: An illegal reflective access operation has occurred\n",
      "WARNING: Illegal reflective access by org.apache.spark.unsafe.Platform (file:/home/william/.local/lib/python3.8/site-packages/pyspark/jars/spark-unsafe_2.12-3.1.2.jar) to constructor java.nio.DirectByteBuffer(long,int)\n",
      "WARNING: Please consider reporting this to the maintainers of org.apache.spark.unsafe.Platform\n",
      "WARNING: Use --illegal-access=warn to enable warnings of further illegal reflective access operations\n",
      "WARNING: All illegal access operations will be denied in a future release\n",
      "22/01/10 12:38:26 WARN NativeCodeLoader: Unable to load native-hadoop library for your platform... using builtin-java classes where applicable\n",
      "Using Spark's default log4j profile: org/apache/spark/log4j-defaults.properties\n",
      "Setting default log level to \"WARN\".\n",
      "To adjust logging level use sc.setLogLevel(newLevel). For SparkR, use setLogLevel(newLevel).\n",
      "22/01/10 12:38:28 WARN Utils: Service 'SparkUI' could not bind on port 4040. Attempting port 4041.\n"
     ]
    }
   ],
   "source": [
    "# Libraries for Visualization\n",
    "import seaborn as sns\n",
    "import matplotlib.pyplot as plt\n",
    "colors = sns.color_palette('viridis')\n",
    "\n",
    "# Parameters for the visualizations\n",
    "plt.rcParams['figure.figsize'] = [12, 8]\n",
    "plt.rcParams['figure.dpi'] = 100\n",
    "\n",
    "# For easy computation over certain datasets\n",
    "import numpy as np\n",
    "np.set_printoptions(suppress=True)\n",
    "\n",
    "# Pyspark utilities\n",
    "from pyspark.sql import SparkSession\n",
    "from pyspark.sql.window import Window\n",
    "from pyspark.sql.functions import rank, col\n",
    "\n",
    "# Execution mode:\n",
    "# Cluster = -1\n",
    "# Local >= 1 (i.e., number of files to load)\n",
    "\n",
    "EXEC_MODE = 2\n",
    "cloud = False\n",
    "\n",
    "# TODO\n",
    "from lib import *\n",
    "\n",
    "# start spark with 1 worker thread\n",
    "sc = init()\n",
    "sc.setLogLevel(\"ERROR\")\n",
    "\n",
    "# Start SparkSession to use DataFrames\n",
    "spark = SparkSession(sc)"
   ]
  },
  {
   "cell_type": "code",
   "execution_count": 2,
   "metadata": {},
   "outputs": [],
   "source": [
    "# Same as above, load a part of the table in memory and use it.\n",
    "task_events = Table('task_events', sc, EXEC_MODE, cloud)"
   ]
  },
  {
   "cell_type": "code",
   "execution_count": 3,
   "metadata": {},
   "outputs": [
    {
     "name": "stderr",
     "output_type": "stream",
     "text": [
      "                                                                                \r"
     ]
    },
    {
     "data": {
      "text/html": [
       "<div>\n",
       "<style scoped>\n",
       "    .dataframe tbody tr th:only-of-type {\n",
       "        vertical-align: middle;\n",
       "    }\n",
       "\n",
       "    .dataframe tbody tr th {\n",
       "        vertical-align: top;\n",
       "    }\n",
       "\n",
       "    .dataframe thead th {\n",
       "        text-align: right;\n",
       "    }\n",
       "</style>\n",
       "<table border=\"1\" class=\"dataframe\">\n",
       "  <thead>\n",
       "    <tr style=\"text-align: right;\">\n",
       "      <th></th>\n",
       "      <th>time</th>\n",
       "      <th>missing_info</th>\n",
       "      <th>job_id</th>\n",
       "      <th>task_index</th>\n",
       "      <th>machine_id</th>\n",
       "      <th>event_type</th>\n",
       "      <th>user</th>\n",
       "      <th>scheduling_class</th>\n",
       "      <th>priority</th>\n",
       "      <th>cpu_request</th>\n",
       "      <th>memory_request</th>\n",
       "      <th>disk_space_request</th>\n",
       "      <th>different_machines_restriction</th>\n",
       "    </tr>\n",
       "  </thead>\n",
       "  <tbody>\n",
       "    <tr>\n",
       "      <th>0</th>\n",
       "      <td>5611824441</td>\n",
       "      <td>NA</td>\n",
       "      <td>6251812952</td>\n",
       "      <td>1761</td>\n",
       "      <td>1306108</td>\n",
       "      <td>4</td>\n",
       "      <td>fJYeclskJqPWsAT6TX/r9X5OiIZpSEb2PBGliYAOMxM=</td>\n",
       "      <td>0</td>\n",
       "      <td>2</td>\n",
       "      <td>0.02499</td>\n",
       "      <td>0.07959</td>\n",
       "      <td>0.0003862</td>\n",
       "      <td>1</td>\n",
       "    </tr>\n",
       "    <tr>\n",
       "      <th>1</th>\n",
       "      <td>5611824625</td>\n",
       "      <td>NA</td>\n",
       "      <td>6251974185</td>\n",
       "      <td>252</td>\n",
       "      <td>38676295</td>\n",
       "      <td>4</td>\n",
       "      <td>fJYeclskJqPWsAT6TX/r9X5OiIZpSEb2PBGliYAOMxM=</td>\n",
       "      <td>0</td>\n",
       "      <td>2</td>\n",
       "      <td>0.02499</td>\n",
       "      <td>0.03339</td>\n",
       "      <td>0.0003862</td>\n",
       "      <td>1</td>\n",
       "    </tr>\n",
       "  </tbody>\n",
       "</table>\n",
       "</div>"
      ],
      "text/plain": [
       "         time missing_info      job_id task_index machine_id event_type  \\\n",
       "0  5611824441           NA  6251812952       1761    1306108          4   \n",
       "1  5611824625           NA  6251974185        252   38676295          4   \n",
       "\n",
       "                                           user scheduling_class priority  \\\n",
       "0  fJYeclskJqPWsAT6TX/r9X5OiIZpSEb2PBGliYAOMxM=                0        2   \n",
       "1  fJYeclskJqPWsAT6TX/r9X5OiIZpSEb2PBGliYAOMxM=                0        2   \n",
       "\n",
       "  cpu_request memory_request disk_space_request different_machines_restriction  \n",
       "0     0.02499        0.07959          0.0003862                              1  \n",
       "1     0.02499        0.03339          0.0003862                              1  "
      ]
     },
     "execution_count": 3,
     "metadata": {},
     "output_type": "execute_result"
    }
   ],
   "source": [
    "task_events.pprint(2)"
   ]
  },
  {
   "cell_type": "code",
   "execution_count": 4,
   "metadata": {},
   "outputs": [],
   "source": [
    "task_usage = Table('task_usage', sc, EXEC_MODE, cloud)"
   ]
  },
  {
   "cell_type": "code",
   "execution_count": 5,
   "metadata": {},
   "outputs": [
    {
     "name": "stderr",
     "output_type": "stream",
     "text": [
      "                                                                                \r"
     ]
    },
    {
     "data": {
      "text/plain": [
       "[('6231386586', 1517717143.786),\n",
       " ('6124898063', 2395664405.97),\n",
       " ('6238340468', 1122374427.12),\n",
       " ('515042969', 5679343858.806),\n",
       " ('6183750753', 1668588991.359)]"
      ]
     },
     "execution_count": 5,
     "metadata": {},
     "output_type": "execute_result"
    }
   ],
   "source": [
    "# Select first SUBMIT transition for each job\n",
    "submit_status = task_events.select(['job_id','event_type', 'time'])\\\n",
    "    .filter(lambda x: x[1] in ['0'])\\\n",
    "    .map(lambda x: (x[0], float(x[2])))\n",
    "\n",
    "rdd_submit = submit_status.groupByKey().mapValues(lambda x: round(sum(x)/len(x), 3))\n",
    "rdd_submit.take(5)"
   ]
  },
  {
   "cell_type": "code",
   "execution_count": 6,
   "metadata": {},
   "outputs": [
    {
     "name": "stderr",
     "output_type": "stream",
     "text": [
      "                                                                                \r"
     ]
    },
    {
     "data": {
      "text/plain": [
       "[('6252020264', 5635042963.758),\n",
       " ('6231386586', 2362823670.556),\n",
       " ('4923128384', 659387666.745),\n",
       " ('5285926325', 5511499470.333),\n",
       " ('6124898063', 3101367995.804)]"
      ]
     },
     "execution_count": 6,
     "metadata": {},
     "output_type": "execute_result"
    }
   ],
   "source": [
    "# Select first SUBMIT transition for each job\n",
    "outpending_status = task_events.select(['job_id','event_type', 'time'])\\\n",
    "    .filter(lambda x: x[1] in ['1', '3', '5', '6'])\\\n",
    "    .map(lambda x: (x[0], float(x[2])))\n",
    "\n",
    "rdd_out = outpending_status.groupByKey().mapValues(lambda x: round(sum(x)/len(x), 3))\n",
    "rdd_out.take(5)"
   ]
  },
  {
   "cell_type": "code",
   "execution_count": 7,
   "metadata": {},
   "outputs": [
    {
     "data": {
      "text/plain": [
       "[('6231386586', 845106526.7700002),\n",
       " ('6124898063', 705703589.8340001),\n",
       " ('6238340468', 4970263.68900013),\n",
       " ('515042969', 8406782.13199997),\n",
       " ('6183750753', 833950.9440000057),\n",
       " ('5664371117', 115256482.102),\n",
       " ('515042954', 904311465.6619997),\n",
       " ('5921809619', 18412181.374000013),\n",
       " ('5390365067', 328432201.199),\n",
       " ('6252020538', 2679777.220000267)]"
      ]
     },
     "execution_count": 7,
     "metadata": {},
     "output_type": "execute_result"
    }
   ],
   "source": [
    "rdd_deltatimes = rdd_submit.join(rdd_out).map(lambda x: (x[0], x[1][1] - x[1][0]))\n",
    "\n",
    "rdd_deltatimes.take(10)"
   ]
  },
  {
   "cell_type": "code",
   "execution_count": 8,
   "metadata": {},
   "outputs": [
    {
     "name": "stderr",
     "output_type": "stream",
     "text": [
      "                                                                                \r"
     ]
    },
    {
     "data": {
      "text/plain": [
       "[('6238340468', (4970263.68900013, 3)),\n",
       " ('5390365067', (328432201.199, 1)),\n",
       " ('6235196851', (414929.4240000248, 1)),\n",
       " ('6252034167', (1452349.0, 3)),\n",
       " ('6252038211', (1632035.0, 3)),\n",
       " ('6238839290', (79195469.67999999, 4)),\n",
       " ('6238842343', (135051174.28100002, 4)),\n",
       " ('6252068151', (1577589.0, 3)),\n",
       " ('6252075071', (1782396.0, 3)),\n",
       " ('6127571078', (1109257425.8330002, 5)),\n",
       " ('6252079298', (1484382.0, 3)),\n",
       " ('6252081145', (1311546.0, 3)),\n",
       " ('6252081366', (1809928.0, 3)),\n",
       " ('6127648867', (1061517141.0999999, 3)),\n",
       " ('6252111965', (1542855.0, 3)),\n",
       " ('6252131400', (1565666.0, 3)),\n",
       " ('2308130196', (1413083922.6669998, 10)),\n",
       " ('6252138337', (1491037.0, 3)),\n",
       " ('6252168502', (1721389.0, 6)),\n",
       " ('6252168402', (2051520.0, 3))]"
      ]
     },
     "execution_count": 8,
     "metadata": {},
     "output_type": "execute_result"
    }
   ],
   "source": [
    "# Load the task_constraints table\n",
    "task_constraints = Table('task_constraints', sc, EXEC_MODE, cloud)\n",
    "\n",
    "# Selects each occurence of constraint registered for each process\n",
    "task_constraints_per_jobtask = task_constraints.select(['job_id', 'task_index', 'time']).map(lambda x: ((x[0],x[1]), x[2]))\n",
    "\n",
    "# Counts the total number of constraints for each process\n",
    "rdd_number_task_constraints_per_jobtask = task_constraints_per_jobtask.combineByKey(count_init, count_merge, count_cmb).map(lambda x: ((x[0][0]), x[1][0]))\n",
    "\n",
    "# Do the average of nb_constraints for each job\n",
    "avg_init = (0, 0)\n",
    "rdd_number_task_constraints_per_job_avg_stage1 = rdd_number_task_constraints_per_jobtask\\\n",
    "    .aggregateByKey(avg_init, lambda a,b: (a[0] + b, a[1] + 1), lambda a,b: (a[0] + b[0], a[1] + b[1]))\n",
    "rdd_number_task_constraints_per_job_avg = rdd_number_task_constraints_per_job_avg_stage1.mapValues(lambda v: int(v[0]/v[1]))\n",
    "\n",
    "# Join the delta time and the number of constraints in one RDD\n",
    "rdd_delta_constraints = rdd_deltatimes.join(rdd_number_task_constraints_per_job_avg).filter(lambda x: x[1][1] < 50)\n"
   ]
  },
  {
   "cell_type": "code",
   "execution_count": 9,
   "metadata": {},
   "outputs": [
    {
     "data": {
      "text/plain": [
       "Text(0.5, 1.0, 'Time spent on PENDING state depending on the number of constraints')"
      ]
     },
     "execution_count": 9,
     "metadata": {},
     "output_type": "execute_result"
    },
    {
     "data": {
      "image/png": "[encoded data removed]",
      "text/plain": [
       "<Figure size 1200x800 with 1 Axes>"
      ]
     },
     "metadata": {
      "needs_background": "light"
     },
     "output_type": "display_data"
    }
   ],
   "source": [
    "# Create the list of values from the last RDD\n",
    "rdd_to_map = rdd_delta_constraints.collectAsMap()\n",
    "deltatimes = [v[0] for v in rdd_to_map.values()]\n",
    "constraints = [v[1] for v in rdd_to_map.values()]\n",
    "\n",
    "# And then pass it to seaborn to create a barplot to have a global view\n",
    "g = sns.scatterplot(x=constraints, y=deltatimes)\n",
    "\n",
    "g.set_xlabel(\"Number of constraints\")\n",
    "g.set_ylabel(\"Delta time\")\n",
    "\n",
    "g.set_title(\"Time spent on PENDING state depending on the number of constraints\")"
   ]
  },
  {
   "cell_type": "code",
   "execution_count": null,
   "metadata": {},
   "outputs": [],
   "source": []
  }
 ],
 "metadata": {
  "interpreter": {
   "hash": "e7370f93d1d0cde622a1f8e1c04877d8463912d04d973331ad4851f04de6915a"
  },
  "kernelspec": {
   "display_name": "Python 3.8.10 64-bit",
   "language": "python",
   "name": "python3"
  },
  "language_info": {
   "codemirror_mode": {
    "name": "ipython",
    "version": 3
   },
   "file_extension": ".py",
   "mimetype": "text/x-python",
   "name": "python",
   "nbconvert_exporter": "python",
   "pygments_lexer": "ipython3",
   "version": "3.8.10"
  },
  "orig_nbformat": 4
 },
 "nbformat": 4,
 "nbformat_minor": 2
}
