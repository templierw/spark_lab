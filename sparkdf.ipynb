{
 "cells": [
  {
   "cell_type": "code",
   "execution_count": 1,
   "metadata": {},
   "outputs": [
    {
     "name": "stderr",
     "output_type": "stream",
     "text": [
      "21/11/23 09:00:01 WARN Utils: Your hostname, pasokon resolves to a loopback address: 127.0.1.1; using 192.168.1.96 instead (on interface wlo1)\n",
      "21/11/23 09:00:01 WARN Utils: Set SPARK_LOCAL_IP if you need to bind to another address\n",
      "WARNING: An illegal reflective access operation has occurred\n",
      "WARNING: Illegal reflective access by org.apache.spark.unsafe.Platform (file:/home/william/.local/lib/python3.8/site-packages/pyspark/jars/spark-unsafe_2.12-3.1.2.jar) to constructor java.nio.DirectByteBuffer(long,int)\n",
      "WARNING: Please consider reporting this to the maintainers of org.apache.spark.unsafe.Platform\n",
      "WARNING: Use --illegal-access=warn to enable warnings of further illegal reflective access operations\n",
      "WARNING: All illegal access operations will be denied in a future release\n",
      "21/11/23 09:00:02 WARN NativeCodeLoader: Unable to load native-hadoop library for your platform... using builtin-java classes where applicable\n",
      "Using Spark's default log4j profile: org/apache/spark/log4j-defaults.properties\n",
      "Setting default log level to \"WARN\".\n",
      "To adjust logging level use sc.setLogLevel(newLevel). For SparkR, use setLogLevel(newLevel).\n"
     ]
    }
   ],
   "source": [
    "from pyspark.sql import SparkSession\n",
    "from pyspark.sql.types import StructType, StringType\n",
    "import header as hdr\n",
    "\n",
    "import seaborn as sns\n",
    "\n",
    "spark = SparkSession.builder.master(\"local[*]\")\\\n",
    "        .appName(\"SparkByExamples.com\")\\\n",
    "        .getOrCreate()"
   ]
  },
  {
   "cell_type": "code",
   "execution_count": 2,
   "metadata": {},
   "outputs": [],
   "source": [
    "def get_dataframe(table_name):\n",
    "    header = hdr.get_table_header(table_name)\n",
    "    schema = StructType()\n",
    "\n",
    "    for h in header:\n",
    "        schema.add(h, StringType(), True)\n",
    "\n",
    "    return spark.read.option('delimiter', ',').format(\"csv\")\\\n",
    "            .schema(schema).load(f\"data/{table_name}.csv\").fillna('NA')"
   ]
  },
  {
   "cell_type": "code",
   "execution_count": 3,
   "metadata": {},
   "outputs": [
    {
     "name": "stdout",
     "output_type": "stream",
     "text": [
      "root\n",
      " |-- time: string (nullable = false)\n",
      " |-- machine_id: string (nullable = false)\n",
      " |-- event_type: string (nullable = false)\n",
      " |-- platform_id: string (nullable = false)\n",
      " |-- cpus: string (nullable = false)\n",
      " |-- memory: string (nullable = false)\n",
      "\n"
     ]
    }
   ],
   "source": [
    "df = get_dataframe('machine_events')\n",
    "df.printSchema()"
   ]
  },
  {
   "cell_type": "code",
   "execution_count": 4,
   "metadata": {},
   "outputs": [
    {
     "name": "stderr",
     "output_type": "stream",
     "text": []
    },
    {
     "name": "stdout",
     "output_type": "stream",
     "text": [
      "+----+-----+\n",
      "|cpus|count|\n",
      "+----+-----+\n",
      "|0.25|  510|\n",
      "|  NA|   32|\n",
      "| 0.5|35015|\n",
      "|   1| 2223|\n",
      "+----+-----+\n",
      "\n"
     ]
    }
   ],
   "source": [
    "df.groupBy('cpus').count().show()"
   ]
  },
  {
   "cell_type": "code",
   "execution_count": 5,
   "metadata": {},
   "outputs": [
    {
     "name": "stdout",
     "output_type": "stream",
     "text": [
      "root\n",
      " |-- time: string (nullable = false)\n",
      " |-- missing_info: string (nullable = false)\n",
      " |-- job_id: string (nullable = false)\n",
      " |-- task_index: string (nullable = false)\n",
      " |-- machine_id: string (nullable = false)\n",
      " |-- event_type: string (nullable = false)\n",
      " |-- user: string (nullable = false)\n",
      " |-- scheduling_class: string (nullable = false)\n",
      " |-- priority: string (nullable = false)\n",
      " |-- cpu_request: string (nullable = false)\n",
      " |-- memory_request: string (nullable = false)\n",
      " |-- disk_space_request: string (nullable = false)\n",
      " |-- different_machines_restriction: string (nullable = false)\n",
      "\n"
     ]
    }
   ],
   "source": [
    "task_events = get_dataframe('task_events')\n",
    "task_events.printSchema()"
   ]
  },
  {
   "cell_type": "code",
   "execution_count": 6,
   "metadata": {},
   "outputs": [
    {
     "name": "stderr",
     "output_type": "stream",
     "text": []
    },
    {
     "name": "stdout",
     "output_type": "stream",
     "text": [
      "+-----+------+---+-----+\n",
      "| mean|   std|min|  max|\n",
      "+-----+------+---+-----+\n",
      "|91.96|844.02|  1|46037|\n",
      "+-----+------+---+-----+\n",
      "\n"
     ]
    },
    {
     "name": "stderr",
     "output_type": "stream",
     "text": []
    }
   ],
   "source": [
    "import pyspark.sql.functions as F\n",
    "\n",
    "task_per_event = task_events.groupBy('job_id').count()\n",
    "task_per_event.select(\n",
    "    F.round(F.mean('count'),2).alias('mean'), F.round(F.stddev('count'), 2).alias('std'),\n",
    "    F.min('count').alias('min'), F.max('count').alias('max')\n",
    ").show()"
   ]
  },
  {
   "cell_type": "code",
   "execution_count": 7,
   "metadata": {},
   "outputs": [
    {
     "name": "stderr",
     "output_type": "stream",
     "text": []
    },
    {
     "name": "stdout",
     "output_type": "stream",
     "text": [
      "+----------------------+\n",
      "|count(DISTINCT job_id)|\n",
      "+----------------------+\n",
      "|                  4895|\n",
      "+----------------------+\n",
      "\n"
     ]
    },
    {
     "name": "stderr",
     "output_type": "stream",
     "text": []
    }
   ],
   "source": [
    "task_events.select(F.countDistinct(task_events.job_id)).show()"
   ]
  },
  {
   "cell_type": "markdown",
   "metadata": {},
   "source": [
    "## What is the distribution of the number jobs/tasks per scheduling class?"
   ]
  },
  {
   "cell_type": "code",
   "execution_count": 8,
   "metadata": {},
   "outputs": [
    {
     "name": "stderr",
     "output_type": "stream",
     "text": []
    },
    {
     "name": "stdout",
     "output_type": "stream",
     "text": [
      "+----------------+-------------+-----------------+\n",
      "|scheduling_class|count(job_id)|count(task_index)|\n",
      "+----------------+-------------+-----------------+\n",
      "|               0|          919|           237969|\n",
      "|               1|         1624|            58109|\n",
      "|               2|         1419|            97482|\n",
      "|               3|          933|            56586|\n",
      "+----------------+-------------+-----------------+\n",
      "\n"
     ]
    },
    {
     "name": "stderr",
     "output_type": "stream",
     "text": []
    }
   ],
   "source": [
    "jts = task_events.select(\n",
    "    task_events.scheduling_class, task_events.job_id, task_events.task_index\n",
    ")\n",
    "#jts.printSchema()\n",
    "jts.groupBy('scheduling_class').agg(F.countDistinct(jts.job_id), F.count(jts.task_index)).orderBy(jts.scheduling_class).show()"
   ]
  },
  {
   "cell_type": "markdown",
   "metadata": {},
   "source": [
    "### Do tasks with low priority have a higher probability of being evicted?"
   ]
  },
  {
   "cell_type": "markdown",
   "metadata": {},
   "source": [
    "P(Evicted|Priority) = P(Evicted n Priority)/P(Priority)"
   ]
  },
  {
   "cell_type": "code",
   "execution_count": 41,
   "metadata": {},
   "outputs": [],
   "source": [
    "prievic = task_events.select(task_events.priority.cast('int'), task_events.event_type.cast('int'))"
   ]
  },
  {
   "cell_type": "code",
   "execution_count": 27,
   "metadata": {},
   "outputs": [],
   "source": [
    "def prob_evic_priority(priority):\n",
    "    return (\n",
    "        prievic.select(prievic['*']).where((prievic.event_type == 2) & (prievic.priority == priority)).count() /\n",
    "        float(prievic.select(prievic['*']).where(prievic.priority == priority).count())\n",
    "    )"
   ]
  },
  {
   "cell_type": "code",
   "execution_count": 42,
   "metadata": {},
   "outputs": [
    {
     "name": "stderr",
     "output_type": "stream",
     "text": []
    },
    {
     "data": {
      "image/png": "[encoded data removed]",
      "text/plain": [
       "<Figure size 432x288 with 1 Axes>"
      ]
     },
     "metadata": {
      "needs_background": "light"
     },
     "output_type": "display_data"
    }
   ],
   "source": [
    "priorities = sorted([x[0] for x in prievic.select(prievic.priority).distinct().collect()])\n",
    "probs = [prob_evic_priority(p) for p in priorities]\n",
    "sns.lineplot(x=priorities, y=[x*100 for x in probs]);"
   ]
  }
 ],
 "metadata": {
  "interpreter": {
   "hash": "916dbcbb3f70747c44a77c7bcd40155683ae19c65e1c03b4aa3499c5328201f1"
  },
  "kernelspec": {
   "display_name": "Python 3.8.10 64-bit",
   "language": "python",
   "name": "python3"
  },
  "language_info": {
   "codemirror_mode": {
    "name": "ipython",
    "version": 3
   },
   "file_extension": ".py",
   "mimetype": "text/x-python",
   "name": "python",
   "nbconvert_exporter": "python",
   "pygments_lexer": "ipython3",
   "version": "3.8.10"
  },
  "orig_nbformat": 4
 },
 "nbformat": 4,
 "nbformat_minor": 2
}
